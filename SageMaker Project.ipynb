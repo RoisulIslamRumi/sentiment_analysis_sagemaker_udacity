{
 "cells": [
  {
   "cell_type": "markdown",
   "metadata": {},
   "source": [
    "# Creating a Sentiment Analysis Web App\n",
    "## Using PyTorch and SageMaker\n",
    "\n",
    "_Deep Learning Nanodegree Program | Deployment_\n",
    "\n",
    "---\n",
    "\n",
    "Now that we have a basic understanding of how SageMaker works we will try to use it to construct a complete project from end to end. Our goal will be to have a simple web page which a user can use to enter a movie review. The web page will then send the review off to our deployed model which will predict the sentiment of the entered review.\n",
    "\n",
    "## Instructions\n",
    "\n",
    "Some template code has already been provided for you, and you will need to implement additional functionality to successfully complete this notebook. You will not need to modify the included code beyond what is requested. Sections that begin with '**TODO**' in the header indicate that you need to complete or implement some portion within them. Instructions will be provided for each section and the specifics of the implementation are marked in the code block with a `# TODO: ...` comment. Please be sure to read the instructions carefully!\n",
    "\n",
    "In addition to implementing code, there will be questions for you to answer which relate to the task and your implementation. Each section where you will answer a question is preceded by a '**Question:**' header. Carefully read each question and provide your answer below the '**Answer:**' header by editing the Markdown cell.\n",
    "\n",
    "> **Note**: Code and Markdown cells can be executed using the **Shift+Enter** keyboard shortcut. In addition, a cell can be edited by typically clicking it (double-click for Markdown cells) or by pressing **Enter** while it is highlighted.\n",
    "\n",
    "## General Outline\n",
    "\n",
    "Recall the general outline for SageMaker projects using a notebook instance.\n",
    "\n",
    "1. Download or otherwise retrieve the data.\n",
    "2. Process / Prepare the data.\n",
    "3. Upload the processed data to S3.\n",
    "4. Train a chosen model.\n",
    "5. Test the trained model (typically using a batch transform job).\n",
    "6. Deploy the trained model.\n",
    "7. Use the deployed model.\n",
    "\n",
    "For this project, you will be following the steps in the general outline with some modifications. \n",
    "\n",
    "First, you will not be testing the model in its own step. You will still be testing the model, however, you will do it by deploying your model and then using the deployed model by sending the test data to it. One of the reasons for doing this is so that you can make sure that your deployed model is working correctly before moving forward.\n",
    "\n",
    "In addition, you will deploy and use your trained model a second time. In the second iteration you will customize the way that your trained model is deployed by including some of your own code. In addition, your newly deployed model will be used in the sentiment analysis web app."
   ]
  },
  {
   "cell_type": "markdown",
   "metadata": {},
   "source": [
    "## Step 1: Downloading the data\n",
    "\n",
    "As in the XGBoost in SageMaker notebook, we will be using the [IMDb dataset](http://ai.stanford.edu/~amaas/data/sentiment/)\n",
    "\n",
    "> Maas, Andrew L., et al. [Learning Word Vectors for Sentiment Analysis](http://ai.stanford.edu/~amaas/data/sentiment/). In _Proceedings of the 49th Annual Meeting of the Association for Computational Linguistics: Human Language Technologies_. Association for Computational Linguistics, 2011."
   ]
  },
  {
   "cell_type": "code",
   "execution_count": 137,
   "metadata": {},
   "outputs": [
    {
     "name": "stdout",
     "output_type": "stream",
     "text": [
      "mkdir: cannot create directory ‘../data’: File exists\n",
      "--2020-09-25 19:07:20--  http://ai.stanford.edu/~amaas/data/sentiment/aclImdb_v1.tar.gz\n",
      "Resolving ai.stanford.edu (ai.stanford.edu)... 171.64.68.10\n",
      "Connecting to ai.stanford.edu (ai.stanford.edu)|171.64.68.10|:80... connected.\n",
      "HTTP request sent, awaiting response... 200 OK\n",
      "Length: 84125825 (80M) [application/x-gzip]\n",
      "Saving to: ‘../data/aclImdb_v1.tar.gz’\n",
      "\n",
      "../data/aclImdb_v1. 100%[===================>]  80.23M  21.0MB/s    in 6.5s    \n",
      "\n",
      "2020-09-25 19:07:27 (12.3 MB/s) - ‘../data/aclImdb_v1.tar.gz’ saved [84125825/84125825]\n",
      "\n"
     ]
    }
   ],
   "source": [
    "%mkdir ../data\n",
    "!wget -O ../data/aclImdb_v1.tar.gz http://ai.stanford.edu/~amaas/data/sentiment/aclImdb_v1.tar.gz\n",
    "!tar -zxf ../data/aclImdb_v1.tar.gz -C ../data"
   ]
  },
  {
   "cell_type": "markdown",
   "metadata": {},
   "source": [
    "## Step 2: Preparing and Processing the data\n",
    "\n",
    "Also, as in the XGBoost notebook, we will be doing some initial data processing. The first few steps are the same as in the XGBoost example. To begin with, we will read in each of the reviews and combine them into a single input structure. Then, we will split the dataset into a training set and a testing set."
   ]
  },
  {
   "cell_type": "code",
   "execution_count": 138,
   "metadata": {},
   "outputs": [],
   "source": [
    "import os\n",
    "import glob\n",
    "\n",
    "def read_imdb_data(data_dir='../data/aclImdb'):\n",
    "    data = {}\n",
    "    labels = {}\n",
    "    \n",
    "    for data_type in ['train', 'test']:\n",
    "        data[data_type] = {}\n",
    "        labels[data_type] = {}\n",
    "        \n",
    "        for sentiment in ['pos', 'neg']:\n",
    "            data[data_type][sentiment] = []\n",
    "            labels[data_type][sentiment] = []\n",
    "            \n",
    "            path = os.path.join(data_dir, data_type, sentiment, '*.txt')\n",
    "            files = glob.glob(path)\n",
    "            \n",
    "            for f in files:\n",
    "                with open(f) as review:\n",
    "                    data[data_type][sentiment].append(review.read())\n",
    "                    # Here we represent a positive review by '1' and a negative review by '0'\n",
    "                    labels[data_type][sentiment].append(1 if sentiment == 'pos' else 0)\n",
    "                    \n",
    "            assert len(data[data_type][sentiment]) == len(labels[data_type][sentiment]), \\\n",
    "                    \"{}/{} data size does not match labels size\".format(data_type, sentiment)\n",
    "                \n",
    "    return data, labels"
   ]
  },
  {
   "cell_type": "code",
   "execution_count": 139,
   "metadata": {},
   "outputs": [
    {
     "name": "stdout",
     "output_type": "stream",
     "text": [
      "IMDB reviews: train = 12500 pos / 12500 neg, test = 12500 pos / 12500 neg\n"
     ]
    }
   ],
   "source": [
    "data, labels = read_imdb_data()\n",
    "print(\"IMDB reviews: train = {} pos / {} neg, test = {} pos / {} neg\".format(\n",
    "            len(data['train']['pos']), len(data['train']['neg']),\n",
    "            len(data['test']['pos']), len(data['test']['neg'])))"
   ]
  },
  {
   "cell_type": "markdown",
   "metadata": {},
   "source": [
    "Now that we've read the raw training and testing data from the downloaded dataset, we will combine the positive and negative reviews and shuffle the resulting records."
   ]
  },
  {
   "cell_type": "code",
   "execution_count": 140,
   "metadata": {},
   "outputs": [],
   "source": [
    "from sklearn.utils import shuffle\n",
    "\n",
    "def prepare_imdb_data(data, labels):\n",
    "    \"\"\"Prepare training and test sets from IMDb movie reviews.\"\"\"\n",
    "    \n",
    "    #Combine positive and negative reviews and labels\n",
    "    data_train = data['train']['pos'] + data['train']['neg']\n",
    "    data_test = data['test']['pos'] + data['test']['neg']\n",
    "    labels_train = labels['train']['pos'] + labels['train']['neg']\n",
    "    labels_test = labels['test']['pos'] + labels['test']['neg']\n",
    "    \n",
    "    #Shuffle reviews and corresponding labels within training and test sets\n",
    "    data_train, labels_train = shuffle(data_train, labels_train)\n",
    "    data_test, labels_test = shuffle(data_test, labels_test)\n",
    "    \n",
    "    # Return a unified training data, test data, training labels, test labets\n",
    "    return data_train, data_test, labels_train, labels_test"
   ]
  },
  {
   "cell_type": "code",
   "execution_count": 141,
   "metadata": {},
   "outputs": [
    {
     "name": "stdout",
     "output_type": "stream",
     "text": [
      "IMDb reviews (combined): train = 25000, test = 25000\n"
     ]
    }
   ],
   "source": [
    "train_X, test_X, train_y, test_y = prepare_imdb_data(data, labels)\n",
    "print(\"IMDb reviews (combined): train = {}, test = {}\".format(len(train_X), len(test_X)))"
   ]
  },
  {
   "cell_type": "markdown",
   "metadata": {},
   "source": [
    "Now that we have our training and testing sets unified and prepared, we should do a quick check and see an example of the data our model will be trained on. This is generally a good idea as it allows you to see how each of the further processing steps affects the reviews and it also ensures that the data has been loaded correctly."
   ]
  },
  {
   "cell_type": "code",
   "execution_count": 142,
   "metadata": {},
   "outputs": [
    {
     "name": "stdout",
     "output_type": "stream",
     "text": [
      "Best show since Seinfeld. She's really really funny. Her total self centeredness, the hulking gay stoner neighbors, the departures into song or cartoons, make this the freshest show on TV. One of the few shows I make point of watching. The scene with the wise old black lady in the drugstore (\"oh wait now that you're close you do look old\" turns face with finger and walks away lol), the cough syrup overdose, sleeping with God, it's all so funny or so stupid it's just a lot of fun. The shows weak points are her sister and the cop-only because they're too darn normal!! I really can't wait until the next show, something I haven't felt for any show in a long time.\n",
      "1\n"
     ]
    }
   ],
   "source": [
    "print(train_X[100])\n",
    "print(train_y[100])"
   ]
  },
  {
   "cell_type": "markdown",
   "metadata": {},
   "source": [
    "The first step in processing the reviews is to make sure that any html tags that appear should be removed. In addition we wish to tokenize our input, that way words such as *entertained* and *entertaining* are considered the same with regard to sentiment analysis."
   ]
  },
  {
   "cell_type": "code",
   "execution_count": 143,
   "metadata": {},
   "outputs": [],
   "source": [
    "import nltk\n",
    "from nltk.corpus import stopwords\n",
    "from nltk.stem.porter import *\n",
    "\n",
    "import re\n",
    "from bs4 import BeautifulSoup\n",
    "\n",
    "def review_to_words(review):\n",
    "    nltk.download(\"stopwords\", quiet=True)\n",
    "    stemmer = PorterStemmer()\n",
    "    \n",
    "    text = BeautifulSoup(review, \"html.parser\").get_text() # Remove HTML tags\n",
    "    text = re.sub(r\"[^a-zA-Z0-9]\", \" \", text.lower()) # Convert to lower case\n",
    "    words = text.split() # Split string into words\n",
    "    words = [w for w in words if w not in stopwords.words(\"english\")] # Remove stopwords\n",
    "    words = [PorterStemmer().stem(w) for w in words] # stem\n",
    "    \n",
    "    return words"
   ]
  },
  {
   "cell_type": "markdown",
   "metadata": {},
   "source": [
    "The `review_to_words` method defined above uses `BeautifulSoup` to remove any html tags that appear and uses the `nltk` package to tokenize the reviews. As a check to ensure we know how everything is working, try applying `review_to_words` to one of the reviews in the training set."
   ]
  },
  {
   "cell_type": "code",
   "execution_count": 144,
   "metadata": {},
   "outputs": [
    {
     "name": "stdout",
     "output_type": "stream",
     "text": [
      "['best', 'show', 'sinc', 'seinfeld', 'realli', 'realli', 'funni', 'total', 'self', 'centered', 'hulk', 'gay', 'stoner', 'neighbor', 'departur', 'song', 'cartoon', 'make', 'freshest', 'show', 'tv', 'one', 'show', 'make', 'point', 'watch', 'scene', 'wise', 'old', 'black', 'ladi', 'drugstor', 'oh', 'wait', 'close', 'look', 'old', 'turn', 'face', 'finger', 'walk', 'away', 'lol', 'cough', 'syrup', 'overdos', 'sleep', 'god', 'funni', 'stupid', 'lot', 'fun', 'show', 'weak', 'point', 'sister', 'cop', 'darn', 'normal', 'realli', 'wait', 'next', 'show', 'someth', 'felt', 'show', 'long', 'time']\n"
     ]
    }
   ],
   "source": [
    "# TODO: Apply review_to_words to a review (train_X[100] or any other review)\n",
    "words = review_to_words(train_X[100])\n",
    "print(words)"
   ]
  },
  {
   "cell_type": "markdown",
   "metadata": {},
   "source": [
    "**Question:** Above we mentioned that `review_to_words` method removes html formatting and allows us to tokenize the words found in a review, for example, converting *entertained* and *entertaining* into *entertain* so that they are treated as though they are the same word. What else, if anything, does this method do to the input?"
   ]
  },
  {
   "cell_type": "markdown",
   "metadata": {},
   "source": [
    "**Answer:**\n",
    "Apart from removing html formatting and tokenizing the method also does the following:\n",
    "- Converts all the letters to lowercase\n",
    "- Removes unnecessary characters and keeps only numbers and letters\n",
    "- Removes stopwords\n"
   ]
  },
  {
   "cell_type": "markdown",
   "metadata": {},
   "source": [
    "The method below applies the `review_to_words` method to each of the reviews in the training and testing datasets. In addition it caches the results. This is because performing this processing step can take a long time. This way if you are unable to complete the notebook in the current session, you can come back without needing to process the data a second time."
   ]
  },
  {
   "cell_type": "code",
   "execution_count": 145,
   "metadata": {},
   "outputs": [],
   "source": [
    "import pickle\n",
    "\n",
    "cache_dir = os.path.join(\"../cache\", \"sentiment_analysis\")  # where to store cache files\n",
    "os.makedirs(cache_dir, exist_ok=True)  # ensure cache directory exists\n",
    "\n",
    "def preprocess_data(data_train, data_test, labels_train, labels_test,\n",
    "                    cache_dir=cache_dir, cache_file=\"preprocessed_data.pkl\"):\n",
    "    \"\"\"Convert each review to words; read from cache if available.\"\"\"\n",
    "\n",
    "    # If cache_file is not None, try to read from it first\n",
    "    cache_data = None\n",
    "    if cache_file is not None:\n",
    "        try:\n",
    "            with open(os.path.join(cache_dir, cache_file), \"rb\") as f:\n",
    "                cache_data = pickle.load(f)\n",
    "            print(\"Read preprocessed data from cache file:\", cache_file)\n",
    "        except:\n",
    "            pass  # unable to read from cache, but that's okay\n",
    "    \n",
    "    # If cache is missing, then do the heavy lifting\n",
    "    if cache_data is None:\n",
    "        # Preprocess training and test data to obtain words for each review\n",
    "        #words_train = list(map(review_to_words, data_train))\n",
    "        #words_test = list(map(review_to_words, data_test))\n",
    "        words_train = [review_to_words(review) for review in data_train]\n",
    "        words_test = [review_to_words(review) for review in data_test]\n",
    "        \n",
    "        # Write to cache file for future runs\n",
    "        if cache_file is not None:\n",
    "            cache_data = dict(words_train=words_train, words_test=words_test,\n",
    "                              labels_train=labels_train, labels_test=labels_test)\n",
    "            with open(os.path.join(cache_dir, cache_file), \"wb\") as f:\n",
    "                pickle.dump(cache_data, f)\n",
    "            print(\"Wrote preprocessed data to cache file:\", cache_file)\n",
    "    else:\n",
    "        # Unpack data loaded from cache file\n",
    "        words_train, words_test, labels_train, labels_test = (cache_data['words_train'],\n",
    "                cache_data['words_test'], cache_data['labels_train'], cache_data['labels_test'])\n",
    "    \n",
    "    return words_train, words_test, labels_train, labels_test"
   ]
  },
  {
   "cell_type": "code",
   "execution_count": 146,
   "metadata": {},
   "outputs": [
    {
     "name": "stdout",
     "output_type": "stream",
     "text": [
      "Read preprocessed data from cache file: preprocessed_data.pkl\n"
     ]
    }
   ],
   "source": [
    "# Preprocess data\n",
    "train_X, test_X, train_y, test_y = preprocess_data(train_X, test_X, train_y, test_y)"
   ]
  },
  {
   "cell_type": "markdown",
   "metadata": {},
   "source": [
    "## Transform the data\n",
    "\n",
    "In the XGBoost notebook we transformed the data from its word representation to a bag-of-words feature representation. For the model we are going to construct in this notebook we will construct a feature representation which is very similar. To start, we will represent each word as an integer. Of course, some of the words that appear in the reviews occur very infrequently and so likely don't contain much information for the purposes of sentiment analysis. The way we will deal with this problem is that we will fix the size of our working vocabulary and we will only include the words that appear most frequently. We will then combine all of the infrequent words into a single category and, in our case, we will label it as `1`.\n",
    "\n",
    "Since we will be using a recurrent neural network, it will be convenient if the length of each review is the same. To do this, we will fix a size for our reviews and then pad short reviews with the category 'no word' (which we will label `0`) and truncate long reviews."
   ]
  },
  {
   "cell_type": "markdown",
   "metadata": {},
   "source": [
    "### (TODO) Create a word dictionary\n",
    "\n",
    "To begin with, we need to construct a way to map words that appear in the reviews to integers. Here we fix the size of our vocabulary (including the 'no word' and 'infrequent' categories) to be `5000` but you may wish to change this to see how it affects the model.\n",
    "\n",
    "> **TODO:** Complete the implementation for the `build_dict()` method below. Note that even though the vocab_size is set to `5000`, we only want to construct a mapping for the most frequently appearing `4998` words. This is because we want to reserve the special labels `0` for 'no word' and `1` for 'infrequent word'."
   ]
  },
  {
   "cell_type": "code",
   "execution_count": 147,
   "metadata": {},
   "outputs": [],
   "source": [
    "import numpy as np\n",
    "from collections import Counter, OrderedDict\n",
    "\n",
    "def build_dict(data, vocab_size = 5000):\n",
    "    \"\"\"Construct and return a dictionary mapping each of the most frequently appearing words to a unique integer.\"\"\"\n",
    "    \n",
    "    # TODO: Determine how often each word appears in `data`. Note that `data` is a list of sentences and that a\n",
    "    #       sentence is a list of words.\n",
    "    word_counter_obj = Counter()\n",
    "    for review in data: # For each review in data\n",
    "        word_counter_obj.update(review) #count frequency of words\n",
    "        \n",
    "    word_count = dict(word_counter_obj.most_common()) # A dict storing the words that appear in the reviews along with how often they occur\n",
    "    #print(word_count)\n",
    "    #print(type(word_count))\n",
    "    # TODO: Sort the words found in `data` so that sorted_words[0] is the most frequently appearing word and\n",
    "    #       sorted_words[-1] is the least frequently appearing word.\n",
    "    sorted_words = list(word_count.keys())\n",
    "    \n",
    "    word_dict = {} # This is what we are building, a dictionary that translates words into integers\n",
    "    for idx, word in enumerate(sorted_words[:vocab_size - 2]): # The -2 is so that we save room for the 'no word'\n",
    "        word_dict[word] = idx + 2                              # 'infrequent' labels\n",
    "        \n",
    "    return word_dict"
   ]
  },
  {
   "cell_type": "code",
   "execution_count": 148,
   "metadata": {
    "scrolled": true
   },
   "outputs": [
    {
     "name": "stdout",
     "output_type": "stream",
     "text": [
      "{'movi': 2, 'film': 3, 'one': 4, 'like': 5, 'time': 6, 'good': 7, 'make': 8, 'charact': 9, 'get': 10, 'see': 11, 'watch': 12, 'stori': 13, 'even': 14, 'would': 15, 'realli': 16, 'well': 17, 'scene': 18, 'look': 19, 'show': 20, 'much': 21, 'end': 22, 'peopl': 23, 'bad': 24, 'go': 25, 'great': 26, 'also': 27, 'first': 28, 'love': 29, 'think': 30, 'way': 31, 'act': 32, 'play': 33, 'made': 34, 'thing': 35, 'could': 36, 'know': 37, 'say': 38, 'seem': 39, 'work': 40, 'plot': 41, 'two': 42, 'actor': 43, 'year': 44, 'come': 45, 'mani': 46, 'seen': 47, 'take': 48, 'life': 49, 'want': 50, 'never': 51, 'littl': 52, 'best': 53, 'tri': 54, 'man': 55, 'ever': 56, 'give': 57, 'better': 58, 'still': 59, 'perform': 60, 'find': 61, 'feel': 62, 'part': 63, 'back': 64, 'use': 65, 'someth': 66, 'director': 67, 'actual': 68, 'interest': 69, 'lot': 70, 'real': 71, 'old': 72, 'cast': 73, 'though': 74, 'live': 75, 'star': 76, 'enjoy': 77, 'guy': 78, 'anoth': 79, 'new': 80, 'role': 81, 'noth': 82, '10': 83, 'funni': 84, 'music': 85, 'point': 86, 'start': 87, 'set': 88, 'girl': 89, 'origin': 90, 'day': 91, 'world': 92, 'everi': 93, 'believ': 94, 'turn': 95, 'quit': 96, 'us': 97, 'direct': 98, 'thought': 99, 'fact': 100, 'minut': 101, 'horror': 102, 'kill': 103, 'action': 104, 'comedi': 105, 'pretti': 106, 'young': 107, 'wonder': 108, 'happen': 109, 'around': 110, 'got': 111, 'effect': 112, 'right': 113, 'long': 114, 'howev': 115, 'big': 116, 'line': 117, 'famili': 118, 'enough': 119, 'seri': 120, 'may': 121, 'need': 122, 'fan': 123, 'bit': 124, 'script': 125, 'beauti': 126, 'person': 127, 'becom': 128, 'without': 129, 'must': 130, 'alway': 131, 'friend': 132, 'tell': 133, 'reason': 134, 'saw': 135, 'last': 136, 'final': 137, 'kid': 138, 'almost': 139, 'put': 140, 'least': 141, 'sure': 142, 'done': 143, 'whole': 144, 'place': 145, 'complet': 146, 'kind': 147, 'differ': 148, 'expect': 149, 'shot': 150, 'far': 151, 'mean': 152, 'anyth': 153, 'book': 154, 'laugh': 155, 'might': 156, 'name': 157, 'sinc': 158, 'begin': 159, '2': 160, 'probabl': 161, 'woman': 162, 'help': 163, 'entertain': 164, 'let': 165, 'screen': 166, 'call': 167, 'tv': 168, 'moment': 169, 'away': 170, 'read': 171, 'yet': 172, 'rather': 173, 'worst': 174, 'run': 175, 'fun': 176, 'lead': 177, 'hard': 178, 'audienc': 179, 'idea': 180, 'anyon': 181, 'episod': 182, 'american': 183, 'found': 184, 'appear': 185, 'bore': 186, 'especi': 187, 'although': 188, 'hope': 189, 'cours': 190, 'keep': 191, 'anim': 192, 'job': 193, 'goe': 194, 'move': 195, 'sens': 196, 'dvd': 197, 'version': 198, 'war': 199, 'money': 200, 'someon': 201, 'mind': 202, 'mayb': 203, 'problem': 204, 'true': 205, 'hous': 206, 'everyth': 207, 'nice': 208, 'second': 209, 'rate': 210, 'three': 211, 'night': 212, 'face': 213, 'follow': 214, 'recommend': 215, 'main': 216, 'product': 217, 'worth': 218, 'leav': 219, 'human': 220, 'special': 221, 'excel': 222, 'togeth': 223, 'wast': 224, 'sound': 225, 'everyon': 226, 'john': 227, 'hand': 228, '1': 229, 'father': 230, 'later': 231, 'eye': 232, 'said': 233, 'view': 234, 'instead': 235, 'review': 236, 'boy': 237, 'high': 238, 'hour': 239, 'miss': 240, 'classic': 241, 'talk': 242, 'wife': 243, 'understand': 244, 'left': 245, 'care': 246, 'black': 247, 'death': 248, 'open': 249, 'murder': 250, 'write': 251, 'half': 252, 'head': 253, 'rememb': 254, 'chang': 255, 'viewer': 256, 'fight': 257, 'gener': 258, 'surpris': 259, 'includ': 260, 'short': 261, 'die': 262, 'fall': 263, 'less': 264, 'els': 265, 'entir': 266, 'piec': 267, 'involv': 268, 'pictur': 269, 'simpli': 270, 'top': 271, 'power': 272, 'home': 273, 'total': 274, 'usual': 275, 'budget': 276, 'attempt': 277, 'suppos': 278, 'releas': 279, 'hollywood': 280, 'terribl': 281, 'song': 282, 'men': 283, 'possibl': 284, 'featur': 285, 'portray': 286, 'disappoint': 287, 'poor': 288, '3': 289, 'coupl': 290, 'camera': 291, 'stupid': 292, 'dead': 293, 'wrong': 294, 'produc': 295, 'low': 296, 'video': 297, 'either': 298, 'aw': 299, 'definit': 300, 'except': 301, 'rest': 302, 'given': 303, 'absolut': 304, 'women': 305, 'lack': 306, 'word': 307, 'writer': 308, 'titl': 309, 'talent': 310, 'decid': 311, 'full': 312, 'perfect': 313, 'along': 314, 'style': 315, 'close': 316, 'truli': 317, 'school': 318, 'emot': 319, 'save': 320, 'age': 321, 'sex': 322, 'next': 323, 'bring': 324, 'mr': 325, 'case': 326, 'killer': 327, 'heart': 328, 'comment': 329, 'sort': 330, 'creat': 331, 'perhap': 332, 'came': 333, 'brother': 334, 'sever': 335, 'joke': 336, 'art': 337, 'dialogu': 338, 'game': 339, 'small': 340, 'base': 341, 'flick': 342, 'written': 343, 'sequenc': 344, 'meet': 345, 'earli': 346, 'often': 347, 'other': 348, 'mother': 349, 'develop': 350, 'humor': 351, 'actress': 352, 'consid': 353, 'dark': 354, 'guess': 355, 'amaz': 356, 'unfortun': 357, 'lost': 358, 'light': 359, 'exampl': 360, 'cinema': 361, 'drama': 362, 'white': 363, 'ye': 364, 'experi': 365, 'imagin': 366, 'mention': 367, 'stop': 368, 'natur': 369, 'forc': 370, 'manag': 371, 'felt': 372, 'present': 373, 'cut': 374, 'children': 375, 'fail': 376, 'son': 377, 'qualiti': 378, 'support': 379, 'car': 380, 'ask': 381, 'hit': 382, 'side': 383, 'voic': 384, 'extrem': 385, 'impress': 386, 'evil': 387, 'wors': 388, 'stand': 389, 'went': 390, 'certainli': 391, 'basic': 392, 'oh': 393, 'overal': 394, 'favorit': 395, 'horribl': 396, 'mysteri': 397, 'number': 398, 'type': 399, 'danc': 400, 'wait': 401, 'hero': 402, 'alreadi': 403, '5': 404, 'learn': 405, 'matter': 406, '4': 407, 'michael': 408, 'genr': 409, 'fine': 410, 'despit': 411, 'throughout': 412, 'walk': 413, 'success': 414, 'histori': 415, 'question': 416, 'zombi': 417, 'town': 418, 'relationship': 419, 'realiz': 420, 'child': 421, 'past': 422, 'daughter': 423, 'late': 424, 'b': 425, 'wish': 426, 'credit': 427, 'hate': 428, 'event': 429, 'theme': 430, 'touch': 431, 'citi': 432, 'today': 433, 'sometim': 434, 'behind': 435, 'god': 436, 'twist': 437, 'sit': 438, 'stay': 439, 'annoy': 440, 'deal': 441, 'abl': 442, 'rent': 443, 'pleas': 444, 'edit': 445, 'blood': 446, 'deserv': 447, 'comic': 448, 'anyway': 449, 'appar': 450, 'soon': 451, 'gave': 452, 'etc': 453, 'level': 454, 'slow': 455, 'chanc': 456, 'score': 457, 'bodi': 458, 'brilliant': 459, 'incred': 460, 'figur': 461, 'situat': 462, 'major': 463, 'self': 464, 'stuff': 465, 'decent': 466, 'element': 467, 'return': 468, 'dream': 469, 'obvious': 470, 'continu': 471, 'order': 472, 'pace': 473, 'ridicul': 474, 'happi': 475, 'highli': 476, 'group': 477, 'add': 478, 'thank': 479, 'ladi': 480, 'novel': 481, 'speak': 482, 'pain': 483, 'career': 484, 'shoot': 485, 'strang': 486, 'heard': 487, 'sad': 488, 'husband': 489, 'polic': 490, 'import': 491, 'break': 492, 'took': 493, 'strong': 494, 'cannot': 495, 'robert': 496, 'predict': 497, 'violenc': 498, 'hilari': 499, 'recent': 500, 'countri': 501, 'known': 502, 'particularli': 503, 'pick': 504, 'documentari': 505, 'season': 506, 'critic': 507, 'jame': 508, 'compar': 509, 'alon': 510, 'obviou': 511, 'told': 512, 'state': 513, 'visual': 514, 'rock': 515, 'theater': 516, 'exist': 517, 'offer': 518, 'opinion': 519, 'gore': 520, 'hold': 521, 'crap': 522, 'result': 523, 'realiti': 524, 'room': 525, 'hear': 526, 'effort': 527, 'clich': 528, 'thriller': 529, 'caus': 530, 'explain': 531, 'serious': 532, 'sequel': 533, 'king': 534, 'local': 535, 'ago': 536, 'hell': 537, 'none': 538, 'note': 539, 'allow': 540, 'sister': 541, 'david': 542, 'simpl': 543, 'femal': 544, 'deliv': 545, 'ok': 546, 'class': 547, 'convinc': 548, 'check': 549, 'suspens': 550, 'win': 551, 'oscar': 552, 'buy': 553, 'huge': 554, 'valu': 555, 'sexual': 556, 'cool': 557, 'scari': 558, 'similar': 559, 'excit': 560, 'apart': 561, 'exactli': 562, 'provid': 563, 'shown': 564, 'avoid': 565, 'seriou': 566, 'english': 567, 'whose': 568, 'taken': 569, 'cinematographi': 570, 'shock': 571, 'polit': 572, 'spoiler': 573, 'offic': 574, 'across': 575, 'middl': 576, 'pass': 577, 'street': 578, 'messag': 579, 'charm': 580, 'somewhat': 581, 'silli': 582, 'modern': 583, 'filmmak': 584, 'confus': 585, 'form': 586, 'tale': 587, 'singl': 588, 'jack': 589, 'mostli': 590, 'carri': 591, 'william': 592, 'attent': 593, 'sing': 594, 'five': 595, 'subject': 596, 'richard': 597, 'prove': 598, 'stage': 599, 'team': 600, 'unlik': 601, 'cop': 602, 'georg': 603, 'monster': 604, 'televis': 605, 'earth': 606, 'villain': 607, 'cover': 608, 'pay': 609, 'marri': 610, 'toward': 611, 'build': 612, 'parent': 613, 'pull': 614, 'due': 615, 'respect': 616, 'fill': 617, 'dialog': 618, 'four': 619, 'remind': 620, 'futur': 621, 'typic': 622, 'weak': 623, '7': 624, 'cheap': 625, 'intellig': 626, 'atmospher': 627, 'british': 628, 'clearli': 629, '80': 630, 'non': 631, 'dog': 632, 'paul': 633, 'fast': 634, '8': 635, 'artist': 636, 'knew': 637, 'crime': 638, 'easili': 639, 'escap': 640, 'doubt': 641, 'adult': 642, 'detail': 643, 'date': 644, 'romant': 645, 'member': 646, 'fire': 647, 'drive': 648, 'gun': 649, 'straight': 650, 'beyond': 651, 'fit': 652, 'attack': 653, 'imag': 654, 'upon': 655, 'posit': 656, 'whether': 657, 'peter': 658, 'fantast': 659, 'appreci': 660, 'captur': 661, 'aspect': 662, 'ten': 663, 'plan': 664, 'discov': 665, 'remain': 666, 'period': 667, 'near': 668, 'realist': 669, 'air': 670, 'mark': 671, 'red': 672, 'dull': 673, 'adapt': 674, 'within': 675, 'lose': 676, 'spend': 677, 'materi': 678, 'color': 679, 'chase': 680, 'mari': 681, 'storylin': 682, 'forget': 683, 'bunch': 684, 'clear': 685, 'lee': 686, 'victim': 687, 'nearli': 688, 'box': 689, 'york': 690, 'match': 691, 'inspir': 692, 'finish': 693, 'mess': 694, 'standard': 695, 'easi': 696, 'truth': 697, 'suffer': 698, 'busi': 699, 'space': 700, 'dramat': 701, 'bill': 702, 'western': 703, 'e': 704, 'list': 705, 'battl': 706, 'notic': 707, 'de': 708, 'french': 709, 'ad': 710, '9': 711, 'tom': 712, 'larg': 713, 'among': 714, 'eventu': 715, 'accept': 716, 'train': 717, 'agre': 718, 'soundtrack': 719, 'spirit': 720, 'third': 721, 'teenag': 722, 'adventur': 723, 'soldier': 724, 'famou': 725, 'sorri': 726, 'drug': 727, 'suggest': 728, 'babi': 729, 'cri': 730, 'normal': 731, 'troubl': 732, 'ultim': 733, 'contain': 734, 'certain': 735, 'cultur': 736, 'romanc': 737, 'rare': 738, 'lame': 739, 'somehow': 740, 'disney': 741, 'mix': 742, 'gone': 743, 'cartoon': 744, 'student': 745, 'fear': 746, 'reveal': 747, 'kept': 748, 'suck': 749, 'attract': 750, 'appeal': 751, 'premis': 752, 'design': 753, 'greatest': 754, 'secret': 755, 'shame': 756, 'throw': 757, 'copi': 758, 'scare': 759, 'wit': 760, 'admit': 761, 'america': 762, 'relat': 763, 'particular': 764, 'brought': 765, 'screenplay': 766, 'whatev': 767, 'pure': 768, '70': 769, 'harri': 770, 'averag': 771, 'master': 772, 'describ': 773, 'male': 774, 'treat': 775, '20': 776, 'issu': 777, 'fantasi': 778, 'warn': 779, 'inde': 780, 'forward': 781, 'background': 782, 'project': 783, 'free': 784, 'memor': 785, 'japanes': 786, 'poorli': 787, 'award': 788, 'locat': 789, 'amus': 790, 'potenti': 791, 'struggl': 792, 'weird': 793, 'magic': 794, 'societi': 795, 'okay': 796, 'imdb': 797, 'accent': 798, 'doctor': 799, 'hot': 800, 'water': 801, '30': 802, 'dr': 803, 'express': 804, 'alien': 805, 'odd': 806, 'choic': 807, 'crazi': 808, 'fiction': 809, 'studio': 810, 'becam': 811, 'control': 812, 'masterpiec': 813, 'difficult': 814, 'fli': 815, 'joe': 816, 'scream': 817, 'costum': 818, 'lover': 819, 'refer': 820, 'uniqu': 821, 'remak': 822, 'vampir': 823, 'girlfriend': 824, 'prison': 825, 'execut': 826, 'wear': 827, 'jump': 828, 'unless': 829, 'wood': 830, 'creepi': 831, 'cheesi': 832, 'superb': 833, 'otherwis': 834, 'parti': 835, 'ghost': 836, 'roll': 837, 'public': 838, 'mad': 839, 'depict': 840, 'moral': 841, 'week': 842, 'badli': 843, 'earlier': 844, 'jane': 845, 'dumb': 846, 'fi': 847, 'grow': 848, 'flaw': 849, 'deep': 850, 'sci': 851, 'maker': 852, 'cat': 853, 'older': 854, 'connect': 855, 'footag': 856, 'bother': 857, 'plenti': 858, 'outsid': 859, 'stick': 860, 'gay': 861, 'catch': 862, 'plu': 863, 'co': 864, 'popular': 865, 'equal': 866, 'social': 867, 'quickli': 868, 'disturb': 869, 'perfectli': 870, 'dress': 871, '90': 872, 'era': 873, 'mistak': 874, 'lie': 875, 'ride': 876, 'previou': 877, 'combin': 878, 'concept': 879, 'band': 880, 'rich': 881, 'surviv': 882, 'answer': 883, 'front': 884, 'sweet': 885, 'christma': 886, 'insid': 887, 'eat': 888, 'bare': 889, 'concern': 890, 'ben': 891, 'listen': 892, 'beat': 893, 'c': 894, 'serv': 895, 'term': 896, 'la': 897, 'german': 898, 'meant': 899, 'stereotyp': 900, 'hardli': 901, 'law': 902, 'innoc': 903, 'desper': 904, 'memori': 905, 'promis': 906, 'intent': 907, 'cute': 908, 'variou': 909, 'steal': 910, 'inform': 911, 'brain': 912, 'post': 913, 'tone': 914, 'island': 915, 'amount': 916, 'compani': 917, 'track': 918, 'nuditi': 919, 'claim': 920, 'store': 921, 'flat': 922, '50': 923, 'hair': 924, 'univers': 925, 'land': 926, 'kick': 927, 'fairli': 928, 'danger': 929, 'scott': 930, 'player': 931, 'plain': 932, 'step': 933, 'crew': 934, 'toni': 935, 'share': 936, 'centuri': 937, 'tast': 938, 'achiev': 939, 'engag': 940, 'cold': 941, 'travel': 942, 'suit': 943, 'rip': 944, 'record': 945, 'sadli': 946, 'manner': 947, 'spot': 948, 'tension': 949, 'wrote': 950, 'fascin': 951, 'intens': 952, 'familiar': 953, 'depth': 954, 'remark': 955, 'burn': 956, 'histor': 957, 'destroy': 958, 'sleep': 959, 'purpos': 960, 'languag': 961, 'ruin': 962, 'ignor': 963, 'delight': 964, 'italian': 965, 'unbeliev': 966, 'soul': 967, 'collect': 968, 'abil': 969, 'detect': 970, 'clever': 971, 'violent': 972, 'rape': 973, 'reach': 974, 'door': 975, 'scienc': 976, 'trash': 977, 'liter': 978, 'caught': 979, 'reveng': 980, 'commun': 981, 'creatur': 982, 'approach': 983, 'trip': 984, 'fashion': 985, 'intrigu': 986, 'introduc': 987, 'paint': 988, 'skill': 989, 'channel': 990, 'complex': 991, 'camp': 992, 'christian': 993, 'hole': 994, 'extra': 995, 'ann': 996, 'mental': 997, 'immedi': 998, 'limit': 999, 'mere': 1000, '6': 1001, 'slightli': 1002, 'comput': 1003, 'million': 1004, 'slasher': 1005, 'conclus': 1006, 'suddenli': 1007, 'imposs': 1008, 'neither': 1009, 'crimin': 1010, 'teen': 1011, 'spent': 1012, 'nation': 1013, 'physic': 1014, 'respons': 1015, 'planet': 1016, 'fake': 1017, 'receiv': 1018, 'sick': 1019, 'blue': 1020, 'bizarr': 1021, 'embarrass': 1022, 'indian': 1023, '15': 1024, 'ring': 1025, 'pop': 1026, 'drop': 1027, 'drag': 1028, 'haunt': 1029, 'suspect': 1030, 'pointless': 1031, 'search': 1032, 'edg': 1033, 'handl': 1034, 'biggest': 1035, 'common': 1036, 'arriv': 1037, 'faith': 1038, 'hurt': 1039, 'technic': 1040, 'angel': 1041, 'dad': 1042, 'genuin': 1043, 'awesom': 1044, 'solid': 1045, 'f': 1046, 'colleg': 1047, 'van': 1048, 'focu': 1049, 'former': 1050, 'count': 1051, 'tear': 1052, 'heavi': 1053, 'wall': 1054, 'rais': 1055, 'visit': 1056, 'laughabl': 1057, 'younger': 1058, 'fair': 1059, 'sign': 1060, 'excus': 1061, 'cult': 1062, 'motion': 1063, 'key': 1064, 'tough': 1065, 'desir': 1066, 'super': 1067, 'addit': 1068, 'stun': 1069, 'cloth': 1070, 'exploit': 1071, 'smith': 1072, 'tortur': 1073, 'race': 1074, 'davi': 1075, 'cross': 1076, 'author': 1077, 'jim': 1078, 'minor': 1079, 'compel': 1080, 'focus': 1081, 'consist': 1082, 'chemistri': 1083, 'commit': 1084, 'pathet': 1085, 'park': 1086, 'tradit': 1087, 'frank': 1088, 'obsess': 1089, 'grade': 1090, '60': 1091, 'asid': 1092, 'brutal': 1093, 'steve': 1094, 'somewher': 1095, 'depress': 1096, 'explor': 1097, 'opportun': 1098, 'grant': 1099, 'rule': 1100, 'u': 1101, 'besid': 1102, 'honest': 1103, 'anti': 1104, 'dub': 1105, 'intend': 1106, 'trailer': 1107, 'bar': 1108, 'regard': 1109, 'scientist': 1110, 'west': 1111, 'longer': 1112, 'judg': 1113, 'decad': 1114, 'silent': 1115, 'creativ': 1116, 'armi': 1117, 'wild': 1118, 'south': 1119, 'g': 1120, 'stewart': 1121, 'draw': 1122, 'road': 1123, 'govern': 1124, 'boss': 1125, 'ex': 1126, 'practic': 1127, 'gang': 1128, 'surprisingli': 1129, 'festiv': 1130, 'motiv': 1131, 'club': 1132, 'london': 1133, 'redeem': 1134, 'page': 1135, 'green': 1136, 'machin': 1137, 'display': 1138, 'idiot': 1139, 'militari': 1140, 'aliv': 1141, 'repeat': 1142, 'thrill': 1143, '100': 1144, 'nobodi': 1145, 'folk': 1146, 'yeah': 1147, '40': 1148, 'garbag': 1149, 'journey': 1150, 'smile': 1151, 'tire': 1152, 'ground': 1153, 'mood': 1154, 'bought': 1155, 'stone': 1156, 'cost': 1157, 'sam': 1158, 'mouth': 1159, 'noir': 1160, 'terrif': 1161, 'agent': 1162, 'utterli': 1163, 'requir': 1164, 'sexi': 1165, 'area': 1166, 'honestli': 1167, 'report': 1168, 'geniu': 1169, 'glad': 1170, 'humour': 1171, 'enter': 1172, 'investig': 1173, 'serial': 1174, 'passion': 1175, 'occasion': 1176, 'narr': 1177, 'climax': 1178, 'marriag': 1179, 'studi': 1180, 'industri': 1181, 'nowher': 1182, 'center': 1183, 'ship': 1184, 'charli': 1185, 'demon': 1186, 'bear': 1187, 'hors': 1188, 'loos': 1189, 'wow': 1190, 'hang': 1191, 'graphic': 1192, 'giant': 1193, 'admir': 1194, 'send': 1195, 'loud': 1196, 'damn': 1197, 'profession': 1198, 'subtl': 1199, 'rel': 1200, 'nake': 1201, 'blow': 1202, 'bottom': 1203, 'batman': 1204, 'insult': 1205, 'doubl': 1206, 'kelli': 1207, 'r': 1208, 'boyfriend': 1209, 'initi': 1210, 'frame': 1211, 'gem': 1212, 'opera': 1213, 'drawn': 1214, 'affect': 1215, 'cinemat': 1216, 'challeng': 1217, 'church': 1218, 'evid': 1219, 'seek': 1220, 'j': 1221, 'nightmar': 1222, 'l': 1223, 'fulli': 1224, 'conflict': 1225, 'essenti': 1226, 'arm': 1227, 'christoph': 1228, 'grace': 1229, 'henri': 1230, 'wind': 1231, 'assum': 1232, 'narrat': 1233, 'witch': 1234, 'push': 1235, 'hunt': 1236, 'chri': 1237, 'wise': 1238, 'repres': 1239, 'nomin': 1240, 'month': 1241, 'hide': 1242, 'sceneri': 1243, 'avail': 1244, 'affair': 1245, 'justic': 1246, 'bond': 1247, 'smart': 1248, 'thu': 1249, 'interview': 1250, 'flashback': 1251, 'outstand': 1252, 'satisfi': 1253, 'constantli': 1254, 'presenc': 1255, 'bed': 1256, 'central': 1257, 'iron': 1258, 'sell': 1259, 'content': 1260, 'everybodi': 1261, 'gag': 1262, 'slowli': 1263, 'hotel': 1264, 'hire': 1265, 'system': 1266, 'individu': 1267, 'adam': 1268, 'hey': 1269, 'charl': 1270, 'thrown': 1271, 'jone': 1272, 'mediocr': 1273, 'allen': 1274, 'lesson': 1275, 'billi': 1276, 'ray': 1277, 'cameo': 1278, 'photographi': 1279, 'pari': 1280, 'fellow': 1281, 'strike': 1282, 'independ': 1283, 'absurd': 1284, 'rise': 1285, 'brief': 1286, 'neg': 1287, 'impact': 1288, 'phone': 1289, 'born': 1290, 'model': 1291, 'ill': 1292, 'spoil': 1293, 'fresh': 1294, 'angl': 1295, 'likabl': 1296, 'abus': 1297, 'hill': 1298, 'discuss': 1299, 'ahead': 1300, 'sight': 1301, 'photograph': 1302, 'sent': 1303, 'logic': 1304, 'blame': 1305, 'shine': 1306, 'occur': 1307, 'bruce': 1308, 'mainli': 1309, 'skip': 1310, 'commerci': 1311, 'forev': 1312, 'surround': 1313, 'segment': 1314, 'teacher': 1315, 'held': 1316, 'zero': 1317, 'blond': 1318, 'satir': 1319, 'resembl': 1320, 'summer': 1321, 'trap': 1322, 'six': 1323, 'fool': 1324, 'ball': 1325, 'queen': 1326, 'sub': 1327, 'twice': 1328, 'tragedi': 1329, 'pack': 1330, 'reaction': 1331, 'bomb': 1332, 'protagonist': 1333, 'will': 1334, 'hospit': 1335, 'mile': 1336, 'sport': 1337, 'vote': 1338, 'drink': 1339, 'trust': 1340, 'jerri': 1341, 'mom': 1342, 'encount': 1343, 'plane': 1344, 'current': 1345, 'station': 1346, 'program': 1347, 'al': 1348, 'martin': 1349, 'celebr': 1350, 'choos': 1351, 'join': 1352, 'tragic': 1353, 'round': 1354, 'favourit': 1355, 'field': 1356, 'lord': 1357, 'vision': 1358, 'jean': 1359, 'robot': 1360, 'tie': 1361, 'arthur': 1362, 'fortun': 1363, 'roger': 1364, 'random': 1365, 'intern': 1366, 'psycholog': 1367, 'dread': 1368, 'improv': 1369, 'epic': 1370, 'nonsens': 1371, 'prefer': 1372, 'legend': 1373, 'formula': 1374, 'highlight': 1375, 'pleasur': 1376, 'tape': 1377, 'dollar': 1378, '11': 1379, 'wide': 1380, 'object': 1381, 'gorgeou': 1382, 'thin': 1383, 'fox': 1384, 'porn': 1385, 'influenc': 1386, 'ugli': 1387, 'buddi': 1388, 'prepar': 1389, 'nasti': 1390, 'ii': 1391, 'warm': 1392, 'reflect': 1393, 'supposedli': 1394, 'progress': 1395, 'youth': 1396, 'worthi': 1397, 'length': 1398, 'latter': 1399, 'unusu': 1400, 'crash': 1401, 'shop': 1402, 'childhood': 1403, 'seven': 1404, 'superior': 1405, 'theatr': 1406, 'remot': 1407, 'funniest': 1408, 'paid': 1409, 'pilot': 1410, 'disgust': 1411, 'fell': 1412, 'convers': 1413, 'trick': 1414, 'castl': 1415, 'disast': 1416, 'rob': 1417, 'gangster': 1418, 'establish': 1419, 'suicid': 1420, 'ident': 1421, 'mine': 1422, 'disappear': 1423, 'heaven': 1424, 'mask': 1425, 'singer': 1426, 'forgotten': 1427, 'tend': 1428, 'decis': 1429, 'heroin': 1430, 'partner': 1431, 'brian': 1432, 'recogn': 1433, 'alan': 1434, 'desert': 1435, 'stuck': 1436, 'p': 1437, 'thoroughli': 1438, 'sky': 1439, 'ms': 1440, 'replac': 1441, 'accur': 1442, 'market': 1443, 'eddi': 1444, 'danni': 1445, 'clue': 1446, 'uncl': 1447, 'commentari': 1448, 'seemingli': 1449, 'andi': 1450, 'jackson': 1451, 'devil': 1452, 'pair': 1453, 'therefor': 1454, 'that': 1455, 'refus': 1456, 'fault': 1457, 'ed': 1458, 'unit': 1459, 'fate': 1460, 'river': 1461, 'accid': 1462, 'tune': 1463, 'afraid': 1464, 'hidden': 1465, 'clean': 1466, 'russian': 1467, 'stephen': 1468, 'instanc': 1469, 'irrit': 1470, 'test': 1471, 'quick': 1472, 'readi': 1473, 'convey': 1474, 'captain': 1475, 'european': 1476, 'insan': 1477, 'frustrat': 1478, 'daniel': 1479, 'wed': 1480, 'rescu': 1481, '1950': 1482, 'food': 1483, 'chines': 1484, 'angri': 1485, 'lock': 1486, 'dirti': 1487, 'joy': 1488, 'price': 1489, 'steven': 1490, 'bland': 1491, 'cage': 1492, 'rang': 1493, 'anymor': 1494, 'wooden': 1495, 'rush': 1496, 'jason': 1497, 'n': 1498, 'news': 1499, 'twenti': 1500, '12': 1501, 'worri': 1502, 'board': 1503, 'led': 1504, 'martial': 1505, 'cgi': 1506, 'hunter': 1507, 'symbol': 1508, 'transform': 1509, 'x': 1510, 'piti': 1511, 'invent': 1512, 'sentiment': 1513, 'onto': 1514, 'johnni': 1515, 'explan': 1516, 'attitud': 1517, 'process': 1518, 'owner': 1519, 'awar': 1520, 'aim': 1521, 'target': 1522, 'necessari': 1523, 'favor': 1524, 'energi': 1525, 'floor': 1526, 'opposit': 1527, 'religi': 1528, 'chick': 1529, 'insight': 1530, 'window': 1531, 'blind': 1532, 'movement': 1533, 'deepli': 1534, 'comparison': 1535, 'mountain': 1536, 'research': 1537, 'possess': 1538, 'grand': 1539, 'comed': 1540, 'rain': 1541, 'whatsoev': 1542, 'mid': 1543, 'began': 1544, 'bank': 1545, 'shadow': 1546, 'parodi': 1547, 'princ': 1548, 'friendship': 1549, 'credibl': 1550, 'weapon': 1551, 'taylor': 1552, 'pre': 1553, 'teach': 1554, 'dougla': 1555, 'flesh': 1556, 'hint': 1557, 'bloodi': 1558, 'terror': 1559, 'protect': 1560, 'marvel': 1561, 'watchabl': 1562, 'leader': 1563, 'accord': 1564, 'drunk': 1565, 'superman': 1566, 'anybodi': 1567, 'load': 1568, 'brown': 1569, 'freddi': 1570, 'tim': 1571, 'seat': 1572, 'hitler': 1573, 'jeff': 1574, 'appropri': 1575, 'knock': 1576, 'charg': 1577, 'unknown': 1578, 'villag': 1579, 'keaton': 1580, 'enemi': 1581, 'unnecessari': 1582, 'empti': 1583, 'england': 1584, 'media': 1585, 'wave': 1586, 'craft': 1587, 'utter': 1588, 'dare': 1589, 'perspect': 1590, 'strength': 1591, 'buck': 1592, 'contrast': 1593, 'nativ': 1594, 'kiss': 1595, 'correct': 1596, 'ford': 1597, 'chill': 1598, 'knowledg': 1599, 'distract': 1600, 'magnific': 1601, 'nazi': 1602, 'speed': 1603, 'soap': 1604, 'anywher': 1605, 'mission': 1606, '1980': 1607, 'fred': 1608, 'ice': 1609, 'breath': 1610, 'jr': 1611, 'joan': 1612, 'moon': 1613, 'crowd': 1614, 'kate': 1615, 'frighten': 1616, '000': 1617, 'soft': 1618, 'dan': 1619, 'hundr': 1620, 'dick': 1621, 'nick': 1622, 'simon': 1623, 'dozen': 1624, 'somebodi': 1625, 'radio': 1626, 'thousand': 1627, 'academi': 1628, 'shakespear': 1629, 'loss': 1630, 'andrew': 1631, 'sum': 1632, 'root': 1633, 'vehicl': 1634, 'quot': 1635, 'account': 1636, 'leg': 1637, 'convent': 1638, 'behavior': 1639, '1970': 1640, 'regular': 1641, 'gold': 1642, 'worker': 1643, 'compet': 1644, 'demand': 1645, 'pretenti': 1646, 'privat': 1647, 'interpret': 1648, 'notabl': 1649, 'explos': 1650, 'lynch': 1651, 'stretch': 1652, 'japan': 1653, 'candi': 1654, 'constant': 1655, 'debut': 1656, 'tarzan': 1657, 'spi': 1658, 'translat': 1659, 'revolv': 1660, 'sea': 1661, 'prais': 1662, 'franc': 1663, 'failur': 1664, 'ass': 1665, 'jesu': 1666, 'threaten': 1667, 'technolog': 1668, 'quiet': 1669, 'sat': 1670, 'kevin': 1671, 'toy': 1672, 'met': 1673, 'higher': 1674, 'aid': 1675, 'punch': 1676, 'interact': 1677, 'abandon': 1678, 'vh': 1679, 'mike': 1680, 'confront': 1681, 'bet': 1682, 'command': 1683, 'separ': 1684, 'site': 1685, 'servic': 1686, 'belong': 1687, 'recal': 1688, 'stunt': 1689, 'gotten': 1690, 'techniqu': 1691, 'cabl': 1692, 'freak': 1693, 'bug': 1694, 'foot': 1695, 'african': 1696, 'bright': 1697, 'jimmi': 1698, 'fu': 1699, 'capabl': 1700, 'fat': 1701, 'presid': 1702, 'succeed': 1703, 'clark': 1704, 'boat': 1705, 'stock': 1706, 'gene': 1707, 'spanish': 1708, 'structur': 1709, 'kidnap': 1710, 'paper': 1711, 'whilst': 1712, 'belief': 1713, 'factor': 1714, 'bob': 1715, 'attend': 1716, 'realism': 1717, 'tree': 1718, 'witti': 1719, 'realis': 1720, 'educ': 1721, 'complic': 1722, 'broken': 1723, 'santa': 1724, 'assist': 1725, 'finest': 1726, 'determin': 1727, 'depart': 1728, 'observ': 1729, 'up': 1730, 'v': 1731, 'smoke': 1732, 'oper': 1733, 'rubbish': 1734, 'domin': 1735, 'hat': 1736, 'lewi': 1737, 'fame': 1738, 'routin': 1739, 'safe': 1740, 'foreign': 1741, 'morgan': 1742, 'lone': 1743, 'hook': 1744, 'advanc': 1745, 'kinda': 1746, 'numer': 1747, 'rank': 1748, 'shape': 1749, 'washington': 1750, 'vs': 1751, 'shallow': 1752, 'rose': 1753, 'civil': 1754, 'werewolf': 1755, 'gari': 1756, 'morn': 1757, 'winner': 1758, 'accomplish': 1759, 'ordinari': 1760, 'kong': 1761, 'whenev': 1762, 'grab': 1763, 'virtual': 1764, 'peac': 1765, 'luck': 1766, 'offens': 1767, 'h': 1768, 'activ': 1769, 'welcom': 1770, 'bigger': 1771, 'patient': 1772, 'contriv': 1773, 'complain': 1774, 'unfunni': 1775, 'pretend': 1776, 'dimension': 1777, 'con': 1778, 'trek': 1779, 'flash': 1780, 'eric': 1781, 'dri': 1782, 'lesbian': 1783, 'code': 1784, 'cain': 1785, 'wake': 1786, 'statu': 1787, 'dancer': 1788, 'corrupt': 1789, 'albert': 1790, 'manipul': 1791, 'guard': 1792, 'signific': 1793, 'gain': 1794, 'awkward': 1795, 'sourc': 1796, 'speech': 1797, 'context': 1798, 'sean': 1799, 'clip': 1800, 'psycho': 1801, 'anthoni': 1802, '13': 1803, 'corni': 1804, 'theatric': 1805, 'advic': 1806, 'reli': 1807, 'w': 1808, 'curiou': 1809, 'priest': 1810, 'religion': 1811, 'addict': 1812, 'flow': 1813, 'specif': 1814, 'howard': 1815, 'jennif': 1816, 'secur': 1817, 'asian': 1818, 'skin': 1819, 'core': 1820, 'promot': 1821, 'golden': 1822, 'comfort': 1823, 'organ': 1824, 'luke': 1825, 'lucki': 1826, 'cheat': 1827, 'cash': 1828, 'associ': 1829, 'dislik': 1830, 'lower': 1831, 'balanc': 1832, 'frequent': 1833, 'devic': 1834, 'degre': 1835, 'contribut': 1836, 'wing': 1837, 'spell': 1838, 'regret': 1839, 'frankli': 1840, 'lake': 1841, 'forgiv': 1842, 'print': 1843, 'sake': 1844, 'thoma': 1845, 'mass': 1846, 'betti': 1847, 'gordon': 1848, 'unexpect': 1849, 'crack': 1850, 'depend': 1851, 'amateur': 1852, 'categori': 1853, 'construct': 1854, 'unfold': 1855, 'invit': 1856, 'grown': 1857, 'walter': 1858, 'grew': 1859, 'intellectu': 1860, 'matur': 1861, 'honor': 1862, 'condit': 1863, 'anna': 1864, 'spectacular': 1865, 'sole': 1866, 'mirror': 1867, 'veteran': 1868, 'sudden': 1869, 'card': 1870, 'freedom': 1871, 'gift': 1872, 'robin': 1873, 'grip': 1874, 'liner': 1875, 'experienc': 1876, 'meanwhil': 1877, 'demonstr': 1878, 'overli': 1879, 'unabl': 1880, 'subtitl': 1881, 'section': 1882, 'brilliantli': 1883, 'crappi': 1884, 'circumst': 1885, 'theori': 1886, 'drew': 1887, 'sheriff': 1888, 'colour': 1889, 'oliv': 1890, 'path': 1891, 'parker': 1892, 'cook': 1893, 'matt': 1894, 'pile': 1895, 'sheer': 1896, 'altern': 1897, 'laughter': 1898, 'treatment': 1899, 'wander': 1900, 'sinatra': 1901, 'accident': 1902, 'relief': 1903, 'defin': 1904, 'hall': 1905, 'lawyer': 1906, 'captiv': 1907, 'dragon': 1908, 'hank': 1909, 'moor': 1910, 'halloween': 1911, 'gratuit': 1912, 'broadway': 1913, 'wayn': 1914, 'barbara': 1915, 'unintent': 1916, 'k': 1917, 'wound': 1918, 'kung': 1919, 'cowboy': 1920, 'jacki': 1921, 'canadian': 1922, 'winter': 1923, 'spoof': 1924, 'surreal': 1925, 'statement': 1926, 'treasur': 1927, 'compos': 1928, 'cheer': 1929, 'fare': 1930, 'fish': 1931, 'gonna': 1932, 'emerg': 1933, 'victor': 1934, 'woodi': 1935, 'unrealist': 1936, 'sensit': 1937, 'sympathet': 1938, 'driven': 1939, 'neighbor': 1940, 'ran': 1941, 'menac': 1942, 'glass': 1943, 'topic': 1944, 'authent': 1945, 'expos': 1946, 'overlook': 1947, 'ancient': 1948, 'gross': 1949, 'michel': 1950, 'chief': 1951, 'handsom': 1952, 'contemporari': 1953, 'feet': 1954, 'built': 1955, 'stranger': 1956, 'pleasant': 1957, 'russel': 1958, 'comedian': 1959, 'nevertheless': 1960, 'network': 1961, 'cinderella': 1962, 'gori': 1963, 'miser': 1964, 'earn': 1965, 'consider': 1966, 'letter': 1967, 'underr': 1968, 'blockbust': 1969, 'endless': 1970, 'solv': 1971, 'switch': 1972, 'brook': 1973, 'victoria': 1974, 'virgin': 1975, 'convict': 1976, 'edward': 1977, 'bullet': 1978, 'joseph': 1979, 'chosen': 1980, 'cynic': 1981, 'alex': 1982, 'scenario': 1983, '0': 1984, 'scale': 1985, 'gut': 1986, 'com': 1987, 'outrag': 1988, 'sword': 1989, 'curs': 1990, 'driver': 1991, 'uk': 1992, 'screenwrit': 1993, 'monkey': 1994, 'wrap': 1995, 'proper': 1996, 'juli': 1997, 'substanc': 1998, 'bird': 1999, 'remov': 2000, 'par': 2001, 'indic': 2002, 'court': 2003, 'naiv': 2004, 'advertis': 2005, 'nanci': 2006, 'inevit': 2007, 'grave': 2008, 'consequ': 2009, 'rental': 2010, 'loser': 2011, 'roy': 2012, 'slap': 2013, 'fatal': 2014, 'invis': 2015, 'brave': 2016, 'le': 2017, 'bridg': 2018, 'germani': 2019, 'ador': 2020, 'anger': 2021, 'loui': 2022, 'footbal': 2023, 'provok': 2024, 'alcohol': 2025, 'anderson': 2026, 'chan': 2027, 'willi': 2028, 'stumbl': 2029, 'ryan': 2030, 'professor': 2031, '1930': 2032, 'patrick': 2033, 'bat': 2034, 'australian': 2035, 'assassin': 2036, 'sharp': 2037, 'trilog': 2038, 'deni': 2039, 'eight': 2040, 'amateurish': 2041, 'saturday': 2042, 'refresh': 2043, 'cell': 2044, 'liber': 2045, 'strongli': 2046, 'heck': 2047, 'ape': 2048, 'lousi': 2049, 'sin': 2050, 'justifi': 2051, 'vagu': 2052, 'resid': 2053, 'san': 2054, 'indi': 2055, 'reput': 2056, 'creator': 2057, 'sympathi': 2058, 'mini': 2059, 'terrifi': 2060, 'defeat': 2061, 'task': 2062, 'expert': 2063, 'tediou': 2064, 'endur': 2065, 'prevent': 2066, 'tabl': 2067, 'rival': 2068, 'trial': 2069, 'imit': 2070, 'offend': 2071, 'che': 2072, 'basebal': 2073, 'employ': 2074, 'complaint': 2075, 'fairi': 2076, 'pitch': 2077, 'weekend': 2078, 'max': 2079, 'beach': 2080, 'dig': 2081, 'europ': 2082, 'murphi': 2083, 'format': 2084, 'purchas': 2085, 'risk': 2086, 'tini': 2087, 'titan': 2088, 'powel': 2089, 'nois': 2090, 'harsh': 2091, 'glimps': 2092, 'reminisc': 2093, 'hype': 2094, 'bite': 2095, 'north': 2096, 'prime': 2097, 'fals': 2098, '14': 2099, 'strip': 2100, 'asleep': 2101, 'till': 2102, 'revel': 2103, 'africa': 2104, 'destruct': 2105, 'texa': 2106, 'descript': 2107, 'spin': 2108, 'sitcom': 2109, 'inner': 2110, 'arrest': 2111, 'semi': 2112, 'surfac': 2113, 'uninterest': 2114, 'excess': 2115, 'argu': 2116, 'hitchcock': 2117, 'massiv': 2118, 'maintain': 2119, 'twin': 2120, 'makeup': 2121, 'controversi': 2122, 'dinosaur': 2123, 'reject': 2124, 'expens': 2125, 'ideal': 2126, 'ludicr': 2127, 'stare': 2128, 'insist': 2129, 'melodrama': 2130, 'kim': 2131, 'press': 2132, 'forest': 2133, 'subplot': 2134, 'columbo': 2135, 'ala': 2136, 'ga': 2137, 'atroci': 2138, 'host': 2139, 'nail': 2140, 'erot': 2141, 'supernatur': 2142, 'dude': 2143, 'cant': 2144, 'identifi': 2145, 'presum': 2146, 'notch': 2147, 'forgett': 2148, 'character': 2149, 'crude': 2150, 'method': 2151, 'plagu': 2152, 'guest': 2153, 'closer': 2154, 'border': 2155, 'princess': 2156, 'foster': 2157, 'ear': 2158, 'beast': 2159, 'landscap': 2160, 'lion': 2161, 'urban': 2162, 'birth': 2163, 'accus': 2164, 'pacino': 2165, 'damag': 2166, 'bound': 2167, 'aunt': 2168, 'jungl': 2169, 'storytel': 2170, 'previous': 2171, 'guid': 2172, 'thirti': 2173, 'chose': 2174, 'emma': 2175, 'nude': 2176, 'doll': 2177, 'jess': 2178, 'propaganda': 2179, 'whoever': 2180, 'mainstream': 2181, 'pet': 2182, '25': 2183, 'warrior': 2184, 'mate': 2185, 'exact': 2186, 'deadli': 2187, 'upset': 2188, 'cooper': 2189, 'friday': 2190, 'latest': 2191, 'poster': 2192, 'merit': 2193, 'size': 2194, 'gritti': 2195, '1990': 2196, 'warner': 2197, 'wilson': 2198, 'popul': 2199, 'blend': 2200, 'rough': 2201, 'citizen': 2202, 'contest': 2203, 'buff': 2204, 'contact': 2205, 'corps': 2206, 'settl': 2207, 'sun': 2208, 'ton': 2209, 'widow': 2210, 'environ': 2211, 'pitt': 2212, 'metal': 2213, 'mgm': 2214, 'overcom': 2215, 'rat': 2216, 'bu': 2217, 'alic': 2218, 'select': 2219, 'link': 2220, 'revolut': 2221, 'lift': 2222, 'particip': 2223, 'ted': 2224, 'guilti': 2225, 'corner': 2226, 'exagger': 2227, 'afternoon': 2228, 'prostitut': 2229, '1960': 2230, 'corpor': 2231, 'moron': 2232, 'accompani': 2233, 'matrix': 2234, 'johnson': 2235, 'instal': 2236, 'leagu': 2237, 'hood': 2238, 'multipl': 2239, 'holm': 2240, 'friendli': 2241, 'sincer': 2242, 'clair': 2243, 'doom': 2244, 'aka': 2245, 'blah': 2246, 'hip': 2247, 'examin': 2248, 'irish': 2249, 'grim': 2250, 'campi': 2251, 'junk': 2252, 'defend': 2253, 'sunday': 2254, 'string': 2255, 'advis': 2256, 'lugosi': 2257, 'rachel': 2258, 'pro': 2259, 'icon': 2260, 'varieti': 2261, 'shake': 2262, 'confid': 2263, 'tight': 2264, 'shut': 2265, 'directli': 2266, 'goal': 2267, 'mexican': 2268, 'attach': 2269, 'denni': 2270, 'medic': 2271, 'jaw': 2272, 'sullivan': 2273, 'vietnam': 2274, 'prior': 2275, 'sentenc': 2276, 'legendari': 2277, 'truck': 2278, 'duke': 2279, 'bourn': 2280, 'breast': 2281, 'dean': 2282, 'terrorist': 2283, 'sarah': 2284, 'courag': 2285, 'donald': 2286, 'proceed': 2287, 'entri': 2288, 'yell': 2289, 'un': 2290, 'nose': 2291, 'hong': 2292, 'split': 2293, 'behav': 2294, 'forth': 2295, 'gather': 2296, 'swim': 2297, 'unconvinc': 2298, 'buri': 2299, 'jerk': 2300, 'crush': 2301, 'borrow': 2302, 'lifetim': 2303, 'concentr': 2304, 'stolen': 2305, 'confess': 2306, 'everywher': 2307, 'deliveri': 2308, 'spite': 2309, 'california': 2310, 'turkey': 2311, 'pan': 2312, 'julia': 2313, 'lip': 2314, 'reward': 2315, 'offici': 2316, 'downright': 2317, 'freeman': 2318, 'china': 2319, 'proud': 2320, 'hoffman': 2321, 'flight': 2322, 'quest': 2323, 'jon': 2324, 'sink': 2325, 'notori': 2326, 'inept': 2327, 'encourag': 2328, 'betray': 2329, 'lazi': 2330, 'sir': 2331, 'worthwhil': 2332, 'fabul': 2333, 'jail': 2334, 'fade': 2335, 'lisa': 2336, 'teeth': 2337, 'shower': 2338, 'imageri': 2339, 'susan': 2340, 'storm': 2341, 'relev': 2342, 'retard': 2343, 'survivor': 2344, 'cousin': 2345, 'bag': 2346, 'branagh': 2347, 'bell': 2348, 'alright': 2349, 'trade': 2350, 'mexico': 2351, 'stab': 2352, 'finger': 2353, 'facial': 2354, 'toler': 2355, 'quirki': 2356, 'tremend': 2357, 'bride': 2358, 'hugh': 2359, 'summari': 2360, 'shark': 2361, 'bitter': 2362, 'hyster': 2363, 'von': 2364, 'blown': 2365, 'pose': 2366, 'ha': 2367, 'address': 2368, 'bone': 2369, 'ron': 2370, 'afterward': 2371, 'larri': 2372, 'cruel': 2373, 'christ': 2374, 'ned': 2375, 'scheme': 2376, 'tour': 2377, 'feed': 2378, 'traci': 2379, 'distinct': 2380, 'thumb': 2381, 'screw': 2382, 'pursu': 2383, 'swear': 2384, 'beg': 2385, 'snake': 2386, 'obscur': 2387, 'occas': 2388, 'raw': 2389, 'chair': 2390, 'stomach': 2391, 'mechan': 2392, 'photo': 2393, 'cabin': 2394, 'chain': 2395, 'southern': 2396, 'gruesom': 2397, 'necessarili': 2398, 'render': 2399, 'heavili': 2400, 'holiday': 2401, 'hardi': 2402, 'resist': 2403, 'argument': 2404, 'sidney': 2405, 'indulg': 2406, 'understood': 2407, 'philip': 2408, 'racist': 2409, 'satan': 2410, 'india': 2411, 'fourth': 2412, 'stalk': 2413, 'outfit': 2414, 'integr': 2415, 'pregnant': 2416, 'tongu': 2417, 'belov': 2418, 'lay': 2419, 'obnoxi': 2420, 'forgot': 2421, 'midnight': 2422, 'carol': 2423, 'restor': 2424, 'ticket': 2425, 'inhabit': 2426, 'slapstick': 2427, '17': 2428, 'deeper': 2429, 'magazin': 2430, 'garden': 2431, 'incid': 2432, 'brad': 2433, 'shoe': 2434, 'devot': 2435, 'lincoln': 2436, 'divorc': 2437, 'lili': 2438, 'sandler': 2439, 'guarante': 2440, 'disbelief': 2441, 'underground': 2442, 'anticip': 2443, 'maria': 2444, 'benefit': 2445, 'elizabeth': 2446, 'bbc': 2447, 'greater': 2448, 'capit': 2449, 'explod': 2450, 'creation': 2451, 'cring': 2452, 'slave': 2453, 'mildli': 2454, 'amazingli': 2455, 'princip': 2456, 'extraordinari': 2457, 'halfway': 2458, 'lesli': 2459, 'funnier': 2460, 'introduct': 2461, 'punish': 2462, 'extent': 2463, 'enhanc': 2464, 'wreck': 2465, 'tap': 2466, 'transfer': 2467, 'overwhelm': 2468, 'advantag': 2469, 'text': 2470, 'lo': 2471, 'jessica': 2472, 'deliber': 2473, 'plant': 2474, 'east': 2475, 'preview': 2476, 'error': 2477, 'horrif': 2478, 'dynam': 2479, 'lane': 2480, 'appli': 2481, 'basi': 2482, 'miscast': 2483, 'sophist': 2484, 'vacat': 2485, 'vincent': 2486, '2000': 2487, 'ensu': 2488, 'homosexu': 2489, 'miller': 2490, 'uncomfort': 2491, 'bollywood': 2492, 'sleazi': 2493, 'elev': 2494, 'reed': 2495, 'measur': 2496, 'steel': 2497, 'mansion': 2498, 'spoken': 2499, 'extend': 2500, 'via': 2501, 'assign': 2502, 'overact': 2503, 'beer': 2504, 'cathol': 2505, 'conceiv': 2506, 'hippi': 2507, 'stanley': 2508, 'breathtak': 2509, 'dentist': 2510, 'savag': 2511, 'blair': 2512, 'daili': 2513, 'melt': 2514, 'fix': 2515, 'alter': 2516, 'mous': 2517, 'goofi': 2518, 'burt': 2519, 'everyday': 2520, 'nowaday': 2521, 'properli': 2522, 'carpent': 2523, 'sacrific': 2524, 'succe': 2525, 'oppos': 2526, 'subsequ': 2527, 'inspector': 2528, 'block': 2529, 'massacr': 2530, 'circl': 2531, 'neck': 2532, 'laura': 2533, 'mob': 2534, 'access': 2535, 'grey': 2536, 'lesser': 2537, 'fallen': 2538, 'pool': 2539, 'portrait': 2540, 'christi': 2541, 'fay': 2542, 'concert': 2543, 'seagal': 2544, 'isol': 2545, 'relax': 2546, 'competit': 2547, 'jake': 2548, 'sinist': 2549, 'react': 2550, 'jewish': 2551, 'usa': 2552, 'chees': 2553, 'nonetheless': 2554, '2006': 2555, 'creep': 2556, 'ironi': 2557, 'stink': 2558, 'immens': 2559, 'lyric': 2560, 'appal': 2561, 'nine': 2562, 'chop': 2563, 'spiritu': 2564, 'suitabl': 2565, 'franchis': 2566, 'adopt': 2567, 'sold': 2568, 'retir': 2569, 'showcas': 2570, 'navi': 2571, 'reduc': 2572, 'needless': 2573, 'rage': 2574, 'shirt': 2575, 'nut': 2576, 'luci': 2577, 'user': 2578, 'spring': 2579, 'jay': 2580, 'zone': 2581, 'bulli': 2582, 'per': 2583, 'digit': 2584, 'bath': 2585, 'stanwyck': 2586, 'nurs': 2587, 'asham': 2588, 'uninspir': 2589, 'illustr': 2590, 'upper': 2591, '2001': 2592, 'sutherland': 2593, 'oddli': 2594, 'broadcast': 2595, '1940': 2596, 'laid': 2597, 'amongst': 2598, 'aspir': 2599, 'stylish': 2600, 'throat': 2601, 'fulfil': 2602, 'brando': 2603, 'baker': 2604, 'disguis': 2605, 'neighborhood': 2606, 'impli': 2607, 'endear': 2608, '18': 2609, 'wanna': 2610, 'pride': 2611, 'pound': 2612, 'thief': 2613, 'nobl': 2614, 'em': 2615, 'wwii': 2616, 'dinner': 2617, 'bo': 2618, 'dawn': 2619, 'coher': 2620, 'prop': 2621, 'distribut': 2622, 'albeit': 2623, 'shift': 2624, 'rochest': 2625, 'tens': 2626, 'shoulder': 2627, '16': 2628, 'cinematograph': 2629, 'diseas': 2630, 'bett': 2631, 'poignant': 2632, 'matthau': 2633, 'snow': 2634, 'function': 2635, 'shout': 2636, 'forti': 2637, 'surf': 2638, 'silenc': 2639, 'knife': 2640, 'wash': 2641, 'rebel': 2642, 'contract': 2643, 'mindless': 2644, 'eeri': 2645, 'height': 2646, 'henc': 2647, 'proof': 2648, 'silver': 2649, 'duti': 2650, 'horrend': 2651, 'cancel': 2652, 'internet': 2653, 'elvira': 2654, 'chuck': 2655, 'cannib': 2656, 'instinct': 2657, 'widmark': 2658, 'reunion': 2659, 'heat': 2660, 'derek': 2661, 'alik': 2662, 'musician': 2663, 'pie': 2664, 'innov': 2665, 'absorb': 2666, 'incoher': 2667, 'greatli': 2668, 'glori': 2669, 'spielberg': 2670, 'etern': 2671, 'mill': 2672, 'premier': 2673, 'elvi': 2674, 'torn': 2675, 'repetit': 2676, 'neat': 2677, 'lovabl': 2678, 'precis': 2679, 'bang': 2680, 'britain': 2681, 'trite': 2682, 'itali': 2683, 'redempt': 2684, 'announc': 2685, 'infam': 2686, 'nelson': 2687, 'homag': 2688, 'diamond': 2689, 'burton': 2690, 'blank': 2691, 'fbi': 2692, 'racism': 2693, 'wealthi': 2694, 'horrifi': 2695, 'crisi': 2696, 'resolut': 2697, 'pat': 2698, 'chaplin': 2699, 'wilder': 2700, 'parallel': 2701, 'hammer': 2702, 'dedic': 2703, 'ensembl': 2704, 'streisand': 2705, 'flop': 2706, 'happili': 2707, 'helen': 2708, 'conclud': 2709, 'factori': 2710, 'disagre': 2711, 'plastic': 2712, 'st': 2713, 'triumph': 2714, 'mar': 2715, 'broke': 2716, 'oil': 2717, 'cube': 2718, 'carter': 2719, 'own': 2720, 'bush': 2721, 'row': 2722, 'rocket': 2723, 'march': 2724, 'climb': 2725, 'fighter': 2726, 'vega': 2727, 'chuckl': 2728, 'weight': 2729, 'kurt': 2730, 'thug': 2731, 'lust': 2732, 'unforgett': 2733, 'meaning': 2734, 'dump': 2735, 'wherea': 2736, 'sensibl': 2737, 'boot': 2738, 'mst3k': 2739, 'dane': 2740, 'spare': 2741, 'luca': 2742, 'enorm': 2743, 'difficulti': 2744, 'rap': 2745, 'caricatur': 2746, 'arnold': 2747, 'dear': 2748, 'engin': 2749, 'threat': 2750, 'stress': 2751, 'adequ': 2752, 'brand': 2753, 'butt': 2754, 'bobbi': 2755, 'karloff': 2756, 'fifti': 2757, 'ego': 2758, 'fest': 2759, 'secretari': 2760, 'journalist': 2761, 'flynn': 2762, 'elabor': 2763, 'polish': 2764, 'homeless': 2765, 'arrog': 2766, 'ralph': 2767, 'barri': 2768, 'hamlet': 2769, 'swing': 2770, 'float': 2771, 'simpson': 2772, 'spike': 2773, 'fanci': 2774, 'arrang': 2775, 'conspiraci': 2776, 'tool': 2777, 'resort': 2778, 'unbear': 2779, 'grate': 2780, 'puppet': 2781, 'induc': 2782, 'muppet': 2783, 'exercis': 2784, 'choreograph': 2785, 'guilt': 2786, 'phillip': 2787, 'basement': 2788, 'cruis': 2789, 'pig': 2790, 'boll': 2791, 'tribut': 2792, 'stan': 2793, 'puzzl': 2794, 'slip': 2795, 'layer': 2796, 'scarecrow': 2797, 'file': 2798, 'ham': 2799, 'toilet': 2800, 'item': 2801, '24': 2802, 'document': 2803, 'editor': 2804, 'ward': 2805, 'medium': 2806, 'tower': 2807, 'korean': 2808, 'babe': 2809, 'fianc': 2810, 'denzel': 2811, 'philosoph': 2812, 'transit': 2813, 'glover': 2814, 'spark': 2815, 'orient': 2816, 'minim': 2817, 'librari': 2818, 'portion': 2819, 'assur': 2820, 'territori': 2821, 'doc': 2822, 'slaughter': 2823, 'larger': 2824, 'superfici': 2825, 'inexplic': 2826, 'catherin': 2827, 'persona': 2828, 'wolf': 2829, 'jeremi': 2830, 'financi': 2831, 'owe': 2832, 'curti': 2833, 'jet': 2834, 'boredom': 2835, 'shi': 2836, 'walken': 2837, 'sneak': 2838, 'pg': 2839, 'ban': 2840, 'dorothi': 2841, 'cusack': 2842, 'metaphor': 2843, 'profound': 2844, 'backdrop': 2845, 'multi': 2846, 'hudson': 2847, 'ambigu': 2848, 'eleph': 2849, 'whale': 2850, 'rave': 2851, 'notion': 2852, 'birthday': 2853, 'union': 2854, 'stiff': 2855, 'gadget': 2856, 'elsewher': 2857, 'hack': 2858, '2005': 2859, 'implaus': 2860, 'viru': 2861, 'ultra': 2862, 'slight': 2863, 'squar': 2864, 'canada': 2865, 'disc': 2866, 'reader': 2867, 'distanc': 2868, 'afford': 2869, 'newspap': 2870, 'superhero': 2871, 'deriv': 2872, 'hawk': 2873, 'bibl': 2874, '1st': 2875, 'urg': 2876, 'eastwood': 2877, 'pad': 2878, 'lloyd': 2879, 'eva': 2880, 'poison': 2881, 'restaur': 2882, 'sadist': 2883, 'heston': 2884, 'charisma': 2885, 'health': 2886, 'drown': 2887, 'cure': 2888, 'montag': 2889, 'skit': 2890, 'essenc': 2891, 'button': 2892, 'huh': 2893, 'spread': 2894, 'fetch': 2895, 'lab': 2896, 'invest': 2897, 'maniac': 2898, 'estat': 2899, 'companion': 2900, 'muslim': 2901, 'peak': 2902, 'dealt': 2903, 'gradual': 2904, 'godfath': 2905, 'scoobi': 2906, 'gothic': 2907, 'servant': 2908, 'kane': 2909, 'countless': 2910, 'ritter': 2911, 'alli': 2912, 'tea': 2913, 'miik': 2914, 'cup': 2915, 'subtleti': 2916, 'elect': 2917, 'salli': 2918, 'charismat': 2919, 'briefli': 2920, 'electr': 2921, 'iii': 2922, 'heroic': 2923, 'neil': 2924, 'nuanc': 2925, 'toss': 2926, 'reel': 2927, 'admittedli': 2928, 'grandmoth': 2929, 'resourc': 2930, 'wannab': 2931, 'ingredi': 2932, 'bud': 2933, 'tender': 2934, 'cole': 2935, 'stood': 2936, 'mafia': 2937, 'pauli': 2938, 'mild': 2939, 'punk': 2940, 'shall': 2941, 'carrey': 2942, 'dawson': 2943, 'reev': 2944, 'stronger': 2945, 'label': 2946, 'gate': 2947, 'pit': 2948, 'poverti': 2949, 'kubrick': 2950, 'ian': 2951, 'outcom': 2952, 'terri': 2953, 'burst': 2954, 'tag': 2955, 'useless': 2956, 'cardboard': 2957, 'smash': 2958, 'updat': 2959, 'smooth': 2960, 'easier': 2961, 'fond': 2962, 'assault': 2963, 'cox': 2964, 'bakshi': 2965, 'astair': 2966, 'exchang': 2967, 'divers': 2968, 'resolv': 2969, 'increasingli': 2970, 'melodramat': 2971, 'vulner': 2972, 'sketch': 2973, 'rex': 2974, 'fist': 2975, '2002': 2976, 'coincid': 2977, 'vari': 2978, 'qualifi': 2979, 'samurai': 2980, 'luckili': 2981, 'conveni': 2982, 'suspend': 2983, 'insert': 2984, 'brillianc': 2985, 'be': 2986, 'tame': 2987, 'reynold': 2988, 'templ': 2989, 'blast': 2990, 'scratch': 2991, 'ambiti': 2992, 'soprano': 2993, 'matthew': 2994, 'jami': 2995, 'walker': 2996, 'nuclear': 2997, 'gotta': 2998, 'strictli': 2999, 'pin': 3000, 'hamilton': 3001, 'farm': 3002, 'seventi': 3003, 'meat': 3004, 'coach': 3005, 'fisher': 3006, 'instantli': 3007, 'ninja': 3008, 'brosnan': 3009, 'empir': 3010, 'timeless': 3011, 'closet': 3012, 'kudo': 3013, 'monk': 3014, 'worthless': 3015, 'recreat': 3016, 'spooki': 3017, 'struck': 3018, 'butcher': 3019, 'eccentr': 3020, 'cave': 3021, 'discoveri': 3022, 'grasp': 3023, 'convolut': 3024, 'revers': 3025, 'joey': 3026, 'clock': 3027, 'inconsist': 3028, 'cliff': 3029, 'gray': 3030, 'eighti': 3031, 'bleak': 3032, 'importantli': 3033, 'clown': 3034, 'fifteen': 3035, 'partli': 3036, 'declar': 3037, 'mitchel': 3038, 'pal': 3039, 'sidekick': 3040, 'seller': 3041, 'communist': 3042, 'selfish': 3043, 'sloppi': 3044, 'norman': 3045, 'wipe': 3046, 'evok': 3047, 'miracl': 3048, 'lifestyl': 3049, 'enthusiast': 3050, 'superbl': 3051, 'stoog': 3052, 'australia': 3053, 'piano': 3054, 'websit': 3055, 'debat': 3056, 'cheek': 3057, 'destin': 3058, 'chew': 3059, 'aforement': 3060, '45': 3061, 'seed': 3062, 'ho': 3063, 'psychiatrist': 3064, 'farc': 3065, 'flawless': 3066, 'anni': 3067, 'emili': 3068, 'kitchen': 3069, 'incompet': 3070, 'soviet': 3071, 'bash': 3072, 'pressur': 3073, 'abc': 3074, 'dash': 3075, 'slice': 3076, 'wrestl': 3077, 'splatter': 3078, 'akshay': 3079, 'dire': 3080, 'directori': 3081, 'regardless': 3082, 'drivel': 3083, 'wick': 3084, 'flower': 3085, 'boil': 3086, 'artifici': 3087, 'ken': 3088, 'dave': 3089, 'cameron': 3090, 'chapter': 3091, 'lou': 3092, 'judi': 3093, 'prize': 3094, 'mann': 3095, 'duo': 3096, 'pleasantli': 3097, 'cia': 3098, 'distant': 3099, 'suppli': 3100, 'helicopt': 3101, 'seduc': 3102, 'increas': 3103, 'recov': 3104, 'blob': 3105, 'beaten': 3106, 'curios': 3107, 'jar': 3108, 'glow': 3109, 'cagney': 3110, 'doo': 3111, 'hop': 3112, 'panic': 3113, 'favour': 3114, 'ranger': 3115, 'combat': 3116, 'turner': 3117, 'splendid': 3118, 'craven': 3119, 'psychot': 3120, 'drunken': 3121, 'web': 3122, 'perri': 3123, 'goldberg': 3124, 'francisco': 3125, 'glenn': 3126, 'ellen': 3127, 'eleg': 3128, 'craig': 3129, 'laurel': 3130, 'shortli': 3131, 'graduat': 3132, 'plausibl': 3133, 'flip': 3134, 'gandhi': 3135, 'falk': 3136, 'philosophi': 3137, 'greek': 3138, 'wizard': 3139, 'gentl': 3140, 'fx': 3141, 'slightest': 3142, '20th': 3143, 'hatr': 3144, 'alexand': 3145, 'rid': 3146, 'min': 3147, 'ruth': 3148, 'modesti': 3149, 'manhattan': 3150, 'felix': 3151, 'futurist': 3152, 'tall': 3153, 'unpleas': 3154, 'jealou': 3155, 'lend': 3156, 'harm': 3157, 'we': 3158, 'ocean': 3159, 'knight': 3160, 'fund': 3161, 'preciou': 3162, 'dracula': 3163, 'legal': 3164, 'holi': 3165, 'reviv': 3166, 'scientif': 3167, 'digniti': 3168, 'mock': 3169, 'childish': 3170, 'tank': 3171, 'bless': 3172, 'explicit': 3173, 'nod': 3174, 'forbidden': 3175, 'ami': 3176, 'overdon': 3177, 'thread': 3178, 'giallo': 3179, 'eve': 3180, 'torment': 3181, '99': 3182, 'broad': 3183, 'awe': 3184, 'verhoeven': 3185, 'unwatch': 3186, 'nerv': 3187, 'fever': 3188, 'elderli': 3189, '2004': 3190, 'yesterday': 3191, 'repeatedli': 3192, 'pirat': 3193, 'mel': 3194, 'awaken': 3195, 'thick': 3196, 'margaret': 3197, 'royal': 3198, 'acclaim': 3199, 'ah': 3200, 'timothi': 3201, 'eas': 3202, 'politician': 3203, 'launch': 3204, 'publish': 3205, 'bin': 3206, 'roman': 3207, 'stiller': 3208, 'griffith': 3209, 'rivet': 3210, 'kay': 3211, 'lean': 3212, 'uniform': 3213, 'ambit': 3214, 'romero': 3215, 'automat': 3216, 'custom': 3217, 'absenc': 3218, 'antic': 3219, 'phrase': 3220, 'pierc': 3221, 'bathroom': 3222, 'transport': 3223, 'stinker': 3224, 'sunshin': 3225, 'foul': 3226, 'termin': 3227, 'warren': 3228, 'darker': 3229, 'crook': 3230, 'gabriel': 3231, 'purpl': 3232, 'wallac': 3233, 'pulp': 3234, 'homicid': 3235, 'tomato': 3236, 'rambo': 3237, 'coloni': 3238, 'choreographi': 3239, 'ought': 3240, 'brazil': 3241, 'karen': 3242, 'donna': 3243, 'hollow': 3244, 'horrid': 3245, 'revolutionari': 3246, 'sixti': 3247, 'album': 3248, 'saint': 3249, '2003': 3250, 'packag': 3251, 'marin': 3252, 'kenneth': 3253, 'viciou': 3254, 'prom': 3255, 'li': 3256, 'pray': 3257, 'evolv': 3258, 'juvenil': 3259, 'awak': 3260, 'contrari': 3261, 'q': 3262, 'eyr': 3263, 'conserv': 3264, 'defi': 3265, 'ireland': 3266, 'overr': 3267, 'ramon': 3268, 'stole': 3269, 'beatti': 3270, 'twelv': 3271, 'candid': 3272, 'nerd': 3273, 'dose': 3274, 'mummi': 3275, 'mildr': 3276, 'option': 3277, 'blade': 3278, 'kapoor': 3279, 'boast': 3280, 'collabor': 3281, 'flame': 3282, 'natali': 3283, 'jazz': 3284, 'trio': 3285, 'altman': 3286, 'astonish': 3287, 'detract': 3288, 'fulci': 3289, 'confirm': 3290, 'kirk': 3291, 'protest': 3292, 'funer': 3293, 'global': 3294, 'racial': 3295, 'audio': 3296, 'tommi': 3297, 'mystic': 3298, 'spit': 3299, 'delici': 3300, 'bottl': 3301, 'whip': 3302, 'leap': 3303, 'yellow': 3304, 'destini': 3305, 'shade': 3306, 'blake': 3307, 'nicholson': 3308, 'bull': 3309, 'enterpris': 3310, 'reunit': 3311, 'staff': 3312, 'merci': 3313, 'threw': 3314, 'pseudo': 3315, 'adolesc': 3316, 'enchant': 3317, 'inherit': 3318, 'visibl': 3319, 'vivid': 3320, 'harder': 3321, 'swedish': 3322, 'meaningless': 3323, 'popcorn': 3324, 'fonda': 3325, 'neo': 3326, 'todd': 3327, 'altogeth': 3328, 'bedroom': 3329, 'befriend': 3330, 'lemmon': 3331, 'synopsi': 3332, 'moodi': 3333, 'edi': 3334, 'tip': 3335, 'respond': 3336, 'suspici': 3337, 'lawrenc': 3338, 'decor': 3339, 'wire': 3340, 'kennedi': 3341, 'bust': 3342, 'await': 3343, 'reserv': 3344, 'madonna': 3345, 'fanat': 3346, 'roommat': 3347, 'jew': 3348, 'exhibit': 3349, 'ruthless': 3350, 'uneven': 3351, 'crocodil': 3352, 'leonard': 3353, 'voight': 3354, 'atlanti': 3355, '2007': 3356, 'chao': 3357, 'palma': 3358, 'audit': 3359, 'bold': 3360, 'garner': 3361, 'carl': 3362, 'bargain': 3363, 'clumsi': 3364, 'abysm': 3365, 'centr': 3366, 'holli': 3367, 'ventur': 3368, 'bradi': 3369, 'unsettl': 3370, 'voyag': 3371, 'incident': 3372, 'dimens': 3373, 'clint': 3374, 'rural': 3375, 'tiger': 3376, 'characterist': 3377, 'nearbi': 3378, 'troop': 3379, 'cari': 3380, 'echo': 3381, 'immigr': 3382, 'acknowledg': 3383, 'cuba': 3384, 'imperson': 3385, 'trail': 3386, '2nd': 3387, 'hart': 3388, 'cd': 3389, 'daddi': 3390, 'neglect': 3391, 'versu': 3392, 'humili': 3393, 'ant': 3394, 'wealth': 3395, 'poetic': 3396, 'elimin': 3397, 'timon': 3398, 'lit': 3399, 'mall': 3400, 'homer': 3401, 'prejudic': 3402, 'marshal': 3403, 'mistaken': 3404, 'pun': 3405, 'domest': 3406, 'collaps': 3407, 'paus': 3408, 'solo': 3409, 'infect': 3410, 'repuls': 3411, 'mickey': 3412, 'saga': 3413, 'celluloid': 3414, 'jeffrey': 3415, '1996': 3416, 'equip': 3417, 'tribe': 3418, 'hbo': 3419, 'coat': 3420, 'cake': 3421, 'promin': 3422, 'olivi': 3423, 'gear': 3424, 'inan': 3425, 'assembl': 3426, 'leon': 3427, 'sore': 3428, 'interrupt': 3429, 'undoubtedli': 3430, 'harvey': 3431, 'coffe': 3432, 'apolog': 3433, 'inappropri': 3434, 'pant': 3435, 'milk': 3436, 'chest': 3437, 'ginger': 3438, 'jenni': 3439, 'exot': 3440, 'brooklyn': 3441, 'colleagu': 3442, 'solut': 3443, 'maggi': 3444, 'consum': 3445, 'institut': 3446, 'colonel': 3447, 'embrac': 3448, 'highest': 3449, 'retain': 3450, 'instant': 3451, 'aveng': 3452, 'pen': 3453, 'humbl': 3454, 'devast': 3455, 'primari': 3456, 'airplan': 3457, 'furthermor': 3458, 'vulgar': 3459, 'trace': 3460, 'pot': 3461, 'florida': 3462, 'polanski': 3463, '1999': 3464, 'descend': 3465, 'cope': 3466, 'rick': 3467, 'ya': 3468, '3rd': 3469, 'illog': 3470, 'disabl': 3471, 'seduct': 3472, 'gender': 3473, 'linda': 3474, 'poke': 3475, 'bowl': 3476, 'wive': 3477, 'outer': 3478, 'sale': 3479, 'smaller': 3480, 'strain': 3481, 'dian': 3482, 'dutch': 3483, 'principl': 3484, 'godzilla': 3485, 'predecessor': 3486, 'mixtur': 3487, 'cue': 3488, 'hal': 3489, 'yard': 3490, 'devoid': 3491, 'vast': 3492, 'dive': 3493, 'scope': 3494, 'inferior': 3495, 'blatant': 3496, 'primarili': 3497, 'gloriou': 3498, 'bubbl': 3499, 'dud': 3500, 'beneath': 3501, 'rabbit': 3502, 'lol': 3503, 'secondli': 3504, 'glamor': 3505, 'gundam': 3506, 'april': 3507, 'alfr': 3508, 'grinch': 3509, 'invas': 3510, 'countrysid': 3511, 'aggress': 3512, 'shelf': 3513, 'simplist': 3514, 'talki': 3515, 'shirley': 3516, 'hideou': 3517, 'senseless': 3518, 'myer': 3519, 'breed': 3520, 'museum': 3521, 'alert': 3522, 'disjoint': 3523, 'et': 3524, 'pearl': 3525, 'streep': 3526, 'arab': 3527, 'trademark': 3528, 'casual': 3529, 'garbo': 3530, 'z': 3531, 'domino': 3532, 'hardcor': 3533, 'stir': 3534, 'boom': 3535, 'slide': 3536, 'defens': 3537, 'oz': 3538, 'rendit': 3539, 'robberi': 3540, 'maci': 3541, 'obtain': 3542, 'mail': 3543, 'hopeless': 3544, 'stack': 3545, 'illeg': 3546, 'uwe': 3547, 'unhappi': 3548, 'applaud': 3549, 'acid': 3550, 'vanish': 3551, 'sh': 3552, 'experiment': 3553, 'loyal': 3554, 'khan': 3555, 'disgrac': 3556, 'stellar': 3557, 'mayor': 3558, 'robinson': 3559, 'declin': 3560, 'diana': 3561, 'dismiss': 3562, 'span': 3563, 'incomprehens': 3564, 'tempt': 3565, 'grandfath': 3566, 'blew': 3567, 'soccer': 3568, 'hartley': 3569, 'recruit': 3570, 'dicken': 3571, 'scroog': 3572, 'amanda': 3573, 'wont': 3574, 'counter': 3575, 'topless': 3576, 'spider': 3577, 'psychic': 3578, 'emphasi': 3579, 'fri': 3580, 'craze': 3581, 'rifl': 3582, 'berlin': 3583, 'tenant': 3584, 'ethnic': 3585, 'niro': 3586, 'sibl': 3587, 'wet': 3588, 'riot': 3589, 'resurrect': 3590, 'ration': 3591, 'porno': 3592, 'goer': 3593, 'woo': 3594, 'trashi': 3595, 'shaw': 3596, 'sympath': 3597, 'intim': 3598, 'shed': 3599, 'revolt': 3600, 'bitch': 3601, 'justin': 3602, 'faster': 3603, 'lumet': 3604, 'parad': 3605, 'weakest': 3606, 'commend': 3607, 'biographi': 3608, 'ensur': 3609, 'lena': 3610, 'ballet': 3611, 'choru': 3612, 'dealer': 3613, 'honesti': 3614, 'worm': 3615, 'wheel': 3616, 'hesit': 3617, 'immort': 3618, 'jonathan': 3619, 'nephew': 3620, 'eager': 3621, 'slick': 3622, 'region': 3623, 'feminist': 3624, 'gap': 3625, 'farmer': 3626, 'rider': 3627, 'hopper': 3628, 'patriot': 3629, 'enlighten': 3630, '00': 3631, 'unreal': 3632, 'wendi': 3633, 'steam': 3634, 'partial': 3635, 'mario': 3636, 'andr': 3637, 'util': 3638, 'snap': 3639, 'skull': 3640, 'wore': 3641, 'composit': 3642, 'morri': 3643, 'nostalg': 3644, 'vice': 3645, 'macarthur': 3646, 'victori': 3647, 'similarli': 3648, 'psychopath': 3649, 'mutant': 3650, 'safeti': 3651, 'owen': 3652, 'charlott': 3653, 'hung': 3654, 'properti': 3655, 'kingdom': 3656, 'confin': 3657, 'sappi': 3658, 'blunt': 3659, 'prequel': 3660, 'franco': 3661, 'sandra': 3662, 'repress': 3663, 'leo': 3664, 'despair': 3665, 'bergman': 3666, 'rocki': 3667, 'kyle': 3668, 'acquir': 3669, 'strand': 3670, 'farrel': 3671, 'drain': 3672, 'rambl': 3673, 'exit': 3674, 'rope': 3675, 'dalton': 3676, 'recycl': 3677, 'compass': 3678, 'bumbl': 3679, 'compens': 3680, 'valuabl': 3681, '1972': 3682, 'drum': 3683, 'campbel': 3684, 'del': 3685, 'speci': 3686, 'hyde': 3687, 'whoopi': 3688, 'tad': 3689, 'bonu': 3690, 'tail': 3691, 'emperor': 3692, 'repli': 3693, 'latin': 3694, 'nervou': 3695, 'heartbreak': 3696, 'deed': 3697, 'dust': 3698, 'miseri': 3699, 'cg': 3700, 'montana': 3701, 'pattern': 3702, 'thru': 3703, 'snl': 3704, 'bow': 3705, 'downhil': 3706, 'gal': 3707, '35': 3708, 'wacki': 3709, 'percept': 3710, 'bleed': 3711, 'rotten': 3712, 'gimmick': 3713, 'romp': 3714, 'martian': 3715, 'tonight': 3716, 'airport': 3717, 'oppress': 3718, 'radic': 3719, 'carradin': 3720, 'roth': 3721, 'da': 3722, 'pour': 3723, 'mistress': 3724, 'contempl': 3725, 'olli': 3726, 'rapist': 3727, 'slug': 3728, 'orson': 3729, 'chess': 3730, 'melodi': 3731, 'shelley': 3732, 'pursuit': 3733, 'heal': 3734, 'champion': 3735, 'pervers': 3736, 'unpredict': 3737, 'arc': 3738, 'arguabl': 3739, 'banal': 3740, 'paltrow': 3741, 'edgar': 3742, 'programm': 3743, 'belt': 3744, '1983': 3745, 'preach': 3746, 'attorney': 3747, 'pervert': 3748, 'mislead': 3749, 'tackl': 3750, 'dazzl': 3751, 'tooth': 3752, 'slash': 3753, 'taught': 3754, 'stilt': 3755, 'plight': 3756, 'closest': 3757, 'conneri': 3758, 'tiresom': 3759, 'poem': 3760, 'gambl': 3761, 'employe': 3762, 'cleverli': 3763, 'passeng': 3764, 'raymond': 3765, 'franki': 3766, 'mesmer': 3767, 'sensat': 3768, 'rubi': 3769, 'bela': 3770, 'graham': 3771, 'vengeanc': 3772, 'vocal': 3773, 'maid': 3774, 'orang': 3775, 'uplift': 3776, 'dixon': 3777, 'duval': 3778, 'chicken': 3779, 'virginia': 3780, 'marti': 3781, 'secretli': 3782, 'giggl': 3783, 'scottish': 3784, 'suffic': 3785, 'calm': 3786, 'whine': 3787, 'swallow': 3788, 'paranoia': 3789, 'gerard': 3790, 'volum': 3791, 'habit': 3792, 'abraham': 3793, 'outing': 3794, '1968': 3795, 'extens': 3796, 'monologu': 3797, 'numb': 3798, 'yawn': 3799, 'profan': 3800, 'climact': 3801, 'convincingli': 3802, 'tube': 3803, 'mute': 3804, 'clone': 3805, 'bay': 3806, 'inject': 3807, 'lundgren': 3808, 'quarter': 3809, 'crystal': 3810, 'amitabh': 3811, 'pokemon': 3812, 'engross': 3813, 'iran': 3814, 'sirk': 3815, 'bend': 3816, 'taxi': 3817, 'abort': 3818, 'surpass': 3819, 'richardson': 3820, 'linger': 3821, 'austen': 3822, 'poetri': 3823, 'im': 3824, 'junior': 3825, 'chicago': 3826, 'frankenstein': 3827, 'backward': 3828, 'grotesqu': 3829, 'franci': 3830, 'septemb': 3831, 'meander': 3832, 'expand': 3833, 'fed': 3834, 'ethan': 3835, 'underst': 3836, 'trend': 3837, 'lowest': 3838, 'dispos': 3839, 'plod': 3840, 'profess': 3841, 'nichola': 3842, 'spock': 3843, 'earl': 3844, 'waitress': 3845, 'nostalgia': 3846, 'myth': 3847, 'spoke': 3848, 'descent': 3849, 'tourist': 3850, 'hum': 3851, 'compliment': 3852, 'rant': 3853, 'lure': 3854, 'cannon': 3855, 'simplic': 3856, 'sue': 3857, 'muddl': 3858, 'greedi': 3859, 'rubber': 3860, 'catchi': 3861, 'eugen': 3862, 'household': 3863, 'dysfunct': 3864, 'stallon': 3865, 'literatur': 3866, 'econom': 3867, 'instrument': 3868, 'mundan': 3869, 'der': 3870, 'molli': 3871, 'bacal': 3872, 'irrelev': 3873, 'damon': 3874, 'cent': 3875, 'dement': 3876, 'map': 3877, 'duck': 3878, 'dictat': 3879, 'randi': 3880, 'alongsid': 3881, 'lang': 3882, 'phoni': 3883, 'hello': 3884, 'louis': 3885, 'occupi': 3886, 'sissi': 3887, 'mortal': 3888, 'recognis': 3889, 'stale': 3890, 'equival': 3891, 'phantom': 3892, 'coast': 3893, 'eaten': 3894, 'crucial': 3895, 'mankind': 3896, 'deaf': 3897, 'firstli': 3898, 'june': 3899, 'recognit': 3900, 'insur': 3901, 'flee': 3902, 'furi': 3903, 'carel': 3904, 'omen': 3905, 'bump': 3906, 'newli': 3907, 'grayson': 3908, 'drake': 3909, 'labor': 3910, 'reign': 3911, 'likewis': 3912, '1973': 3913, 'ashley': 3914, 'wisdom': 3915, 'distinguish': 3916, 'damm': 3917, 'onlin': 3918, 'buffalo': 3919, 'daisi': 3920, 'loyalti': 3921, 'blackmail': 3922, 'bike': 3923, 'freez': 3924, 'rooney': 3925, 'heel': 3926, 'rude': 3927, 'twilight': 3928, 'antwon': 3929, 'cyborg': 3930, 'dreari': 3931, 'lengthi': 3932, 'biko': 3933, 'nineti': 3934, 'pink': 3935, 'analysi': 3936, 'sailor': 3937, 'inher': 3938, 'proce': 3939, 'ridden': 3940, 'worn': 3941, 'barrymor': 3942, 'vein': 3943, 'incorpor': 3944, 'interior': 3945, 'emphas': 3946, 'boxer': 3947, 'butler': 3948, 'tunnel': 3949, 'provoc': 3950, 'basketbal': 3951, 'prey': 3952, 'unorigin': 3953, 'keith': 3954, 'startl': 3955, 'chronicl': 3956, 'attribut': 3957, 'exposur': 3958, 'baddi': 3959, 'approv': 3960, 'indiffer': 3961, 'walsh': 3962, 'predat': 3963, 'stalker': 3964, 'bunni': 3965, 'elm': 3966, 'improvis': 3967, 'barrel': 3968, 'othello': 3969, 'fleet': 3970, 'meyer': 3971, 'drift': 3972, 'nicol': 3973, 'simmon': 3974, 'condemn': 3975, 'undeni': 3976, 'millionair': 3977, 'unrel': 3978, 'er': 3979, 'mighti': 3980, 'hypnot': 3981, 'mormon': 3982, 'degrad': 3983, 'meg': 3984, 'robbin': 3985, 'underli': 3986, 'substitut': 3987, 'julian': 3988, 'belushi': 3989, 'carla': 3990, 'priceless': 3991, 'roof': 3992, 'edgi': 3993, 'watson': 3994, 'mtv': 3995, 'enthusiasm': 3996, 'alarm': 3997, 'exquisit': 3998, 'lampoon': 3999, 'disord': 4000, 'vital': 4001, 'errol': 4002, 'agenda': 4003, 'shove': 4004, 'alison': 4005, 'nyc': 4006, 'novak': 4007, 'firm': 4008, 'reid': 4009, 'hay': 4010, 'unawar': 4011, 'warmth': 4012, 'rukh': 4013, 'palac': 4014, 'dolph': 4015, 'greed': 4016, 'marion': 4017, '3d': 4018, 'israel': 4019, 'session': 4020, 'angela': 4021, 'what': 4022, 'zizek': 4023, 'randomli': 4024, 'glanc': 4025, 'peck': 4026, 'testament': 4027, 'championship': 4028, '13th': 4029, 'pamela': 4030, 'ponder': 4031, 'nun': 4032, 'coup': 4033, 'distort': 4034, 'preserv': 4035, 'eastern': 4036, 'profit': 4037, 'showdown': 4038, 'drip': 4039, 'campaign': 4040, 'orlean': 4041, 'beatl': 4042, 'unleash': 4043, 'thompson': 4044, '1933': 4045, 'simultan': 4046, 'peril': 4047, 'spain': 4048, 'gestur': 4049, 'petti': 4050, 'valentin': 4051, 'crown': 4052, 'minimum': 4053, 'iraq': 4054, 'sergeant': 4055, 'cassidi': 4056, 'exposit': 4057, 'scotland': 4058, '1984': 4059, 'regist': 4060, 'mon': 4061, 'gentleman': 4062, 'jan': 4063, 'wig': 4064, 'calib': 4065, 'crawl': 4066, 'cream': 4067, 'empathi': 4068, 'fido': 4069, 'contradict': 4070, 'climat': 4071, 'unimagin': 4072, 'restrain': 4073, 'crow': 4074, 'bro': 4075, 'rout': 4076, 'sabrina': 4077, 'buster': 4078, 'realm': 4079, 'perpetu': 4080, 'shootout': 4081, 'represent': 4082, 'din': 4083, 'stake': 4084, 'kurosawa': 4085, 'travesti': 4086, 'cooki': 4087, 'stroke': 4088, 'reson': 4089, 'valley': 4090, 'quinn': 4091, 'miyazaki': 4092, 'brenda': 4093, 'han': 4094, 'greg': 4095, 'derang': 4096, 'abomin': 4097, 'delic': 4098, 'painter': 4099, 'censor': 4100, 'pretens': 4101, 'monoton': 4102, 'darren': 4103, 'distress': 4104, 'traumat': 4105, 'dana': 4106, 'unsatisfi': 4107, '1997': 4108, 'baldwin': 4109, 'shaki': 4110, 'fuller': 4111, 'unseen': 4112, 'sucker': 4113, '1987': 4114, 'shoddi': 4115, 'businessman': 4116, 'perceiv': 4117, 'soderbergh': 4118, 'cloud': 4119, 'demis': 4120, 'crawford': 4121, 'passabl': 4122, 'josh': 4123, 'warrant': 4124, 'femm': 4125, 'sammi': 4126, 'geek': 4127, 'wax': 4128, 'absent': 4129, 'ross': 4130, 'stargat': 4131, 'tacki': 4132, 'compromis': 4133, 'spacey': 4134, 'meryl': 4135, 'pole': 4136, 'mclaglen': 4137, 'ustinov': 4138, '1993': 4139, 'unravel': 4140, 'norm': 4141, 'polici': 4142, 'tech': 4143, 'antonioni': 4144, 'click': 4145, 'furiou': 4146, 'accuraci': 4147, 'reluct': 4148, 'sid': 4149, 'deniro': 4150, 'dee': 4151, 'judgment': 4152, 'fog': 4153, 'valid': 4154, 'uncov': 4155, 'primit': 4156, 'expedit': 4157, 'nathan': 4158, 'correctli': 4159, 'anchor': 4160, 'fenc': 4161, 'verbal': 4162, 'kumar': 4163, 'seal': 4164, 'jewel': 4165, 'exclus': 4166, 'tarantino': 4167, 'deceas': 4168, 'clash': 4169, 'austin': 4170, 'wholli': 4171, 'roller': 4172, 'behold': 4173, 'unfair': 4174, 'bake': 4175, 'hallucin': 4176, 'darn': 4177, 'trait': 4178, '3000': 4179, 'conduct': 4180, 'murray': 4181, 'enforc': 4182, 'fought': 4183, 'debt': 4184, 'dreck': 4185, 'ritual': 4186, 'wang': 4187, 'pocket': 4188, 'patienc': 4189, 'temper': 4190, 'sustain': 4191, '1971': 4192, '2008': 4193, 'tax': 4194, 'fart': 4195, 'logan': 4196, 'crippl': 4197, 'sand': 4198, '1995': 4199, 'mode': 4200, 'slam': 4201, 'alec': 4202, 'joel': 4203, 'vanc': 4204, 'fabric': 4205, 'wretch': 4206, 'sheet': 4207, 'shanghai': 4208, 'clerk': 4209, 'sunni': 4210, 'nicola': 4211, 'seldom': 4212, 'malon': 4213, 'pete': 4214, 'canyon': 4215, 'conscious': 4216, 'divid': 4217, 'clau': 4218, 'phil': 4219, 'despis': 4220, 'sweep': 4221, 'preposter': 4222, 'shell': 4223, 'helpless': 4224, 'rita': 4225, 'squad': 4226, 'stark': 4227, 'outlin': 4228, 'tactic': 4229, 'scriptwrit': 4230, 'schedul': 4231, 'bias': 4232, 'bridget': 4233, 'isabel': 4234, 'runner': 4235, 'critiqu': 4236, 'stuart': 4237, 'soup': 4238, 'exhaust': 4239, 'technicolor': 4240, 'robber': 4241, 'guitar': 4242, 'preston': 4243, 'legaci': 4244, 'grief': 4245, 'fundament': 4246, 'penni': 4247, 'implic': 4248, 'unexpectedli': 4249, 'passag': 4250, 'drove': 4251, 'gregori': 4252, 'vomit': 4253, 'jacket': 4254, 'rehash': 4255, 'jodi': 4256, 'cigarett': 4257, 'connor': 4258, 'downey': 4259, 'bloom': 4260, 'liberti': 4261, 'propos': 4262, 'marc': 4263, 'russia': 4264, 'alley': 4265, 'consciou': 4266, 'lacklust': 4267, 'inabl': 4268, 'sentinel': 4269, 'rear': 4270, 'restrict': 4271, 'kansa': 4272, 'sniper': 4273, 'newman': 4274, 'flair': 4275, 'delv': 4276, 'sugar': 4277, 'boyl': 4278, 'palanc': 4279, 'invad': 4280, 'alicia': 4281, 'culmin': 4282, 'agenc': 4283, 'vet': 4284, '1936': 4285, 'cap': 4286, 'foxx': 4287, 'rehears': 4288, 'bacon': 4289, 'chainsaw': 4290, 'ladder': 4291, 'wrench': 4292, 'tripe': 4293, 'delet': 4294, 'tendenc': 4295, 'pale': 4296, 'awhil': 4297, 'rod': 4298, 'karl': 4299, 'sharon': 4300, '22': 4301, 'improb': 4302, 'horn': 4303, 'rampag': 4304, 'aesthet': 4305, 'behaviour': 4306, 'arrow': 4307, 'feat': 4308, 'lush': 4309, 'mccoy': 4310, 'asylum': 4311, 'yeti': 4312, 'kolchak': 4313, 'coaster': 4314, '1920': 4315, 'suspicion': 4316, 'paradis': 4317, 'rhythm': 4318, 'globe': 4319, 'sung': 4320, 'amazon': 4321, 'weav': 4322, 'fright': 4323, 'stream': 4324, 'loneli': 4325, 'shortcom': 4326, 'hackney': 4327, '19th': 4328, 'financ': 4329, 'suffici': 4330, 'tomorrow': 4331, 'prank': 4332, 'visitor': 4333, 'hulk': 4334, 'hungri': 4335, 'lurk': 4336, 'paramount': 4337, 'elit': 4338, 'basing': 4339, 'filler': 4340, 'wildli': 4341, 'spice': 4342, 'aristocrat': 4343, 'thunderbird': 4344, 'newcom': 4345, 'rumor': 4346, 'el': 4347, 'minu': 4348, 'wagner': 4349, 'tasteless': 4350, 'scoop': 4351, '1978': 4352, '1988': 4353, 'underneath': 4354, 'conscienc': 4355, 'naughti': 4356, 'lectur': 4357, 'impos': 4358, 'leigh': 4359, 'curli': 4360, 'standout': 4361, 'minist': 4362, 'wwe': 4363, 'entranc': 4364, 'ram': 4365, 'hopkin': 4366, 'heist': 4367, 'posey': 4368, 'smell': 4369, '1939': 4370, '1989': 4371, 'immers': 4372, 'couch': 4373, 'recogniz': 4374, 'straightforward': 4375, 'quietli': 4376, 'abrupt': 4377, 'worship': 4378, 'bread': 4379, 'inmat': 4380, 'counterpart': 4381, 'beverli': 4382, 'rub': 4383, 'secondari': 4384, 'atroc': 4385, 'teas': 4386, 'choppi': 4387, 'penn': 4388, 'brit': 4389, 'paxton': 4390, 'cancer': 4391, 'ingeni': 4392, 'chavez': 4393, 'literari': 4394, '75': 4395, 'springer': 4396, 'grudg': 4397, 'en': 4398, 'chamberlain': 4399, 'dirt': 4400, 'iv': 4401, 'tierney': 4402, 'moreov': 4403, 'attenborough': 4404, 'bernard': 4405, 'injuri': 4406, 'policeman': 4407, 'heartfelt': 4408, 'laurenc': 4409, 'variat': 4410, 'enthral': 4411, '1986': 4412, 'sassi': 4413, 'watcher': 4414, 'ace': 4415, 'transcend': 4416, 'duel': 4417, 'skeptic': 4418, 'quaid': 4419, 'sublim': 4420, 'lindsay': 4421, 'esther': 4422, 'nolan': 4423, 'clan': 4424, 'entitl': 4425, 'yearn': 4426, 'misguid': 4427, 'morbid': 4428, 'nemesi': 4429, 'net': 4430, 'geni': 4431, 'missil': 4432, 'convert': 4433, 'ratso': 4434, 'cattl': 4435, '1979': 4436, 'obstacl': 4437, 'bye': 4438, 'brood': 4439, 'characteris': 4440, 'grin': 4441, 'graini': 4442, 'dont': 4443, 'poe': 4444, 'moder': 4445, 'artsi': 4446, 'puppi': 4447, 'out': 4448, 'mytholog': 4449, 'uncut': 4450, 'bean': 4451, 'unexplain': 4452, 'hopelessli': 4453, 'tyler': 4454, 'diari': 4455, 'enabl': 4456, 'buzz': 4457, 'egg': 4458, 'reliabl': 4459, 'carlito': 4460, 'kidman': 4461, 'setup': 4462, 'facil': 4463, 'vader': 4464, 'spiral': 4465, 'cruelti': 4466, 'steadi': 4467, 'hk': 4468, 'youngest': 4469, 'kitti': 4470, 'rosemari': 4471, 'disastr': 4472, 'brendan': 4473, 'sweat': 4474, 'spontan': 4475, 'oblig': 4476, 'bewar': 4477, 'underworld': 4478, 'niec': 4479, 'weather': 4480, 'exterior': 4481, 'patricia': 4482, 'clueless': 4483, 'heap': 4484, 'effici': 4485, 'narrow': 4486, 'hain': 4487, 'bounc': 4488, 'acquaint': 4489, 'hammi': 4490, 'despic': 4491, '1969': 4492, 'baffl': 4493, 'fuel': 4494, 'kline': 4495, 'decept': 4496, 'gillian': 4497, 'gina': 4498, 'athlet': 4499, 'christin': 4500, 'bronson': 4501, 'preming': 4502, 'martha': 4503, 'uh': 4504, '19': 4505, 'loi': 4506, 'injur': 4507, 'housewif': 4508, 'goof': 4509, 'rome': 4510, 'scar': 4511, 'mermaid': 4512, 'hepburn': 4513, 'dilemma': 4514, 'shatter': 4515, 'lester': 4516, 'insipid': 4517, 'sooner': 4518, 'trigger': 4519, 'angst': 4520, 'circu': 4521, 'outlaw': 4522, 'loath': 4523, 'sleepwalk': 4524, 'virtu': 4525, 'suprem': 4526, 'viewpoint': 4527, 'candl': 4528, 'astound': 4529, 'tick': 4530, 'taboo': 4531, 'enlist': 4532, 'harmless': 4533, 'headach': 4534, 'renaiss': 4535, 'biker': 4536, 'preachi': 4537, 'fontain': 4538, '73': 4539, 'analyz': 4540, 'mayhem': 4541, 'dandi': 4542, 'bent': 4543, 'salt': 4544, 'intric': 4545, 'redund': 4546, 'phenomenon': 4547, 'amor': 4548, 'filth': 4549, 'steer': 4550, 'camcord': 4551, 'ebert': 4552, 'contempt': 4553, 'spade': 4554, 'cassavet': 4555, 'tripl': 4556, 'macho': 4557, 'ariel': 4558, 'corbett': 4559, 'fluff': 4560, 'glorifi': 4561, 'slimi': 4562, 'overlong': 4563, 'hokey': 4564, 'hostag': 4565, 'immatur': 4566, 'foolish': 4567, 'scorses': 4568, 'stimul': 4569, 'boston': 4570, 'stair': 4571, 'oldest': 4572, 'guin': 4573, 'gere': 4574, 'idol': 4575, 'claustrophob': 4576, 'surgeri': 4577, 'dismal': 4578, 'sox': 4579, 'hooker': 4580, 'whore': 4581, 'dish': 4582, 'zoom': 4583, 'preced': 4584, 'joker': 4585, 'flag': 4586, 'flirt': 4587, 'zane': 4588, 'margin': 4589, 'widescreen': 4590, 'dwarf': 4591, 'perman': 4592, 'corman': 4593, 'rhyme': 4594, 'harold': 4595, 'flashi': 4596, 'shred': 4597, 'astronaut': 4598, 'keen': 4599, 'mount': 4600, 'fascist': 4601, 'beard': 4602, 'messi': 4603, 'mutual': 4604, 'antagonist': 4605, 'spinal': 4606, 'faint': 4607, 'frantic': 4608, 'gabl': 4609, 'assert': 4610, 'cush': 4611, 'remad': 4612, 'obligatori': 4613, 'cohen': 4614, 'gasp': 4615, 'conquer': 4616, 'schlock': 4617, 'nolt': 4618, 'muscl': 4619, '1976': 4620, 'radiat': 4621, 'transplant': 4622, 'cow': 4623, 'down': 4624, 'proport': 4625, 'spree': 4626, 'trivia': 4627, 'shield': 4628, 'strongest': 4629, '1981': 4630, 'naschi': 4631, 'alvin': 4632, 'repris': 4633, 'persuad': 4634, 'resum': 4635, 'discern': 4636, 'interestingli': 4637, 'danish': 4638, 'wield': 4639, 'scandal': 4640, 'vaniti': 4641, 'bachelor': 4642, 'instruct': 4643, 'brush': 4644, 'mobil': 4645, 'strive': 4646, 'triangl': 4647, 'ritchi': 4648, 'bitten': 4649, 'flock': 4650, 'hara': 4651, '1945': 4652, '28': 4653, 'info': 4654, 'claud': 4655, 'neurot': 4656, 'someday': 4657, 'aborigin': 4658, 'carey': 4659, 'boob': 4660, 'off': 4661, 'fishburn': 4662, 'divin': 4663, 'departur': 4664, '95': 4665, 'deer': 4666, 'sensual': 4667, 'raj': 4668, 'www': 4669, 'inflict': 4670, 'barn': 4671, 'mol': 4672, 'archiv': 4673, 'hug': 4674, 'hilar': 4675, 'miracul': 4676, 'mobster': 4677, 'fragil': 4678, 'colin': 4679, 'cycl': 4680, 'cb': 4681, 'dame': 4682, 'helm': 4683, 'melissa': 4684, 'vibrant': 4685, 'dim': 4686, 'casino': 4687, 'undermin': 4688, 'submit': 4689, 'rot': 4690, 'frontier': 4691, 'earnest': 4692, 'traffic': 4693, 'carlo': 4694, 'harrison': 4695, 'pickford': 4696, 'luka': 4697, 'heartwarm': 4698, 'ish': 4699, 'recit': 4700, 'pixar': 4701, 'neill': 4702, 'kathryn': 4703, 'banter': 4704, 'axe': 4705, 'timberlak': 4706, 'dylan': 4707, 'cliffhang': 4708, 'senior': 4709, 'clad': 4710, 'jade': 4711, 'cher': 4712, 'anton': 4713, 'proclaim': 4714, 'biblic': 4715, 'prophet': 4716, 'hapless': 4717, 'loretta': 4718, 'pacif': 4719, 'artwork': 4720, 'bate': 4721, 'parson': 4722, 'wendigo': 4723, 'europa': 4724, 'vanessa': 4725, 'toronto': 4726, 'token': 4727, 'wardrob': 4728, 'foil': 4729, 'marlon': 4730, 'trier': 4731, 'http': 4732, 'blatantli': 4733, 'legitim': 4734, 'static': 4735, 'electron': 4736, 'seedi': 4737, 'lucil': 4738, 'alexandr': 4739, 'breakfast': 4740, 'holocaust': 4741, 'cerebr': 4742, 'vile': 4743, 'aris': 4744, 'isra': 4745, 'nope': 4746, 'articl': 4747, 'sicken': 4748, 'mason': 4749, 'northern': 4750, 'rooki': 4751, 'akin': 4752, 'jordan': 4753, 'venom': 4754, 'bondag': 4755, 'feast': 4756, 'razor': 4757, 'pc': 4758, 'antholog': 4759, 'choke': 4760, 'flavor': 4761, 'eli': 4762, 'orphan': 4763, 'bikini': 4764, 'jo': 4765, 'lui': 4766, 'milo': 4767, 'redneck': 4768, 'illus': 4769, 'shepherd': 4770, 'misfortun': 4771, 'estrang': 4772, 'uma': 4773, 'mathieu': 4774, 'winchest': 4775, 'frog': 4776, 'fifth': 4777, 'peer': 4778, 'charlton': 4779, 'glare': 4780, 'comprehend': 4781, 'highway': 4782, 'ceremoni': 4783, 'howl': 4784, 'ideolog': 4785, 'oppon': 4786, 'tack': 4787, 'knightley': 4788, 'outdat': 4789, 'audrey': 4790, 'disregard': 4791, 'swept': 4792, 'abund': 4793, 'nightclub': 4794, 'smack': 4795, 'linear': 4796, 'styliz': 4797, 'boyer': 4798, 'wrestler': 4799, 'deem': 4800, 'gunga': 4801, 'shorter': 4802, 'turd': 4803, 'huston': 4804, 'dudley': 4805, 'gilbert': 4806, 'feminin': 4807, 'retriev': 4808, 'magician': 4809, 'affleck': 4810, 'leather': 4811, 'psych': 4812, 'cartoonish': 4813, 'clinic': 4814, 'snatch': 4815, 'tara': 4816, 'phenomen': 4817, 'lighter': 4818, '1991': 4819, 'sleaz': 4820, 'durat': 4821, 'client': 4822, 'moe': 4823, 'spine': 4824, 'breakdown': 4825, 'collector': 4826, 'lifeless': 4827, 'plate': 4828, 'bogu': 4829, 'monument': 4830, '1994': 4831, 'greet': 4832, 'btw': 4833, '4th': 4834, 'whack': 4835, 'bastard': 4836, 'cuban': 4837, 'evolut': 4838, 'uniformli': 4839, 'lavish': 4840, 'compris': 4841, 'potter': 4842, 'boo': 4843, 'spawn': 4844, 'senat': 4845, 'summar': 4846, 'einstein': 4847, 'corn': 4848, 'toe': 4849, 'deliver': 4850, 'salman': 4851, 'energet': 4852, 'newer': 4853, 'chip': 4854, 'goldsworthi': 4855, 'braveheart': 4856, 'mitch': 4857, 'cemeteri': 4858, 'conrad': 4859, 'wtf': 4860, 'jam': 4861, 'nina': 4862, 'trauma': 4863, '1974': 4864, 'ie': 4865, 'constitut': 4866, 'undertak': 4867, 'signal': 4868, 'luxuri': 4869, '1977': 4870, 'armstrong': 4871, 'judd': 4872, 'firmli': 4873, 'jule': 4874, 'pronounc': 4875, 'bulk': 4876, 'bori': 4877, 'cecil': 4878, 'neatli': 4879, 'appl': 4880, 'alleg': 4881, 'belli': 4882, 'lex': 4883, 'sorrow': 4884, 'gilliam': 4885, 'inaccuraci': 4886, 'jedi': 4887, 'occup': 4888, 'replay': 4889, 'jare': 4890, 'outright': 4891, 'healthi': 4892, 'kazan': 4893, 'capot': 4894, 'embark': 4895, 'kent': 4896, 'undead': 4897, 'fluid': 4898, 'randolph': 4899, 'spectacl': 4900, 'ol': 4901, 'historian': 4902, 'creek': 4903, 'clara': 4904, 'eleven': 4905, 'mcqueen': 4906, 'evelyn': 4907, 'liu': 4908, 'lauren': 4909, 'cape': 4910, 'groan': 4911, 'carmen': 4912, 'decapit': 4913, 'id': 4914, 'congratul': 4915, 'ash': 4916, 'curtain': 4917, 'sacrif': 4918, 'knee': 4919, 'unsuspect': 4920, 'comprehens': 4921, 'rosario': 4922, 'relentless': 4923, 'abound': 4924, 'unattract': 4925, 'fruit': 4926, 'tokyo': 4927, 'walt': 4928, 'aussi': 4929, 'mum': 4930, 'pioneer': 4931, 'palm': 4932, 'spray': 4933, 'roar': 4934, 'meal': 4935, 'antonio': 4936, 'vignett': 4937, 'paula': 4938, 'miniseri': 4939, 'porter': 4940, 'inclus': 4941, 'goldblum': 4942, 'inaccur': 4943, 'poker': 4944, 'conan': 4945, 'blur': 4946, 'genet': 4947, '1985': 4948, 'forgiven': 4949, 'basket': 4950, 'propheci': 4951, 'subtli': 4952, 'truman': 4953, 'galaxi': 4954, 'comb': 4955, 'miami': 4956, 'lanc': 4957, 'kiddi': 4958, 'sidewalk': 4959, 'bait': 4960, 'pepper': 4961, 'vain': 4962, 'bsg': 4963, 'weaker': 4964, 'evan': 4965, 'rapidli': 4966, 'weari': 4967, 'verg': 4968, 'mice': 4969, 'orchestr': 4970, 'incorrect': 4971, 'reincarn': 4972, 'scariest': 4973, 'assort': 4974, 'monti': 4975, 'vastli': 4976, 'hostil': 4977, 'bach': 4978, 'victorian': 4979, 'handicap': 4980, 'playboy': 4981, 'motorcycl': 4982, 'profil': 4983, 'turtl': 4984, 'drone': 4985, 'modest': 4986, 'dubiou': 4987, 'bravo': 4988, 'epitom': 4989, '21st': 4990, 'asset': 4991, 'hackman': 4992, 'scarfac': 4993, 'sparkl': 4994, 'ingrid': 4995, 'macabr': 4996, 'omin': 4997, 'masterson': 4998, 'ghetto': 4999}\n"
     ]
    }
   ],
   "source": [
    "word_dict = build_dict(train_X)\n",
    "print(word_dict)\n",
    "#concat_reviews=tmp_data=word_dict=None"
   ]
  },
  {
   "cell_type": "code",
   "execution_count": 149,
   "metadata": {},
   "outputs": [
    {
     "data": {
      "text/plain": [
       "(4998, 25000)"
      ]
     },
     "execution_count": 149,
     "metadata": {},
     "output_type": "execute_result"
    }
   ],
   "source": [
    "len(word_dict), len(train_X)"
   ]
  },
  {
   "cell_type": "markdown",
   "metadata": {},
   "source": [
    "**Question:** What are the five most frequently appearing (tokenized) words in the training set? Does it makes sense that these words appear frequently in the training set?"
   ]
  },
  {
   "cell_type": "markdown",
   "metadata": {},
   "source": [
    "**Answer:**\n",
    "The five most frequently appearing (tokenized) words in the training set are :'movi', 'film', 'one', 'like', 'time' . This does makes sense as the training data consists of movie reviews."
   ]
  },
  {
   "cell_type": "code",
   "execution_count": 150,
   "metadata": {},
   "outputs": [
    {
     "data": {
      "text/plain": [
       "['movi', 'film', 'one', 'like', 'time']"
      ]
     },
     "execution_count": 150,
     "metadata": {},
     "output_type": "execute_result"
    }
   ],
   "source": [
    "# TODO: Use this space to determine the five most frequently appearing words in the training set.\n",
    "list(word_dict.keys())[:5]"
   ]
  },
  {
   "cell_type": "markdown",
   "metadata": {},
   "source": [
    "### Save `word_dict`\n",
    "\n",
    "Later on when we construct an endpoint which processes a submitted review we will need to make use of the `word_dict` which we have created. As such, we will save it to a file now for future use."
   ]
  },
  {
   "cell_type": "code",
   "execution_count": 151,
   "metadata": {},
   "outputs": [],
   "source": [
    "data_dir = '../data/pytorch' # The folder we will use for storing data\n",
    "if not os.path.exists(data_dir): # Make sure that the folder exists\n",
    "    os.makedirs(data_dir)"
   ]
  },
  {
   "cell_type": "code",
   "execution_count": 152,
   "metadata": {},
   "outputs": [],
   "source": [
    "with open(os.path.join(data_dir, 'word_dict.pkl'), \"wb\") as f:\n",
    "    pickle.dump(word_dict, f)"
   ]
  },
  {
   "cell_type": "markdown",
   "metadata": {},
   "source": [
    "### Transform the reviews\n",
    "\n",
    "Now that we have our word dictionary which allows us to transform the words appearing in the reviews into integers, it is time to make use of it and convert our reviews to their integer sequence representation, making sure to pad or truncate to a fixed length, which in our case is `500`."
   ]
  },
  {
   "cell_type": "code",
   "execution_count": 153,
   "metadata": {},
   "outputs": [],
   "source": [
    "def convert_and_pad(word_dict, sentence, pad=500):\n",
    "    NOWORD = 0 # We will use 0 to represent the 'no word' category\n",
    "    INFREQ = 1 # and we use 1 to represent the infrequent words, i.e., words not appearing in word_dict\n",
    "    \n",
    "    working_sentence = [NOWORD] * pad\n",
    "    \n",
    "    for word_index, word in enumerate(sentence[:pad]):\n",
    "        if word in word_dict:\n",
    "            working_sentence[word_index] = word_dict[word]\n",
    "        else:\n",
    "            working_sentence[word_index] = INFREQ\n",
    "            \n",
    "    return working_sentence, min(len(sentence), pad)\n",
    "\n",
    "def convert_and_pad_data(word_dict, data, pad=500):\n",
    "    result = []\n",
    "    lengths = []\n",
    "    \n",
    "    for sentence in data:\n",
    "        converted, leng = convert_and_pad(word_dict, sentence, pad)\n",
    "        result.append(converted)\n",
    "        lengths.append(leng)\n",
    "        \n",
    "    return np.array(result), np.array(lengths)"
   ]
  },
  {
   "cell_type": "code",
   "execution_count": 154,
   "metadata": {},
   "outputs": [],
   "source": [
    "train_X, train_X_len = convert_and_pad_data(word_dict, train_X)\n",
    "test_X, test_X_len = convert_and_pad_data(word_dict, test_X)"
   ]
  },
  {
   "cell_type": "markdown",
   "metadata": {},
   "source": [
    "As a quick check to make sure that things are working as intended, check to see what one of the reviews in the training set looks like after having been processeed. Does this look reasonable? What is the length of a review in the training set?"
   ]
  },
  {
   "cell_type": "code",
   "execution_count": 155,
   "metadata": {},
   "outputs": [
    {
     "name": "stdout",
     "output_type": "stream",
     "text": [
      "[  90  333  575 3474    1 1404  101 1424 2099   40  297  921   29  500\n",
      "   12    2  420  358 1927    2   76 1816    1  139 1500   44   15   25\n",
      "  551  552  126  202 3283    1    1    1   33   53  132   92 1574    1\n",
      "    3  300    1    1    1  198  106 3935  147  108 1607  562    7 1103\n",
      "  370    5    3  613   77   12    2  138 3283 1042  219  273  699  984\n",
      " 1574  548  195  273   49  749  379 3283  132    1   33 3998    1 4593\n",
      "  165    2  140  138  462   11   10  170  211  177  369  125 1129 1103\n",
      "   45   53   60  328  492    9   16  246   26    3   20  138  974 1553\n",
      " 1011 3316    0    0    0    0    0    0    0    0    0    0    0    0\n",
      "    0    0    0    0    0    0    0    0    0    0    0    0    0    0\n",
      "    0    0    0    0    0    0    0    0    0    0    0    0    0    0\n",
      "    0    0    0    0    0    0    0    0    0    0    0    0    0    0\n",
      "    0    0    0    0    0    0    0    0    0    0    0    0    0    0\n",
      "    0    0    0    0    0    0    0    0    0    0    0    0    0    0\n",
      "    0    0    0    0    0    0    0    0    0    0    0    0    0    0\n",
      "    0    0    0    0    0    0    0    0    0    0    0    0    0    0\n",
      "    0    0    0    0    0    0    0    0    0    0    0    0    0    0\n",
      "    0    0    0    0    0    0    0    0    0    0    0    0    0    0\n",
      "    0    0    0    0    0    0    0    0    0    0    0    0    0    0\n",
      "    0    0    0    0    0    0    0    0    0    0    0    0    0    0\n",
      "    0    0    0    0    0    0    0    0    0    0    0    0    0    0\n",
      "    0    0    0    0    0    0    0    0    0    0    0    0    0    0\n",
      "    0    0    0    0    0    0    0    0    0    0    0    0    0    0\n",
      "    0    0    0    0    0    0    0    0    0    0    0    0    0    0\n",
      "    0    0    0    0    0    0    0    0    0    0    0    0    0    0\n",
      "    0    0    0    0    0    0    0    0    0    0    0    0    0    0\n",
      "    0    0    0    0    0    0    0    0    0    0    0    0    0    0\n",
      "    0    0    0    0    0    0    0    0    0    0    0    0    0    0\n",
      "    0    0    0    0    0    0    0    0    0    0    0    0    0    0\n",
      "    0    0    0    0    0    0    0    0    0    0    0    0    0    0\n",
      "    0    0    0    0    0    0    0    0    0    0    0    0    0    0\n",
      "    0    0    0    0    0    0    0    0    0    0    0    0    0    0\n",
      "    0    0    0    0    0    0    0    0    0    0    0    0    0    0\n",
      "    0    0    0    0    0    0    0    0    0    0    0    0    0    0\n",
      "    0    0    0    0    0    0    0    0    0    0    0    0    0    0\n",
      "    0    0    0    0    0    0    0    0    0    0]\n",
      "114\n"
     ]
    }
   ],
   "source": [
    "# Use this cell to examine one of the processed reviews to make sure everything is working as intended.\n",
    "print(train_X[100])\n",
    "print(train_X_len[100])"
   ]
  },
  {
   "cell_type": "markdown",
   "metadata": {},
   "source": [
    "**Question:** In the cells above we use the `preprocess_data` and `convert_and_pad_data` methods to process both the training and testing set. Why or why not might this be a problem?"
   ]
  },
  {
   "cell_type": "markdown",
   "metadata": {},
   "source": [
    "**Answer:**\n",
    "- preprocess_data method process the file once and saves it in a pickle file which cut downs the data preparation cost.\n",
    "- convert_and_pad_data method helps maintain a fixed length of data so that during training it doesn't generate an error due to the fact that RNN based classifiers require constant length.\n"
   ]
  },
  {
   "cell_type": "markdown",
   "metadata": {},
   "source": [
    "## Step 3: Upload the data to S3\n",
    "\n",
    "As in the XGBoost notebook, we will need to upload the training dataset to S3 in order for our training code to access it. For now we will save it locally and we will upload to S3 later on.\n",
    "\n",
    "### Save the processed training dataset locally\n",
    "\n",
    "It is important to note the format of the data that we are saving as we will need to know it when we write the training code. In our case, each row of the dataset has the form `label`, `length`, `review[500]` where `review[500]` is a sequence of `500` integers representing the words in the review."
   ]
  },
  {
   "cell_type": "code",
   "execution_count": 156,
   "metadata": {},
   "outputs": [],
   "source": [
    "import pandas as pd\n",
    "    \n",
    "pd.concat([pd.DataFrame(train_y), pd.DataFrame(train_X_len), pd.DataFrame(train_X)], axis=1) \\\n",
    "        .to_csv(os.path.join(data_dir, 'train.csv'), header=False, index=False)"
   ]
  },
  {
   "cell_type": "markdown",
   "metadata": {},
   "source": [
    "### Uploading the training data\n",
    "\n",
    "\n",
    "Next, we need to upload the training data to the SageMaker default S3 bucket so that we can provide access to it while training our model."
   ]
  },
  {
   "cell_type": "code",
   "execution_count": 157,
   "metadata": {},
   "outputs": [],
   "source": [
    "import sagemaker\n",
    "\n",
    "sagemaker_session = sagemaker.Session()\n",
    "\n",
    "bucket = sagemaker_session.default_bucket()\n",
    "prefix = 'sagemaker/sentiment_rnn'\n",
    "\n",
    "role = sagemaker.get_execution_role()"
   ]
  },
  {
   "cell_type": "code",
   "execution_count": 158,
   "metadata": {},
   "outputs": [],
   "source": [
    "input_data = sagemaker_session.upload_data(path=data_dir, bucket=bucket, key_prefix=prefix)"
   ]
  },
  {
   "cell_type": "markdown",
   "metadata": {},
   "source": [
    "**NOTE:** The cell above uploads the entire contents of our data directory. This includes the `word_dict.pkl` file. This is fortunate as we will need this later on when we create an endpoint that accepts an arbitrary review. For now, we will just take note of the fact that it resides in the data directory (and so also in the S3 training bucket) and that we will need to make sure it gets saved in the model directory."
   ]
  },
  {
   "cell_type": "markdown",
   "metadata": {},
   "source": [
    "## Step 4: Build and Train the PyTorch Model\n",
    "\n",
    "In the XGBoost notebook we discussed what a model is in the SageMaker framework. In particular, a model comprises three objects\n",
    "\n",
    " - Model Artifacts,\n",
    " - Training Code, and\n",
    " - Inference Code,\n",
    " \n",
    "each of which interact with one another. In the XGBoost example we used training and inference code that was provided by Amazon. Here we will still be using containers provided by Amazon with the added benefit of being able to include our own custom code.\n",
    "\n",
    "We will start by implementing our own neural network in PyTorch along with a training script. For the purposes of this project we have provided the necessary model object in the `model.py` file, inside of the `train` folder. You can see the provided implementation by running the cell below."
   ]
  },
  {
   "cell_type": "code",
   "execution_count": 159,
   "metadata": {},
   "outputs": [
    {
     "name": "stdout",
     "output_type": "stream",
     "text": [
      "\u001b[34mimport\u001b[39;49;00m \u001b[04m\u001b[36mtorch\u001b[39;49;00m\u001b[04m\u001b[36m.\u001b[39;49;00m\u001b[04m\u001b[36mnn\u001b[39;49;00m \u001b[34mas\u001b[39;49;00m \u001b[04m\u001b[36mnn\u001b[39;49;00m\r\n",
      "\r\n",
      "\u001b[34mclass\u001b[39;49;00m \u001b[04m\u001b[32mLSTMClassifier\u001b[39;49;00m(nn.Module):\r\n",
      "    \u001b[33m\"\"\"\u001b[39;49;00m\r\n",
      "\u001b[33m    This is the simple RNN model we will be using to perform Sentiment Analysis.\u001b[39;49;00m\r\n",
      "\u001b[33m    \"\"\"\u001b[39;49;00m\r\n",
      "\r\n",
      "    \u001b[34mdef\u001b[39;49;00m \u001b[32m__init__\u001b[39;49;00m(\u001b[36mself\u001b[39;49;00m, embedding_dim, hidden_dim, vocab_size):\r\n",
      "        \u001b[33m\"\"\"\u001b[39;49;00m\r\n",
      "\u001b[33m        Initialize the model by settingg up the various layers.\u001b[39;49;00m\r\n",
      "\u001b[33m        \"\"\"\u001b[39;49;00m\r\n",
      "        \u001b[36msuper\u001b[39;49;00m(LSTMClassifier, \u001b[36mself\u001b[39;49;00m).\u001b[32m__init__\u001b[39;49;00m()\r\n",
      "\r\n",
      "        \u001b[36mself\u001b[39;49;00m.embedding = nn.Embedding(vocab_size, embedding_dim, padding_idx=\u001b[34m0\u001b[39;49;00m)\r\n",
      "        \u001b[36mself\u001b[39;49;00m.lstm = nn.LSTM(embedding_dim, hidden_dim)\r\n",
      "        \u001b[36mself\u001b[39;49;00m.dense = nn.Linear(in_features=hidden_dim, out_features=\u001b[34m1\u001b[39;49;00m)\r\n",
      "        \u001b[36mself\u001b[39;49;00m.sig = nn.Sigmoid()\r\n",
      "        \r\n",
      "        \u001b[36mself\u001b[39;49;00m.word_dict = \u001b[34mNone\u001b[39;49;00m\r\n",
      "\r\n",
      "    \u001b[34mdef\u001b[39;49;00m \u001b[32mforward\u001b[39;49;00m(\u001b[36mself\u001b[39;49;00m, x):\r\n",
      "        \u001b[33m\"\"\"\u001b[39;49;00m\r\n",
      "\u001b[33m        Perform a forward pass of our model on some input.\u001b[39;49;00m\r\n",
      "\u001b[33m        \"\"\"\u001b[39;49;00m\r\n",
      "        x = x.t()\r\n",
      "        lengths = x[\u001b[34m0\u001b[39;49;00m,:]\r\n",
      "        reviews = x[\u001b[34m1\u001b[39;49;00m:,:]\r\n",
      "        embeds = \u001b[36mself\u001b[39;49;00m.embedding(reviews)\r\n",
      "        lstm_out, _ = \u001b[36mself\u001b[39;49;00m.lstm(embeds)\r\n",
      "        out = \u001b[36mself\u001b[39;49;00m.dense(lstm_out)\r\n",
      "        out = out[lengths - \u001b[34m1\u001b[39;49;00m, \u001b[36mrange\u001b[39;49;00m(\u001b[36mlen\u001b[39;49;00m(lengths))]\r\n",
      "        \u001b[34mreturn\u001b[39;49;00m \u001b[36mself\u001b[39;49;00m.sig(out.squeeze())\r\n"
     ]
    }
   ],
   "source": [
    "!pygmentize train/model.py"
   ]
  },
  {
   "cell_type": "markdown",
   "metadata": {},
   "source": [
    "The important takeaway from the implementation provided is that there are three parameters that we may wish to tweak to improve the performance of our model. These are the embedding dimension, the hidden dimension and the size of the vocabulary. We will likely want to make these parameters configurable in the training script so that if we wish to modify them we do not need to modify the script itself. We will see how to do this later on. To start we will write some of the training code in the notebook so that we can more easily diagnose any issues that arise.\n",
    "\n",
    "First we will load a small portion of the training data set to use as a sample. It would be very time consuming to try and train the model completely in the notebook as we do not have access to a gpu and the compute instance that we are using is not particularly powerful. However, we can work on a small bit of the data to get a feel for how our training script is behaving."
   ]
  },
  {
   "cell_type": "code",
   "execution_count": 160,
   "metadata": {},
   "outputs": [],
   "source": [
    "import torch\n",
    "import torch.utils.data\n",
    "\n",
    "# Read in only the first 250 rows\n",
    "train_sample = pd.read_csv(os.path.join(data_dir, 'train.csv'), header=None, names=None, nrows=250)\n",
    "\n",
    "# Turn the input pandas dataframe into tensors\n",
    "train_sample_y = torch.from_numpy(train_sample[[0]].values).float().squeeze()\n",
    "train_sample_X = torch.from_numpy(train_sample.drop([0], axis=1).values).long()\n",
    "\n",
    "# Build the dataset\n",
    "train_sample_ds = torch.utils.data.TensorDataset(train_sample_X, train_sample_y)\n",
    "# Build the dataloader\n",
    "train_sample_dl = torch.utils.data.DataLoader(train_sample_ds, batch_size=50)"
   ]
  },
  {
   "cell_type": "markdown",
   "metadata": {},
   "source": [
    "### (TODO) Writing the training method\n",
    "\n",
    "Next we need to write the training code itself. This should be very similar to training methods that you have written before to train PyTorch models. We will leave any difficult aspects such as model saving / loading and parameter loading until a little later."
   ]
  },
  {
   "cell_type": "code",
   "execution_count": 161,
   "metadata": {},
   "outputs": [],
   "source": [
    "def train(model, train_loader, epochs, optimizer, loss_fn, device):\n",
    "    for epoch in range(1, epochs + 1):\n",
    "        model.train()\n",
    "        total_loss = 0\n",
    "        for batch in train_loader:         \n",
    "            batch_X, batch_y = batch\n",
    "            \n",
    "            batch_X = batch_X.to(device)\n",
    "            batch_y = batch_y.to(device)\n",
    "            \n",
    "            # TODO: Complete this train method to train the model provided.\n",
    "            optimizer.zero_grad() # restart gradients\n",
    "            \n",
    "            predict = model.forward(batch_X)\n",
    "            loss = loss_fn(predict, batch_y)\n",
    "            \n",
    "            #backprop\n",
    "            loss.backward()\n",
    "            optimizer.step()\n",
    "            total_loss += loss.data.item()\n",
    "        print(\"Epoch: {}, BCELoss: {}\".format(epoch, total_loss / len(train_loader)))"
   ]
  },
  {
   "cell_type": "markdown",
   "metadata": {},
   "source": [
    "Supposing we have the training method above, we will test that it is working by writing a bit of code in the notebook that executes our training method on the small sample training set that we loaded earlier. The reason for doing this in the notebook is so that we have an opportunity to fix any errors that arise early when they are easier to diagnose."
   ]
  },
  {
   "cell_type": "code",
   "execution_count": 162,
   "metadata": {},
   "outputs": [
    {
     "name": "stdout",
     "output_type": "stream",
     "text": [
      "Epoch: 1, BCELoss: 0.6957158446311951\n",
      "Epoch: 2, BCELoss: 0.6854190349578857\n",
      "Epoch: 3, BCELoss: 0.6763889074325562\n",
      "Epoch: 4, BCELoss: 0.666284728050232\n",
      "Epoch: 5, BCELoss: 0.6537359833717347\n"
     ]
    }
   ],
   "source": [
    "import torch.optim as optim\n",
    "from train.model import LSTMClassifier\n",
    "\n",
    "device = torch.device(\"cuda\" if torch.cuda.is_available() else \"cpu\")\n",
    "model = LSTMClassifier(32, 100, 5000).to(device)\n",
    "optimizer = optim.Adam(model.parameters())\n",
    "loss_fn = torch.nn.BCELoss()\n",
    "\n",
    "train(model, train_sample_dl, 5, optimizer, loss_fn, device)"
   ]
  },
  {
   "cell_type": "markdown",
   "metadata": {},
   "source": [
    "In order to construct a PyTorch model using SageMaker we must provide SageMaker with a training script. We may optionally include a directory which will be copied to the container and from which our training code will be run. When the training container is executed it will check the uploaded directory (if there is one) for a `requirements.txt` file and install any required Python libraries, after which the training script will be run."
   ]
  },
  {
   "cell_type": "markdown",
   "metadata": {},
   "source": [
    "### (TODO) Training the model\n",
    "\n",
    "When a PyTorch model is constructed in SageMaker, an entry point must be specified. This is the Python file which will be executed when the model is trained. Inside of the `train` directory is a file called `train.py` which has been provided and which contains most of the necessary code to train our model. The only thing that is missing is the implementation of the `train()` method which you wrote earlier in this notebook.\n",
    "\n",
    "**TODO**: Copy the `train()` method written above and paste it into the `train/train.py` file where required.\n",
    "\n",
    "The way that SageMaker passes hyperparameters to the training script is by way of arguments. These arguments can then be parsed and used in the training script. To see how this is done take a look at the provided `train/train.py` file."
   ]
  },
  {
   "cell_type": "code",
   "execution_count": 163,
   "metadata": {},
   "outputs": [],
   "source": [
    "from sagemaker.pytorch import PyTorch\n",
    "\n",
    "estimator = PyTorch(entry_point=\"train.py\",\n",
    "                    source_dir=\"train\",\n",
    "                    role=role,\n",
    "                    framework_version='0.4.0',\n",
    "                    train_instance_count=1,\n",
    "                    train_instance_type='ml.p2.xlarge',\n",
    "                    hyperparameters={\n",
    "                        'epochs': 10,\n",
    "                        'hidden_dim': 50,\n",
    "                    })"
   ]
  },
  {
   "cell_type": "code",
   "execution_count": 164,
   "metadata": {},
   "outputs": [
    {
     "name": "stdout",
     "output_type": "stream",
     "text": [
      "2020-09-25 18:29:55 Starting - Preparing the instances for training\n",
      "2020-09-25 18:29:55 Downloading - Downloading input data\n",
      "2020-09-25 18:29:55 Training - Training image download completed. Training in progress.\n",
      "2020-09-25 18:29:55 Uploading - Uploading generated training model\n",
      "2020-09-25 18:29:55 Completed - Training job completed\u001b[34mbash: cannot set terminal process group (-1): Inappropriate ioctl for device\u001b[0m\n",
      "\u001b[34mbash: no job control in this shell\u001b[0m\n",
      "\u001b[34m2020-09-25 18:28:26,607 sagemaker-containers INFO     Imported framework sagemaker_pytorch_container.training\u001b[0m\n",
      "\u001b[34m2020-09-25 18:28:26,631 sagemaker_pytorch_container.training INFO     Block until all host DNS lookups succeed.\u001b[0m\n",
      "\u001b[34m2020-09-25 18:28:29,793 sagemaker_pytorch_container.training INFO     Invoking user training script.\u001b[0m\n",
      "\u001b[34m2020-09-25 18:28:30,080 sagemaker-containers INFO     Module train does not provide a setup.py. \u001b[0m\n",
      "\u001b[34mGenerating setup.py\u001b[0m\n",
      "\u001b[34m2020-09-25 18:28:30,081 sagemaker-containers INFO     Generating setup.cfg\u001b[0m\n",
      "\u001b[34m2020-09-25 18:28:30,081 sagemaker-containers INFO     Generating MANIFEST.in\u001b[0m\n",
      "\u001b[34m2020-09-25 18:28:30,081 sagemaker-containers INFO     Installing module with the following command:\u001b[0m\n",
      "\u001b[34m/usr/bin/python -m pip install -U . -r requirements.txt\u001b[0m\n",
      "\u001b[34mProcessing /opt/ml/code\u001b[0m\n",
      "\u001b[34mCollecting pandas (from -r requirements.txt (line 1))\n",
      "  Downloading https://files.pythonhosted.org/packages/74/24/0cdbf8907e1e3bc5a8da03345c23cbed7044330bb8f73bb12e711a640a00/pandas-0.24.2-cp35-cp35m-manylinux1_x86_64.whl (10.0MB)\u001b[0m\n",
      "\u001b[34mCollecting numpy (from -r requirements.txt (line 2))\n",
      "  Downloading https://files.pythonhosted.org/packages/b5/36/88723426b4ff576809fec7d73594fe17a35c27f8d01f93637637a29ae25b/numpy-1.18.5-cp35-cp35m-manylinux1_x86_64.whl (19.9MB)\u001b[0m\n",
      "\u001b[34mCollecting nltk (from -r requirements.txt (line 3))\n",
      "  Downloading https://files.pythonhosted.org/packages/92/75/ce35194d8e3022203cca0d2f896dbb88689f9b3fce8e9f9cff942913519d/nltk-3.5.zip (1.4MB)\u001b[0m\n",
      "\u001b[34mCollecting beautifulsoup4 (from -r requirements.txt (line 4))\n",
      "  Downloading https://files.pythonhosted.org/packages/66/25/ff030e2437265616a1e9b25ccc864e0371a0bc3adb7c5a404fd661c6f4f6/beautifulsoup4-4.9.1-py3-none-any.whl (115kB)\u001b[0m\n",
      "\u001b[34mCollecting html5lib (from -r requirements.txt (line 5))\n",
      "  Downloading https://files.pythonhosted.org/packages/6c/dd/a834df6482147d48e225a49515aabc28974ad5a4ca3215c18a882565b028/html5lib-1.1-py2.py3-none-any.whl (112kB)\u001b[0m\n",
      "\u001b[34mRequirement already satisfied, skipping upgrade: python-dateutil>=2.5.0 in /usr/local/lib/python3.5/dist-packages (from pandas->-r requirements.txt (line 1)) (2.7.5)\u001b[0m\n",
      "\u001b[34mCollecting pytz>=2011k (from pandas->-r requirements.txt (line 1))\n",
      "  Downloading https://files.pythonhosted.org/packages/4f/a4/879454d49688e2fad93e59d7d4efda580b783c745fd2ec2a3adf87b0808d/pytz-2020.1-py2.py3-none-any.whl (510kB)\u001b[0m\n",
      "\u001b[34mRequirement already satisfied, skipping upgrade: click in /usr/local/lib/python3.5/dist-packages (from nltk->-r requirements.txt (line 3)) (7.0)\u001b[0m\n",
      "\u001b[34mCollecting joblib (from nltk->-r requirements.txt (line 3))\n",
      "  Downloading https://files.pythonhosted.org/packages/28/5c/cf6a2b65a321c4a209efcdf64c2689efae2cb62661f8f6f4bb28547cf1bf/joblib-0.14.1-py2.py3-none-any.whl (294kB)\u001b[0m\n",
      "\u001b[34mCollecting regex (from nltk->-r requirements.txt (line 3))\u001b[0m\n",
      "\u001b[34m  Downloading https://files.pythonhosted.org/packages/09/c3/ddaa87500f31ed86290e3d014c0302a51fde28d7139eda0b5f33733726db/regex-2020.7.14.tar.gz (690kB)\u001b[0m\n",
      "\u001b[34mCollecting tqdm (from nltk->-r requirements.txt (line 3))\n",
      "  Downloading https://files.pythonhosted.org/packages/73/d5/f220e0c69b2f346b5649b66abebb391df1a00a59997a7ccf823325bd7a3e/tqdm-4.49.0-py2.py3-none-any.whl (69kB)\u001b[0m\n",
      "\u001b[34mCollecting soupsieve>1.2 (from beautifulsoup4->-r requirements.txt (line 4))\n",
      "  Downloading https://files.pythonhosted.org/packages/6f/8f/457f4a5390eeae1cc3aeab89deb7724c965be841ffca6cfca9197482e470/soupsieve-2.0.1-py3-none-any.whl\u001b[0m\n",
      "\u001b[34mCollecting webencodings (from html5lib->-r requirements.txt (line 5))\n",
      "  Downloading https://files.pythonhosted.org/packages/f4/24/2a3e3df732393fed8b3ebf2ec078f05546de641fe1b667ee316ec1dcf3b7/webencodings-0.5.1-py2.py3-none-any.whl\u001b[0m\n",
      "\u001b[34mRequirement already satisfied, skipping upgrade: six>=1.9 in /usr/local/lib/python3.5/dist-packages (from html5lib->-r requirements.txt (line 5)) (1.11.0)\u001b[0m\n",
      "\u001b[34mBuilding wheels for collected packages: nltk, train, regex\n",
      "  Running setup.py bdist_wheel for nltk: started\u001b[0m\n",
      "\u001b[34m  Running setup.py bdist_wheel for nltk: finished with status 'done'\n",
      "  Stored in directory: /root/.cache/pip/wheels/ae/8c/3f/b1fe0ba04555b08b57ab52ab7f86023639a526d8bc8d384306\n",
      "  Running setup.py bdist_wheel for train: started\n",
      "  Running setup.py bdist_wheel for train: finished with status 'done'\n",
      "  Stored in directory: /tmp/pip-ephem-wheel-cache-2468pxse/wheels/35/24/16/37574d11bf9bde50616c67372a334f94fa8356bc7164af8ca3\n",
      "  Running setup.py bdist_wheel for regex: started\u001b[0m\n",
      "\u001b[34m  Running setup.py bdist_wheel for regex: finished with status 'done'\n",
      "  Stored in directory: /root/.cache/pip/wheels/53/55/dc/e17fa4568958f4c53be34b65e474a1327b64641f65df379ec3\u001b[0m\n",
      "\u001b[34mSuccessfully built nltk train regex\u001b[0m\n",
      "\u001b[34mInstalling collected packages: pytz, numpy, pandas, joblib, regex, tqdm, nltk, soupsieve, beautifulsoup4, webencodings, html5lib, train\n",
      "  Found existing installation: numpy 1.15.4\n",
      "    Uninstalling numpy-1.15.4:\u001b[0m\n",
      "\u001b[34m      Successfully uninstalled numpy-1.15.4\u001b[0m\n",
      "\u001b[34mSuccessfully installed beautifulsoup4-4.9.1 html5lib-1.1 joblib-0.14.1 nltk-3.5 numpy-1.18.5 pandas-0.24.2 pytz-2020.1 regex-2020.7.14 soupsieve-2.0.1 tqdm-4.49.0 train-1.0.0 webencodings-0.5.1\u001b[0m\n",
      "\u001b[34mYou are using pip version 18.1, however version 20.2.3 is available.\u001b[0m\n",
      "\u001b[34mYou should consider upgrading via the 'pip install --upgrade pip' command.\u001b[0m\n",
      "\u001b[34m2020-09-25 18:28:52,078 sagemaker-containers INFO     Invoking user script\n",
      "\u001b[0m\n",
      "\u001b[34mTraining Env:\n",
      "\u001b[0m\n",
      "\u001b[34m{\n",
      "    \"hyperparameters\": {\n",
      "        \"hidden_dim\": 50,\n",
      "        \"epochs\": 10\n",
      "    },\n",
      "    \"output_dir\": \"/opt/ml/output\",\n",
      "    \"output_data_dir\": \"/opt/ml/output/data\",\n",
      "    \"user_entry_point\": \"train.py\",\n",
      "    \"framework_module\": \"sagemaker_pytorch_container.training:main\",\n",
      "    \"additional_framework_parameters\": {},\n",
      "    \"input_data_config\": {\n",
      "        \"training\": {\n",
      "            \"S3DistributionType\": \"FullyReplicated\",\n",
      "            \"TrainingInputMode\": \"File\",\n",
      "            \"RecordWrapperType\": \"None\"\n",
      "        }\n",
      "    },\n",
      "    \"input_dir\": \"/opt/ml/input\",\n",
      "    \"current_host\": \"algo-1\",\n",
      "    \"input_config_dir\": \"/opt/ml/input/config\",\n",
      "    \"model_dir\": \"/opt/ml/model\",\n",
      "    \"job_name\": \"sagemaker-pytorch-2020-09-25-18-24-23-206\",\n",
      "    \"channel_input_dirs\": {\n",
      "        \"training\": \"/opt/ml/input/data/training\"\n",
      "    },\n",
      "    \"hosts\": [\n",
      "        \"algo-1\"\n",
      "    ],\n",
      "    \"log_level\": 20,\n",
      "    \"output_intermediate_dir\": \"/opt/ml/output/intermediate\",\n",
      "    \"module_dir\": \"s3://sagemaker-us-east-1-527050627903/sagemaker-pytorch-2020-09-25-18-24-23-206/source/sourcedir.tar.gz\",\n",
      "    \"module_name\": \"train\",\n",
      "    \"num_gpus\": 1,\n",
      "    \"resource_config\": {\n",
      "        \"current_host\": \"algo-1\",\n",
      "        \"hosts\": [\n",
      "            \"algo-1\"\n",
      "        ],\n",
      "        \"network_interface_name\": \"eth0\"\n",
      "    },\n",
      "    \"num_cpus\": 4,\n",
      "    \"network_interface_name\": \"eth0\"\u001b[0m\n",
      "\u001b[34m}\n",
      "\u001b[0m\n",
      "\u001b[34mEnvironment variables:\n",
      "\u001b[0m\n",
      "\u001b[34mSM_HP_HIDDEN_DIM=50\u001b[0m\n",
      "\u001b[34mSM_TRAINING_ENV={\"additional_framework_parameters\":{},\"channel_input_dirs\":{\"training\":\"/opt/ml/input/data/training\"},\"current_host\":\"algo-1\",\"framework_module\":\"sagemaker_pytorch_container.training:main\",\"hosts\":[\"algo-1\"],\"hyperparameters\":{\"epochs\":10,\"hidden_dim\":50},\"input_config_dir\":\"/opt/ml/input/config\",\"input_data_config\":{\"training\":{\"RecordWrapperType\":\"None\",\"S3DistributionType\":\"FullyReplicated\",\"TrainingInputMode\":\"File\"}},\"input_dir\":\"/opt/ml/input\",\"job_name\":\"sagemaker-pytorch-2020-09-25-18-24-23-206\",\"log_level\":20,\"model_dir\":\"/opt/ml/model\",\"module_dir\":\"s3://sagemaker-us-east-1-527050627903/sagemaker-pytorch-2020-09-25-18-24-23-206/source/sourcedir.tar.gz\",\"module_name\":\"train\",\"network_interface_name\":\"eth0\",\"num_cpus\":4,\"num_gpus\":1,\"output_data_dir\":\"/opt/ml/output/data\",\"output_dir\":\"/opt/ml/output\",\"output_intermediate_dir\":\"/opt/ml/output/intermediate\",\"resource_config\":{\"current_host\":\"algo-1\",\"hosts\":[\"algo-1\"],\"network_interface_name\":\"eth0\"},\"user_entry_point\":\"train.py\"}\u001b[0m\n",
      "\u001b[34mSM_USER_ARGS=[\"--epochs\",\"10\",\"--hidden_dim\",\"50\"]\u001b[0m\n",
      "\u001b[34mSM_CURRENT_HOST=algo-1\u001b[0m\n",
      "\u001b[34mSM_LOG_LEVEL=20\u001b[0m\n",
      "\u001b[34mSM_NUM_CPUS=4\u001b[0m\n",
      "\u001b[34mSM_OUTPUT_DATA_DIR=/opt/ml/output/data\u001b[0m\n",
      "\u001b[34mSM_HPS={\"epochs\":10,\"hidden_dim\":50}\u001b[0m\n",
      "\u001b[34mSM_CHANNEL_TRAINING=/opt/ml/input/data/training\u001b[0m\n",
      "\u001b[34mSM_INPUT_DATA_CONFIG={\"training\":{\"RecordWrapperType\":\"None\",\"S3DistributionType\":\"FullyReplicated\",\"TrainingInputMode\":\"File\"}}\u001b[0m\n",
      "\u001b[34mSM_NETWORK_INTERFACE_NAME=eth0\u001b[0m\n",
      "\u001b[34mSM_USER_ENTRY_POINT=train.py\u001b[0m\n",
      "\u001b[34mSM_INPUT_DIR=/opt/ml/input\u001b[0m\n",
      "\u001b[34mSM_OUTPUT_INTERMEDIATE_DIR=/opt/ml/output/intermediate\u001b[0m\n",
      "\u001b[34mPYTHONPATH=/usr/local/bin:/usr/lib/python35.zip:/usr/lib/python3.5:/usr/lib/python3.5/plat-x86_64-linux-gnu:/usr/lib/python3.5/lib-dynload:/usr/local/lib/python3.5/dist-packages:/usr/lib/python3/dist-packages\u001b[0m\n",
      "\u001b[34mSM_RESOURCE_CONFIG={\"current_host\":\"algo-1\",\"hosts\":[\"algo-1\"],\"network_interface_name\":\"eth0\"}\u001b[0m\n",
      "\u001b[34mSM_NUM_GPUS=1\u001b[0m\n",
      "\u001b[34mSM_HOSTS=[\"algo-1\"]\u001b[0m\n",
      "\u001b[34mSM_INPUT_CONFIG_DIR=/opt/ml/input/config\u001b[0m\n",
      "\u001b[34mSM_MODEL_DIR=/opt/ml/model\u001b[0m\n",
      "\u001b[34mSM_MODULE_NAME=train\u001b[0m\n",
      "\u001b[34mSM_OUTPUT_DIR=/opt/ml/output\u001b[0m\n",
      "\u001b[34mSM_FRAMEWORK_MODULE=sagemaker_pytorch_container.training:main\u001b[0m\n",
      "\u001b[34mSM_HP_EPOCHS=10\u001b[0m\n",
      "\u001b[34mSM_CHANNELS=[\"training\"]\u001b[0m\n",
      "\u001b[34mSM_MODULE_DIR=s3://sagemaker-us-east-1-527050627903/sagemaker-pytorch-2020-09-25-18-24-23-206/source/sourcedir.tar.gz\u001b[0m\n",
      "\u001b[34mSM_FRAMEWORK_PARAMS={}\n",
      "\u001b[0m\n",
      "\u001b[34mInvoking script with the following command:\n",
      "\u001b[0m\n",
      "\u001b[34m/usr/bin/python -m train --epochs 10 --hidden_dim 50\n",
      "\n",
      "\u001b[0m\n",
      "\u001b[34mUsing device cuda.\u001b[0m\n",
      "\u001b[34mGet train data loader.\u001b[0m\n",
      "\u001b[34mModel loaded with embedding_dim 32, hidden_dim 50, vocab_size 5000.\u001b[0m\n",
      "\u001b[34mEpoch: 1, BCELoss: 0.6833701401340718\u001b[0m\n",
      "\u001b[34mEpoch: 2, BCELoss: 0.6246045243983366\u001b[0m\n",
      "\u001b[34mEpoch: 3, BCELoss: 0.5254493617281621\u001b[0m\n",
      "\u001b[34mEpoch: 4, BCELoss: 0.43937915685225504\u001b[0m\n",
      "\u001b[34mEpoch: 5, BCELoss: 0.3831142771000765\u001b[0m\n",
      "\u001b[34mEpoch: 6, BCELoss: 0.34956260360017116\u001b[0m\n",
      "\u001b[34mEpoch: 7, BCELoss: 0.3219587456206886\u001b[0m\n",
      "\u001b[34mEpoch: 8, BCELoss: 0.29686640993672975\u001b[0m\n",
      "\u001b[34mEpoch: 9, BCELoss: 0.2814453685162019\u001b[0m\n",
      "\u001b[34mEpoch: 10, BCELoss: 0.26073814046626187\u001b[0m\n",
      "\u001b[34m2020-09-25 18:29:46,313 sagemaker-containers INFO     Reporting training SUCCESS\u001b[0m\n",
      "Training seconds: 160\n",
      "Billable seconds: 160\n"
     ]
    }
   ],
   "source": [
    "#training_job_name = estimator.latest_training_job\n",
    "estimator = estimator.attach('sagemaker-pytorch-2020-09-25-18-24-23-206')"
   ]
  },
  {
   "cell_type": "code",
   "execution_count": 165,
   "metadata": {},
   "outputs": [
    {
     "name": "stdout",
     "output_type": "stream",
     "text": [
      "<sagemaker.pytorch.estimator.PyTorch object at 0x7fe34b33fb00>\n"
     ]
    }
   ],
   "source": [
    "print(estimator)"
   ]
  },
  {
   "cell_type": "code",
   "execution_count": 166,
   "metadata": {},
   "outputs": [],
   "source": [
    "#no need to run more than once\n",
    "#estimator.fit({'training': input_data})"
   ]
  },
  {
   "cell_type": "markdown",
   "metadata": {},
   "source": [
    "## Step 5: Testing the model\n",
    "\n",
    "As mentioned at the top of this notebook, we will be testing this model by first deploying it and then sending the testing data to the deployed endpoint. We will do this so that we can make sure that the deployed model is working correctly.\n",
    "\n",
    "## Step 6: Deploy the model for testing\n",
    "\n",
    "Now that we have trained our model, we would like to test it to see how it performs. Currently our model takes input of the form `review_length, review[500]` where `review[500]` is a sequence of `500` integers which describe the words present in the review, encoded using `word_dict`. Fortunately for us, SageMaker provides built-in inference code for models with simple inputs such as this.\n",
    "\n",
    "There is one thing that we need to provide, however, and that is a function which loads the saved model. This function must be called `model_fn()` and takes as its only parameter a path to the directory where the model artifacts are stored. This function must also be present in the python file which we specified as the entry point. In our case the model loading function has been provided and so no changes need to be made.\n",
    "\n",
    "**NOTE**: When the built-in inference code is run it must import the `model_fn()` method from the `train.py` file. This is why the training code is wrapped in a main guard ( ie, `if __name__ == '__main__':` )\n",
    "\n",
    "Since we don't need to change anything in the code that was uploaded during training, we can simply deploy the current model as-is.\n",
    "\n",
    "**NOTE:** When deploying a model you are asking SageMaker to launch an compute instance that will wait for data to be sent to it. As a result, this compute instance will continue to run until *you* shut it down. This is important to know since the cost of a deployed endpoint depends on how long it has been running for.\n",
    "\n",
    "In other words **If you are no longer using a deployed endpoint, shut it down!**\n",
    "\n",
    "**TODO:** Deploy the trained model."
   ]
  },
  {
   "cell_type": "code",
   "execution_count": 167,
   "metadata": {},
   "outputs": [
    {
     "name": "stderr",
     "output_type": "stream",
     "text": [
      "Parameter image will be renamed to image_uri in SageMaker Python SDK v2.\n",
      "'create_image_uri' will be deprecated in favor of 'ImageURIProvider' class in SageMaker Python SDK v2.\n",
      "Using already existing model: sagemaker-pytorch-2020-09-25-18-24-23-206\n"
     ]
    },
    {
     "name": "stdout",
     "output_type": "stream",
     "text": [
      "-------------------!"
     ]
    }
   ],
   "source": [
    "# TODO: Deploy the trained model\n",
    "predictor = estimator.deploy(initial_instance_count = 1, instance_type = 'ml.p2.xlarge')"
   ]
  },
  {
   "cell_type": "code",
   "execution_count": 168,
   "metadata": {},
   "outputs": [
    {
     "data": {
      "text/plain": [
       "'sagemaker-pytorch-2020-09-25-18-24-23-206'"
      ]
     },
     "execution_count": 168,
     "metadata": {},
     "output_type": "execute_result"
    }
   ],
   "source": [
    "predictor.endpoint"
   ]
  },
  {
   "cell_type": "markdown",
   "metadata": {},
   "source": [
    "## Step 7 - Use the model for testing\n",
    "\n",
    "Once deployed, we can read in the test data and send it off to our deployed model to get some results. Once we collect all of the results we can determine how accurate our model is."
   ]
  },
  {
   "cell_type": "code",
   "execution_count": 169,
   "metadata": {},
   "outputs": [],
   "source": [
    "test_X = pd.concat([pd.DataFrame(test_X_len), pd.DataFrame(test_X)], axis=1)"
   ]
  },
  {
   "cell_type": "code",
   "execution_count": 170,
   "metadata": {},
   "outputs": [],
   "source": [
    "# We split the data into chunks and send each chunk seperately, accumulating the results.\n",
    "\n",
    "def predict(data, rows=512):\n",
    "    split_array = np.array_split(data, int(data.shape[0] / float(rows) + 1))\n",
    "    predictions = np.array([])\n",
    "    for array in split_array:\n",
    "        predictions = np.append(predictions, predictor.predict(array))\n",
    "    \n",
    "    return predictions"
   ]
  },
  {
   "cell_type": "code",
   "execution_count": 171,
   "metadata": {},
   "outputs": [],
   "source": [
    "predictions = predict(test_X.values)\n",
    "predictions = [round(num) for num in predictions]"
   ]
  },
  {
   "cell_type": "code",
   "execution_count": 172,
   "metadata": {},
   "outputs": [
    {
     "data": {
      "text/plain": [
       "0.85172"
      ]
     },
     "execution_count": 172,
     "metadata": {},
     "output_type": "execute_result"
    }
   ],
   "source": [
    "from sklearn.metrics import accuracy_score\n",
    "accuracy_score(test_y, predictions)"
   ]
  },
  {
   "cell_type": "markdown",
   "metadata": {},
   "source": [
    "**Question:** How does this model compare to the XGBoost model you created earlier? Why might these two models perform differently on this dataset? Which do *you* think is better for sentiment analysis?"
   ]
  },
  {
   "cell_type": "markdown",
   "metadata": {},
   "source": [
    "**Answer:**\n",
    "The performance of this is almost similar to XGBoost. However, this model will perform differently and better than XGBoost with more layers and epoch. "
   ]
  },
  {
   "cell_type": "markdown",
   "metadata": {},
   "source": [
    "### (TODO) More testing\n",
    "\n",
    "We now have a trained model which has been deployed and which we can send processed reviews to and which returns the predicted sentiment. However, ultimately we would like to be able to send our model an unprocessed review. That is, we would like to send the review itself as a string. For example, suppose we wish to send the following review to our model."
   ]
  },
  {
   "cell_type": "code",
   "execution_count": 173,
   "metadata": {},
   "outputs": [],
   "source": [
    "test_review = 'The simplest pleasures in life are the best, and this film is one of them. Combining a rather basic storyline of love and adventure this movie transcends the usual weekend fair with wit and unmitigated charm.'"
   ]
  },
  {
   "cell_type": "markdown",
   "metadata": {},
   "source": [
    "The question we now need to answer is, how do we send this review to our model?\n",
    "\n",
    "Recall in the first section of this notebook we did a bunch of data processing to the IMDb dataset. In particular, we did two specific things to the provided reviews.\n",
    " - Removed any html tags and stemmed the input\n",
    " - Encoded the review as a sequence of integers using `word_dict`\n",
    " \n",
    "In order process the review we will need to repeat these two steps.\n",
    "\n",
    "**TODO**: Using the `review_to_words` and `convert_and_pad` methods from section one, convert `test_review` into a numpy array `test_data` suitable to send to our model. Remember that our model expects input of the form `review_length, review[500]`."
   ]
  },
  {
   "cell_type": "code",
   "execution_count": 174,
   "metadata": {},
   "outputs": [],
   "source": [
    "# TODO: Convert test_review into a form usable by the model and save the results in test_data\n",
    "test_data = review_to_words(test_review)\n",
    "test_data = [np.array(convert_and_pad(word_dict, test_data)[0])]"
   ]
  },
  {
   "cell_type": "markdown",
   "metadata": {},
   "source": [
    "Now that we have processed the review, we can send the resulting array to our model to predict the sentiment of the review."
   ]
  },
  {
   "cell_type": "code",
   "execution_count": 175,
   "metadata": {},
   "outputs": [
    {
     "data": {
      "text/plain": [
       "array(0.64497566, dtype=float32)"
      ]
     },
     "execution_count": 175,
     "metadata": {},
     "output_type": "execute_result"
    }
   ],
   "source": [
    "predictor.predict(test_data)"
   ]
  },
  {
   "cell_type": "markdown",
   "metadata": {},
   "source": [
    "Since the return value of the model is close to `1`, it can be said that the submitted review is positive."
   ]
  },
  {
   "cell_type": "markdown",
   "metadata": {},
   "source": [
    "### Delete the endpoint\n",
    "\n",
    "Of course, just like in the XGBoost notebook, once we've deployed an endpoint it continues to run until we tell it to shut down. Since we are done using our endpoint for now, we can delete it."
   ]
  },
  {
   "cell_type": "code",
   "execution_count": 176,
   "metadata": {},
   "outputs": [
    {
     "name": "stderr",
     "output_type": "stream",
     "text": [
      "estimator.delete_endpoint() will be deprecated in SageMaker Python SDK v2. Please use the delete_endpoint() function on your predictor instead.\n"
     ]
    }
   ],
   "source": [
    "estimator.delete_endpoint()"
   ]
  },
  {
   "cell_type": "markdown",
   "metadata": {},
   "source": [
    "## Step 6 (again) - Deploy the model for the web app\n",
    "\n",
    "Now that we know that our model is working, it's time to create some custom inference code so that we can send the model a review which has not been processed and have it determine the sentiment of the review.\n",
    "\n",
    "As we saw above, by default the estimator which we created, when deployed, will use the entry script and directory which we provided when creating the model. However, since we now wish to accept a string as input and our model expects a processed review, we need to write some custom inference code.\n",
    "\n",
    "We will store the code that we write in the `serve` directory. Provided in this directory is the `model.py` file that we used to construct our model, a `utils.py` file which contains the `review_to_words` and `convert_and_pad` pre-processing functions which we used during the initial data processing, and `predict.py`, the file which will contain our custom inference code. Note also that `requirements.txt` is present which will tell SageMaker what Python libraries are required by our custom inference code.\n",
    "\n",
    "When deploying a PyTorch model in SageMaker, you are expected to provide four functions which the SageMaker inference container will use.\n",
    " - `model_fn`: This function is the same function that we used in the training script and it tells SageMaker how to load our model.\n",
    " - `input_fn`: This function receives the raw serialized input that has been sent to the model's endpoint and its job is to de-serialize and make the input available for the inference code.\n",
    " - `output_fn`: This function takes the output of the inference code and its job is to serialize this output and return it to the caller of the model's endpoint.\n",
    " - `predict_fn`: The heart of the inference script, this is where the actual prediction is done and is the function which you will need to complete.\n",
    "\n",
    "For the simple website that we are constructing during this project, the `input_fn` and `output_fn` methods are relatively straightforward. We only require being able to accept a string as input and we expect to return a single value as output. You might imagine though that in a more complex application the input or output may be image data or some other binary data which would require some effort to serialize.\n",
    "\n",
    "### (TODO) Writing inference code\n",
    "\n",
    "Before writing our custom inference code, we will begin by taking a look at the code which has been provided."
   ]
  },
  {
   "cell_type": "code",
   "execution_count": 177,
   "metadata": {
    "scrolled": true
   },
   "outputs": [
    {
     "name": "stdout",
     "output_type": "stream",
     "text": [
      "\u001b[34mimport\u001b[39;49;00m \u001b[04m\u001b[36margparse\u001b[39;49;00m\r\n",
      "\u001b[34mimport\u001b[39;49;00m \u001b[04m\u001b[36mjson\u001b[39;49;00m\r\n",
      "\u001b[34mimport\u001b[39;49;00m \u001b[04m\u001b[36mos\u001b[39;49;00m\r\n",
      "\u001b[34mimport\u001b[39;49;00m \u001b[04m\u001b[36mpickle\u001b[39;49;00m\r\n",
      "\u001b[34mimport\u001b[39;49;00m \u001b[04m\u001b[36msys\u001b[39;49;00m\r\n",
      "\u001b[34mimport\u001b[39;49;00m \u001b[04m\u001b[36msagemaker_containers\u001b[39;49;00m\r\n",
      "\u001b[34mimport\u001b[39;49;00m \u001b[04m\u001b[36mpandas\u001b[39;49;00m \u001b[34mas\u001b[39;49;00m \u001b[04m\u001b[36mpd\u001b[39;49;00m\r\n",
      "\u001b[34mimport\u001b[39;49;00m \u001b[04m\u001b[36mnumpy\u001b[39;49;00m \u001b[34mas\u001b[39;49;00m \u001b[04m\u001b[36mnp\u001b[39;49;00m\r\n",
      "\u001b[34mimport\u001b[39;49;00m \u001b[04m\u001b[36mtorch\u001b[39;49;00m\r\n",
      "\u001b[34mimport\u001b[39;49;00m \u001b[04m\u001b[36mtorch\u001b[39;49;00m\u001b[04m\u001b[36m.\u001b[39;49;00m\u001b[04m\u001b[36mnn\u001b[39;49;00m \u001b[34mas\u001b[39;49;00m \u001b[04m\u001b[36mnn\u001b[39;49;00m\r\n",
      "\u001b[34mimport\u001b[39;49;00m \u001b[04m\u001b[36mtorch\u001b[39;49;00m\u001b[04m\u001b[36m.\u001b[39;49;00m\u001b[04m\u001b[36moptim\u001b[39;49;00m \u001b[34mas\u001b[39;49;00m \u001b[04m\u001b[36moptim\u001b[39;49;00m\r\n",
      "\u001b[34mimport\u001b[39;49;00m \u001b[04m\u001b[36mtorch\u001b[39;49;00m\u001b[04m\u001b[36m.\u001b[39;49;00m\u001b[04m\u001b[36mutils\u001b[39;49;00m\u001b[04m\u001b[36m.\u001b[39;49;00m\u001b[04m\u001b[36mdata\u001b[39;49;00m\r\n",
      "\r\n",
      "\u001b[34mfrom\u001b[39;49;00m \u001b[04m\u001b[36mmodel\u001b[39;49;00m \u001b[34mimport\u001b[39;49;00m LSTMClassifier\r\n",
      "\r\n",
      "\u001b[34mfrom\u001b[39;49;00m \u001b[04m\u001b[36mutils\u001b[39;49;00m \u001b[34mimport\u001b[39;49;00m review_to_words, convert_and_pad\r\n",
      "\r\n",
      "\u001b[34mdef\u001b[39;49;00m \u001b[32mmodel_fn\u001b[39;49;00m(model_dir):\r\n",
      "    \u001b[33m\"\"\"Load the PyTorch model from the `model_dir` directory.\"\"\"\u001b[39;49;00m\r\n",
      "    \u001b[36mprint\u001b[39;49;00m(\u001b[33m\"\u001b[39;49;00m\u001b[33mLoading model.\u001b[39;49;00m\u001b[33m\"\u001b[39;49;00m)\r\n",
      "\r\n",
      "    \u001b[37m# First, load the parameters used to create the model.\u001b[39;49;00m\r\n",
      "    model_info = {}\r\n",
      "    model_info_path = os.path.join(model_dir, \u001b[33m'\u001b[39;49;00m\u001b[33mmodel_info.pth\u001b[39;49;00m\u001b[33m'\u001b[39;49;00m)\r\n",
      "    \u001b[34mwith\u001b[39;49;00m \u001b[36mopen\u001b[39;49;00m(model_info_path, \u001b[33m'\u001b[39;49;00m\u001b[33mrb\u001b[39;49;00m\u001b[33m'\u001b[39;49;00m) \u001b[34mas\u001b[39;49;00m f:\r\n",
      "        model_info = torch.load(f)\r\n",
      "\r\n",
      "    \u001b[36mprint\u001b[39;49;00m(\u001b[33m\"\u001b[39;49;00m\u001b[33mmodel_info: \u001b[39;49;00m\u001b[33m{}\u001b[39;49;00m\u001b[33m\"\u001b[39;49;00m.format(model_info))\r\n",
      "\r\n",
      "    \u001b[37m# Determine the device and construct the model.\u001b[39;49;00m\r\n",
      "    device = torch.device(\u001b[33m\"\u001b[39;49;00m\u001b[33mcuda\u001b[39;49;00m\u001b[33m\"\u001b[39;49;00m \u001b[34mif\u001b[39;49;00m torch.cuda.is_available() \u001b[34melse\u001b[39;49;00m \u001b[33m\"\u001b[39;49;00m\u001b[33mcpu\u001b[39;49;00m\u001b[33m\"\u001b[39;49;00m)\r\n",
      "    model = LSTMClassifier(model_info[\u001b[33m'\u001b[39;49;00m\u001b[33membedding_dim\u001b[39;49;00m\u001b[33m'\u001b[39;49;00m], model_info[\u001b[33m'\u001b[39;49;00m\u001b[33mhidden_dim\u001b[39;49;00m\u001b[33m'\u001b[39;49;00m], model_info[\u001b[33m'\u001b[39;49;00m\u001b[33mvocab_size\u001b[39;49;00m\u001b[33m'\u001b[39;49;00m])\r\n",
      "\r\n",
      "    \u001b[37m# Load the store model parameters.\u001b[39;49;00m\r\n",
      "    model_path = os.path.join(model_dir, \u001b[33m'\u001b[39;49;00m\u001b[33mmodel.pth\u001b[39;49;00m\u001b[33m'\u001b[39;49;00m)\r\n",
      "    \u001b[34mwith\u001b[39;49;00m \u001b[36mopen\u001b[39;49;00m(model_path, \u001b[33m'\u001b[39;49;00m\u001b[33mrb\u001b[39;49;00m\u001b[33m'\u001b[39;49;00m) \u001b[34mas\u001b[39;49;00m f:\r\n",
      "        model.load_state_dict(torch.load(f))\r\n",
      "\r\n",
      "    \u001b[37m# Load the saved word_dict.\u001b[39;49;00m\r\n",
      "    word_dict_path = os.path.join(model_dir, \u001b[33m'\u001b[39;49;00m\u001b[33mword_dict.pkl\u001b[39;49;00m\u001b[33m'\u001b[39;49;00m)\r\n",
      "    \u001b[34mwith\u001b[39;49;00m \u001b[36mopen\u001b[39;49;00m(word_dict_path, \u001b[33m'\u001b[39;49;00m\u001b[33mrb\u001b[39;49;00m\u001b[33m'\u001b[39;49;00m) \u001b[34mas\u001b[39;49;00m f:\r\n",
      "        model.word_dict = pickle.load(f)\r\n",
      "\r\n",
      "    model.to(device).eval()\r\n",
      "\r\n",
      "    \u001b[36mprint\u001b[39;49;00m(\u001b[33m\"\u001b[39;49;00m\u001b[33mDone loading model.\u001b[39;49;00m\u001b[33m\"\u001b[39;49;00m)\r\n",
      "    \u001b[34mreturn\u001b[39;49;00m model\r\n",
      "\r\n",
      "\u001b[34mdef\u001b[39;49;00m \u001b[32minput_fn\u001b[39;49;00m(serialized_input_data, content_type):\r\n",
      "    \u001b[36mprint\u001b[39;49;00m(\u001b[33m'\u001b[39;49;00m\u001b[33mDeserializing the input data.\u001b[39;49;00m\u001b[33m'\u001b[39;49;00m)\r\n",
      "    \u001b[34mif\u001b[39;49;00m content_type == \u001b[33m'\u001b[39;49;00m\u001b[33mtext/plain\u001b[39;49;00m\u001b[33m'\u001b[39;49;00m:\r\n",
      "        data = serialized_input_data.decode(\u001b[33m'\u001b[39;49;00m\u001b[33mutf-8\u001b[39;49;00m\u001b[33m'\u001b[39;49;00m)\r\n",
      "        \u001b[34mreturn\u001b[39;49;00m data\r\n",
      "    \u001b[34mraise\u001b[39;49;00m \u001b[36mException\u001b[39;49;00m(\u001b[33m'\u001b[39;49;00m\u001b[33mRequested unsupported ContentType in content_type: \u001b[39;49;00m\u001b[33m'\u001b[39;49;00m + content_type)\r\n",
      "\r\n",
      "\u001b[34mdef\u001b[39;49;00m \u001b[32moutput_fn\u001b[39;49;00m(prediction_output, accept):\r\n",
      "    \u001b[36mprint\u001b[39;49;00m(\u001b[33m'\u001b[39;49;00m\u001b[33mSerializing the generated output.\u001b[39;49;00m\u001b[33m'\u001b[39;49;00m)\r\n",
      "    \u001b[34mreturn\u001b[39;49;00m \u001b[36mstr\u001b[39;49;00m(prediction_output)\r\n",
      "\r\n",
      "\u001b[34mdef\u001b[39;49;00m \u001b[32mpredict_fn\u001b[39;49;00m(input_data, model):\r\n",
      "    \u001b[36mprint\u001b[39;49;00m(\u001b[33m'\u001b[39;49;00m\u001b[33mInferring sentiment of input data.\u001b[39;49;00m\u001b[33m'\u001b[39;49;00m)\r\n",
      "\r\n",
      "    device = torch.device(\u001b[33m\"\u001b[39;49;00m\u001b[33mcuda\u001b[39;49;00m\u001b[33m\"\u001b[39;49;00m \u001b[34mif\u001b[39;49;00m torch.cuda.is_available() \u001b[34melse\u001b[39;49;00m \u001b[33m\"\u001b[39;49;00m\u001b[33mcpu\u001b[39;49;00m\u001b[33m\"\u001b[39;49;00m)\r\n",
      "    \r\n",
      "    \u001b[34mif\u001b[39;49;00m model.word_dict \u001b[35mis\u001b[39;49;00m \u001b[34mNone\u001b[39;49;00m:\r\n",
      "        \u001b[34mraise\u001b[39;49;00m \u001b[36mException\u001b[39;49;00m(\u001b[33m'\u001b[39;49;00m\u001b[33mModel has not been loaded properly, no word_dict.\u001b[39;49;00m\u001b[33m'\u001b[39;49;00m)\r\n",
      "    \r\n",
      "    \u001b[37m# TODO: Process input_data so that it is ready to be sent to our model.\u001b[39;49;00m\r\n",
      "    \u001b[37m#       You should produce two variables:\u001b[39;49;00m\r\n",
      "    \u001b[37m#         data_X   - A sequence of length 500 which represents the converted review\u001b[39;49;00m\r\n",
      "    \u001b[37m#         data_len - The length of the review\u001b[39;49;00m\r\n",
      "    words = review_to_words(input_data)\r\n",
      "    data_X, data_len  = convert_and_pad(model.word_dict, words)\r\n",
      "\r\n",
      "    \u001b[37m# Using data_X and data_len we construct an appropriate input tensor. Remember\u001b[39;49;00m\r\n",
      "    \u001b[37m# that our model expects input data of the form 'len, review[500]'.\u001b[39;49;00m\r\n",
      "    data_pack = np.hstack((data_len, data_X))\r\n",
      "    data_pack = data_pack.reshape(\u001b[34m1\u001b[39;49;00m, -\u001b[34m1\u001b[39;49;00m)\r\n",
      "    \r\n",
      "    data = torch.from_numpy(data_pack)\r\n",
      "    data = data.to(device)\r\n",
      "\r\n",
      "    \u001b[37m# Make sure to put the model into evaluation mode\u001b[39;49;00m\r\n",
      "    model.eval()\r\n",
      "\r\n",
      "    \u001b[37m# TODO: Compute the result of applying the model to the input data. The variable `result` should\u001b[39;49;00m\r\n",
      "    \u001b[37m#       be a numpy array which contains a single integer which is either 1 or 0\u001b[39;49;00m\r\n",
      "    \u001b[34mwith\u001b[39;49;00m torch.no_grad():\r\n",
      "        output = model(data)\r\n",
      "    result = (model(data).data).cpu().numpy().round()\r\n",
      "    \r\n",
      "    \u001b[34mreturn\u001b[39;49;00m result\r\n"
     ]
    }
   ],
   "source": [
    "!pygmentize serve/predict.py"
   ]
  },
  {
   "cell_type": "markdown",
   "metadata": {},
   "source": [
    "As mentioned earlier, the `model_fn` method is the same as the one provided in the training code and the `input_fn` and `output_fn` methods are very simple and your task will be to complete the `predict_fn` method. Make sure that you save the completed file as `predict.py` in the `serve` directory.\n",
    "\n",
    "**TODO**: Complete the `predict_fn()` method in the `serve/predict.py` file."
   ]
  },
  {
   "cell_type": "markdown",
   "metadata": {},
   "source": [
    "### Deploying the model\n",
    "\n",
    "Now that the custom inference code has been written, we will create and deploy our model. To begin with, we need to construct a new PyTorchModel object which points to the model artifacts created during training and also points to the inference code that we wish to use. Then we can call the deploy method to launch the deployment container.\n",
    "\n",
    "**NOTE**: The default behaviour for a deployed PyTorch model is to assume that any input passed to the predictor is a `numpy` array. In our case we want to send a string so we need to construct a simple wrapper around the `RealTimePredictor` class to accomodate simple strings. In a more complicated situation you may want to provide a serialization object, for example if you wanted to sent image data."
   ]
  },
  {
   "cell_type": "code",
   "execution_count": 178,
   "metadata": {},
   "outputs": [
    {
     "name": "stderr",
     "output_type": "stream",
     "text": [
      "Parameter image will be renamed to image_uri in SageMaker Python SDK v2.\n",
      "'create_image_uri' will be deprecated in favor of 'ImageURIProvider' class in SageMaker Python SDK v2.\n"
     ]
    },
    {
     "name": "stdout",
     "output_type": "stream",
     "text": [
      "-------------------!"
     ]
    }
   ],
   "source": [
    "from sagemaker.predictor import RealTimePredictor\n",
    "from sagemaker.pytorch import PyTorchModel\n",
    "\n",
    "class StringPredictor(RealTimePredictor):\n",
    "    def __init__(self, endpoint_name, sagemaker_session):\n",
    "        super(StringPredictor, self).__init__(endpoint_name, sagemaker_session, content_type='text/plain')\n",
    "\n",
    "model = PyTorchModel(model_data=estimator.model_data,\n",
    "                     role = role,\n",
    "                     framework_version='0.4.0',\n",
    "                     entry_point='predict.py',\n",
    "                     source_dir='serve',\n",
    "                     predictor_cls=StringPredictor)\n",
    "predictor = model.deploy(initial_instance_count=1, instance_type='ml.p2.xlarge')"
   ]
  },
  {
   "cell_type": "markdown",
   "metadata": {},
   "source": [
    "### Testing the model\n",
    "\n",
    "Now that we have deployed our model with the custom inference code, we should test to see if everything is working. Here we test our model by loading the first `250` positive and negative reviews and send them to the endpoint, then collect the results. The reason for only sending some of the data is that the amount of time it takes for our model to process the input and then perform inference is quite long and so testing the entire data set would be prohibitive."
   ]
  },
  {
   "cell_type": "code",
   "execution_count": 179,
   "metadata": {},
   "outputs": [],
   "source": [
    "import glob\n",
    "\n",
    "def test_reviews(data_dir='../data/aclImdb', stop=250):\n",
    "    \n",
    "    results = []\n",
    "    ground = []\n",
    "    \n",
    "    # We make sure to test both positive and negative reviews    \n",
    "    for sentiment in ['pos', 'neg']:\n",
    "        \n",
    "        path = os.path.join(data_dir, 'test', sentiment, '*.txt')\n",
    "        files = glob.glob(path)\n",
    "        \n",
    "        files_read = 0\n",
    "        \n",
    "        print('Starting ', sentiment, ' files')\n",
    "        \n",
    "        # Iterate through the files and send them to the predictor\n",
    "        for f in files:\n",
    "            with open(f) as review:\n",
    "                # First, we store the ground truth (was the review positive or negative)\n",
    "                if sentiment == 'pos':\n",
    "                    ground.append(1)\n",
    "                else:\n",
    "                    ground.append(0)\n",
    "                # Read in the review and convert to 'utf-8' for transmission via HTTP\n",
    "                review_input = review.read().encode('utf-8')\n",
    "                # Send the review to the predictor and store the results\n",
    "                results.append(float(predictor.predict(review_input)))\n",
    "                \n",
    "            # Sending reviews to our endpoint one at a time takes a while so we\n",
    "            # only send a small number of reviews\n",
    "            files_read += 1\n",
    "            if files_read == stop:\n",
    "                break\n",
    "            \n",
    "    return ground, results"
   ]
  },
  {
   "cell_type": "code",
   "execution_count": 180,
   "metadata": {},
   "outputs": [
    {
     "data": {
      "text/plain": [
       "'sagemaker-pytorch-2020-09-25-19-17-47-563'"
      ]
     },
     "execution_count": 180,
     "metadata": {},
     "output_type": "execute_result"
    }
   ],
   "source": [
    "predictor.endpoint"
   ]
  },
  {
   "cell_type": "code",
   "execution_count": 181,
   "metadata": {
    "scrolled": false
   },
   "outputs": [
    {
     "name": "stdout",
     "output_type": "stream",
     "text": [
      "Starting  pos  files\n",
      "Starting  neg  files\n"
     ]
    }
   ],
   "source": [
    "ground, results = test_reviews()"
   ]
  },
  {
   "cell_type": "code",
   "execution_count": 182,
   "metadata": {},
   "outputs": [
    {
     "data": {
      "text/plain": [
       "0.844"
      ]
     },
     "execution_count": 182,
     "metadata": {},
     "output_type": "execute_result"
    }
   ],
   "source": [
    "from sklearn.metrics import accuracy_score\n",
    "accuracy_score(ground, results)"
   ]
  },
  {
   "cell_type": "markdown",
   "metadata": {},
   "source": [
    "As an additional test, we can try sending the `test_review` that we looked at earlier."
   ]
  },
  {
   "cell_type": "code",
   "execution_count": 183,
   "metadata": {},
   "outputs": [
    {
     "data": {
      "text/plain": [
       "b'1.0'"
      ]
     },
     "execution_count": 183,
     "metadata": {},
     "output_type": "execute_result"
    }
   ],
   "source": [
    "predictor.predict(test_review)"
   ]
  },
  {
   "cell_type": "markdown",
   "metadata": {},
   "source": [
    "Now that we know our endpoint is working as expected, we can set up the web page that will interact with it. If you don't have time to finish the project now, make sure to skip down to the end of this notebook and shut down your endpoint. You can deploy it again when you come back."
   ]
  },
  {
   "cell_type": "markdown",
   "metadata": {},
   "source": [
    "## Step 7 (again): Use the model for the web app\n",
    "\n",
    "> **TODO:** This entire section and the next contain tasks for you to complete, mostly using the AWS console.\n",
    "\n",
    "So far we have been accessing our model endpoint by constructing a predictor object which uses the endpoint and then just using the predictor object to perform inference. What if we wanted to create a web app which accessed our model? The way things are set up currently makes that not possible since in order to access a SageMaker endpoint the app would first have to authenticate with AWS using an IAM role which included access to SageMaker endpoints. However, there is an easier way! We just need to use some additional AWS services.\n",
    "\n",
    "<img src=\"Web App Diagram.svg\">\n",
    "\n",
    "The diagram above gives an overview of how the various services will work together. On the far right is the model which we trained above and which is deployed using SageMaker. On the far left is our web app that collects a user's movie review, sends it off and expects a positive or negative sentiment in return.\n",
    "\n",
    "In the middle is where some of the magic happens. We will construct a Lambda function, which you can think of as a straightforward Python function that can be executed whenever a specified event occurs. We will give this function permission to send and recieve data from a SageMaker endpoint.\n",
    "\n",
    "Lastly, the method we will use to execute the Lambda function is a new endpoint that we will create using API Gateway. This endpoint will be a url that listens for data to be sent to it. Once it gets some data it will pass that data on to the Lambda function and then return whatever the Lambda function returns. Essentially it will act as an interface that lets our web app communicate with the Lambda function.\n",
    "\n",
    "### Setting up a Lambda function\n",
    "\n",
    "The first thing we are going to do is set up a Lambda function. This Lambda function will be executed whenever our public API has data sent to it. When it is executed it will receive the data, perform any sort of processing that is required, send the data (the review) to the SageMaker endpoint we've created and then return the result.\n",
    "\n",
    "#### Part A: Create an IAM Role for the Lambda function\n",
    "\n",
    "Since we want the Lambda function to call a SageMaker endpoint, we need to make sure that it has permission to do so. To do this, we will construct a role that we can later give the Lambda function.\n",
    "\n",
    "Using the AWS Console, navigate to the **IAM** page and click on **Roles**. Then, click on **Create role**. Make sure that the **AWS service** is the type of trusted entity selected and choose **Lambda** as the service that will use this role, then click **Next: Permissions**.\n",
    "\n",
    "In the search box type `sagemaker` and select the check box next to the **AmazonSageMakerFullAccess** policy. Then, click on **Next: Review**.\n",
    "\n",
    "Lastly, give this role a name. Make sure you use a name that you will remember later on, for example `LambdaSageMakerRole`. Then, click on **Create role**.\n",
    "\n",
    "#### Part B: Create a Lambda function\n",
    "\n",
    "Now it is time to actually create the Lambda function.\n",
    "\n",
    "Using the AWS Console, navigate to the AWS Lambda page and click on **Create a function**. When you get to the next page, make sure that **Author from scratch** is selected. Now, name your Lambda function, using a name that you will remember later on, for example `sentiment_analysis_func`. Make sure that the **Python 3.6** runtime is selected and then choose the role that you created in the previous part. Then, click on **Create Function**.\n",
    "\n",
    "On the next page you will see some information about the Lambda function you've just created. If you scroll down you should see an editor in which you can write the code that will be executed when your Lambda function is triggered. In our example, we will use the code below. \n",
    "\n",
    "```python\n",
    "# We need to use the low-level library to interact with SageMaker since the SageMaker API\n",
    "# is not available natively through Lambda.\n",
    "import boto3\n",
    "\n",
    "def lambda_handler(event, context):\n",
    "\n",
    "    # The SageMaker runtime is what allows us to invoke the endpoint that we've created.\n",
    "    runtime = boto3.Session().client('sagemaker-runtime')\n",
    "\n",
    "    # Now we use the SageMaker runtime to invoke our endpoint, sending the review we were given\n",
    "    response = runtime.invoke_endpoint(EndpointName = '**ENDPOINT NAME HERE**',    # The name of the endpoint we created\n",
    "                                       ContentType = 'text/plain',                 # The data format that is expected\n",
    "                                       Body = event['body'])                       # The actual review\n",
    "\n",
    "    # The response is an HTTP response whose body contains the result of our inference\n",
    "    result = response['Body'].read().decode('utf-8')\n",
    "\n",
    "    return {\n",
    "        'statusCode' : 200,\n",
    "        'headers' : { 'Content-Type' : 'text/plain', 'Access-Control-Allow-Origin' : '*' },\n",
    "        'body' : result\n",
    "    }\n",
    "```\n",
    "\n",
    "Once you have copy and pasted the code above into the Lambda code editor, replace the `**ENDPOINT NAME HERE**` portion with the name of the endpoint that we deployed earlier. You can determine the name of the endpoint using the code cell below."
   ]
  },
  {
   "cell_type": "code",
   "execution_count": 132,
   "metadata": {},
   "outputs": [
    {
     "data": {
      "text/plain": [
       "'sagemaker-pytorch-2020-09-25-18-39-54-742'"
      ]
     },
     "execution_count": 132,
     "metadata": {},
     "output_type": "execute_result"
    }
   ],
   "source": [
    "predictor.endpoint"
   ]
  },
  {
   "cell_type": "markdown",
   "metadata": {},
   "source": [
    "Once you have added the endpoint name to the Lambda function, click on **Save**. Your Lambda function is now up and running. Next we need to create a way for our web app to execute the Lambda function.\n",
    "\n",
    "### Setting up API Gateway\n",
    "\n",
    "Now that our Lambda function is set up, it is time to create a new API using API Gateway that will trigger the Lambda function we have just created.\n",
    "\n",
    "Using AWS Console, navigate to **Amazon API Gateway** and then click on **Get started**.\n",
    "\n",
    "On the next page, make sure that **New API** is selected and give the new api a name, for example, `sentiment_analysis_api`. Then, click on **Create API**.\n",
    "\n",
    "Now we have created an API, however it doesn't currently do anything. What we want it to do is to trigger the Lambda function that we created earlier.\n",
    "\n",
    "Select the **Actions** dropdown menu and click **Create Method**. A new blank method will be created, select its dropdown menu and select **POST**, then click on the check mark beside it.\n",
    "\n",
    "For the integration point, make sure that **Lambda Function** is selected and click on the **Use Lambda Proxy integration**. This option makes sure that the data that is sent to the API is then sent directly to the Lambda function with no processing. It also means that the return value must be a proper response object as it will also not be processed by API Gateway.\n",
    "\n",
    "Type the name of the Lambda function you created earlier into the **Lambda Function** text entry box and then click on **Save**. Click on **OK** in the pop-up box that then appears, giving permission to API Gateway to invoke the Lambda function you created.\n",
    "\n",
    "The last step in creating the API Gateway is to select the **Actions** dropdown and click on **Deploy API**. You will need to create a new Deployment stage and name it anything you like, for example `prod`.\n",
    "\n",
    "You have now successfully set up a public API to access your SageMaker model. Make sure to copy or write down the URL provided to invoke your newly created public API as this will be needed in the next step. This URL can be found at the top of the page, highlighted in blue next to the text **Invoke URL**."
   ]
  },
  {
   "cell_type": "markdown",
   "metadata": {},
   "source": [
    "## Step 4: Deploying our web app\n",
    "\n",
    "Now that we have a publicly available API, we can start using it in a web app. For our purposes, we have provided a simple static html file which can make use of the public api you created earlier.\n",
    "\n",
    "In the `website` folder there should be a file called `index.html`. Download the file to your computer and open that file up in a text editor of your choice. There should be a line which contains **\\*\\*REPLACE WITH PUBLIC API URL\\*\\***. Replace this string with the url that you wrote down in the last step and then save the file.\n",
    "\n",
    "Now, if you open `index.html` on your local computer, your browser will behave as a local web server and you can use the provided site to interact with your SageMaker model.\n",
    "\n",
    "If you'd like to go further, you can host this html file anywhere you'd like, for example using github or hosting a static site on Amazon's S3. Once you have done this you can share the link with anyone you'd like and have them play with it too!\n",
    "\n",
    "> **Important Note** In order for the web app to communicate with the SageMaker endpoint, the endpoint has to actually be deployed and running. This means that you are paying for it. Make sure that the endpoint is running when you want to use the web app but that you shut it down when you don't need it, otherwise you will end up with a surprisingly large AWS bill.\n",
    "\n",
    "**TODO:** Make sure that you include the edited `index.html` file in your project submission."
   ]
  },
  {
   "cell_type": "markdown",
   "metadata": {},
   "source": [
    "Now that your web app is working, trying playing around with it and see how well it works.\n",
    "\n",
    "**Question**: Give an example of a review that you entered into your web app. What was the predicted sentiment of your example review?"
   ]
  },
  {
   "cell_type": "markdown",
   "metadata": {},
   "source": [
    "**Answer:**"
   ]
  },
  {
   "cell_type": "markdown",
   "metadata": {},
   "source": [
    "### Delete the endpoint\n",
    "\n",
    "Remember to always shut down your endpoint if you are no longer using it. You are charged for the length of time that the endpoint is running so if you forget and leave it on you could end up with an unexpectedly large bill."
   ]
  },
  {
   "cell_type": "code",
   "execution_count": 184,
   "metadata": {},
   "outputs": [],
   "source": [
    "predictor.delete_endpoint()"
   ]
  },
  {
   "cell_type": "code",
   "execution_count": null,
   "metadata": {},
   "outputs": [],
   "source": []
  }
 ],
 "metadata": {
  "kernelspec": {
   "display_name": "conda_pytorch_p36",
   "language": "python",
   "name": "conda_pytorch_p36"
  },
  "language_info": {
   "codemirror_mode": {
    "name": "ipython",
    "version": 3
   },
   "file_extension": ".py",
   "mimetype": "text/x-python",
   "name": "python",
   "nbconvert_exporter": "python",
   "pygments_lexer": "ipython3",
   "version": "3.6.10"
  }
 },
 "nbformat": 4,
 "nbformat_minor": 2
}
